{
 "cells": [
  {
   "cell_type": "markdown",
   "metadata": {},
   "source": [
    "## Seminar 1: Fun with Word Embeddings (3 points)\n",
    "\n",
    "Today we gonna play with word embeddings: train our own little embedding, load one from   gensim model zoo and use it to visualize text corpora.\n",
    "\n",
    "This whole thing is gonna happen on top of embedding dataset.\n",
    "\n",
    "__Requirements:__  `pip install --upgrade nltk gensim bokeh` , but only if you're running locally."
   ]
  },
  {
   "cell_type": "code",
   "execution_count": 1,
   "metadata": {},
   "outputs": [
    {
     "name": "stdout",
     "output_type": "stream",
     "text": [
      "--2019-09-22 23:14:11--  https://www.dropbox.com/s/obaitrix9jyu84r/quora.txt?dl=1\n",
      "Resolving www.dropbox.com (www.dropbox.com)... 162.125.70.1, 2620:100:6026:1::a27d:4601\n",
      "Connecting to www.dropbox.com (www.dropbox.com)|162.125.70.1|:443... connected.\n",
      "HTTP request sent, awaiting response... 301 Moved Permanently\n",
      "Location: /s/dl/obaitrix9jyu84r/quora.txt [following]\n",
      "--2019-09-22 23:14:11--  https://www.dropbox.com/s/dl/obaitrix9jyu84r/quora.txt\n",
      "Reusing existing connection to www.dropbox.com:443.\n",
      "HTTP request sent, awaiting response... 302 Found\n",
      "Location: https://uc4aeba5a8cb115fd5d70006d5ea.dl.dropboxusercontent.com/cd/0/get/ApDakkxEs6qHQZ8dwZXxHBNOTs0yPq10zTMjXr_3jkoxPaHn6O4SZnI3CVFXWBuml-xIbugIAxY124-I6zZRsGExGuO8W70Yh2uGAnDQwaMQ3Q/file?dl=1# [following]\n",
      "--2019-09-22 23:14:12--  https://uc4aeba5a8cb115fd5d70006d5ea.dl.dropboxusercontent.com/cd/0/get/ApDakkxEs6qHQZ8dwZXxHBNOTs0yPq10zTMjXr_3jkoxPaHn6O4SZnI3CVFXWBuml-xIbugIAxY124-I6zZRsGExGuO8W70Yh2uGAnDQwaMQ3Q/file?dl=1\n",
      "Resolving uc4aeba5a8cb115fd5d70006d5ea.dl.dropboxusercontent.com (uc4aeba5a8cb115fd5d70006d5ea.dl.dropboxusercontent.com)... 162.125.70.6, 2620:100:6026:6::a27d:4606\n",
      "Connecting to uc4aeba5a8cb115fd5d70006d5ea.dl.dropboxusercontent.com (uc4aeba5a8cb115fd5d70006d5ea.dl.dropboxusercontent.com)|162.125.70.6|:443... connected.\n",
      "HTTP request sent, awaiting response... 200 OK\n",
      "Length: 33813903 (32M) [application/binary]\n",
      "Saving to: ‘./quora.txt’\n",
      "\n",
      "./quora.txt         100%[===================>]  32,25M  9,83MB/s    in 3,4s    \n",
      "\n",
      "2019-09-22 23:14:16 (9,41 MB/s) - ‘./quora.txt’ saved [33813903/33813903]\n",
      "\n"
     ]
    }
   ],
   "source": [
    "# download the data:\n",
    "!wget https://www.dropbox.com/s/obaitrix9jyu84r/quora.txt?dl=1 -O ./quora.txt\n",
    "# alternative download link: https://yadi.sk/i/BPQrUu1NaTduEw"
   ]
  },
  {
   "cell_type": "code",
   "execution_count": 2,
   "metadata": {
    "scrolled": false
   },
   "outputs": [
    {
     "data": {
      "text/plain": [
       "\"What TV shows or books help you read people's body language?\\n\""
      ]
     },
     "execution_count": 2,
     "metadata": {},
     "output_type": "execute_result"
    }
   ],
   "source": [
    "import numpy as np\n",
    "\n",
    "data = list(open(\"./quora.txt\", encoding=\"utf-8\"))\n",
    "data[50]"
   ]
  },
  {
   "cell_type": "markdown",
   "metadata": {},
   "source": [
    "__Tokenization:__ a typical first step for an nlp task is to split raw data into words.\n",
    "The text we're working with is in raw format: with all the punctuation and smiles attached to some words, so a simple str.split won't do.\n",
    "\n",
    "Let's use __`nltk`__ - a library that handles many nlp tasks like tokenization, stemming or part-of-speech tagging."
   ]
  },
  {
   "cell_type": "code",
   "execution_count": 3,
   "metadata": {},
   "outputs": [
    {
     "name": "stdout",
     "output_type": "stream",
     "text": [
      "['What', 'TV', 'shows', 'or', 'books', 'help', 'you', 'read', 'people', \"'\", 's', 'body', 'language', '?']\n"
     ]
    }
   ],
   "source": [
    "from nltk.tokenize import WordPunctTokenizer\n",
    "tokenizer = WordPunctTokenizer()\n",
    "\n",
    "print(tokenizer.tokenize(data[50]))"
   ]
  },
  {
   "cell_type": "code",
   "execution_count": 4,
   "metadata": {},
   "outputs": [],
   "source": [
    "# TASK: lowercase everything and extract tokens with tokenizer. \n",
    "# data_tok should be a list of lists of tokens for each line in data.\n",
    "\n",
    "data_tok = [tokenizer.tokenize(u.lower()) for u in data]"
   ]
  },
  {
   "cell_type": "code",
   "execution_count": 5,
   "metadata": {},
   "outputs": [],
   "source": [
    "assert all(isinstance(row, (list, tuple)) for row in data_tok), \"please convert each line into a list of tokens (strings)\"\n",
    "assert all(all(isinstance(tok, str) for tok in row) for row in data_tok), \"please convert each line into a list of tokens (strings)\"\n",
    "is_latin = lambda tok: all('a' <= x.lower() <= 'z' for x in tok)\n",
    "assert all(map(lambda l: not is_latin(l) or l.islower(), map(' '.join, data_tok))), \"please make sure to lowercase the data\""
   ]
  },
  {
   "cell_type": "code",
   "execution_count": 6,
   "metadata": {},
   "outputs": [
    {
     "name": "stdout",
     "output_type": "stream",
     "text": [
      "[\"can i get back with my ex even though she is pregnant with another guy ' s baby ?\", 'what are some ways to overcome a fast food addiction ?']\n"
     ]
    }
   ],
   "source": [
    "print([' '.join(row) for row in data_tok[:2]])"
   ]
  },
  {
   "cell_type": "markdown",
   "metadata": {},
   "source": [
    "__Word vectors:__ as the saying goes, there's more than one way to train word embeddings. There's Word2Vec and GloVe with different objective functions. Then there's fasttext that uses character-level models to train word embeddings. \n",
    "\n",
    "The choice is huge, so let's start someplace small: __gensim__ is another nlp library that features many vector-based models incuding word2vec."
   ]
  },
  {
   "cell_type": "code",
   "execution_count": 7,
   "metadata": {},
   "outputs": [],
   "source": [
    "from gensim.models import Word2Vec\n",
    "model = Word2Vec(data_tok, \n",
    "                 size=32,      # embedding vector size\n",
    "                 min_count=5,  # consider words that occured at least 5 times\n",
    "                 window=5).wv  # define context as a 5-word window around the target word"
   ]
  },
  {
   "cell_type": "code",
   "execution_count": 8,
   "metadata": {},
   "outputs": [
    {
     "data": {
      "text/plain": [
       "array([-1.7912642e+00, -4.2751607e-02,  2.3930392e+00, -1.9206357e+00,\n",
       "       -1.8191214e+00, -1.1875527e+00, -3.5526925e-01,  3.8049974e+00,\n",
       "       -1.3532555e+00,  9.9727648e-01,  1.2638477e+00, -1.8640429e+00,\n",
       "        1.0883015e+00,  3.1882193e+00, -1.5662316e+00, -3.1100471e+00,\n",
       "       -8.6036241e-01, -3.0280161e+00, -3.4063780e-01, -1.6920475e-03,\n",
       "        3.7185659e+00, -3.9733558e+00,  4.4919080e-01, -8.9925569e-01,\n",
       "       -1.9438699e+00, -2.5892529e+00, -2.2493629e-01, -4.7529086e-02,\n",
       "        1.0399430e+00,  1.5945280e-01,  7.9234082e-01, -4.2615638e+00],\n",
       "      dtype=float32)"
      ]
     },
     "execution_count": 8,
     "metadata": {},
     "output_type": "execute_result"
    }
   ],
   "source": [
    "# now you can get word vectors !\n",
    "model.get_vector('anything')"
   ]
  },
  {
   "cell_type": "code",
   "execution_count": 9,
   "metadata": {},
   "outputs": [
    {
     "data": {
      "text/plain": [
       "[('rice', 0.946851372718811),\n",
       " ('cheese', 0.9306034445762634),\n",
       " ('butter', 0.9183666706085205),\n",
       " ('sauce', 0.9163393378257751),\n",
       " ('fruit', 0.9121607542037964),\n",
       " ('cream', 0.9037689566612244),\n",
       " ('honey', 0.9010499119758606),\n",
       " ('beans', 0.8993000388145447),\n",
       " ('vodka', 0.8985033631324768),\n",
       " ('chocolate', 0.8946813344955444)]"
      ]
     },
     "execution_count": 9,
     "metadata": {},
     "output_type": "execute_result"
    }
   ],
   "source": [
    "# or query similar words directly. Go play with it!\n",
    "model.most_similar('bread')"
   ]
  },
  {
   "cell_type": "markdown",
   "metadata": {},
   "source": [
    "### Using pre-trained model\n",
    "\n",
    "Took it a while, huh? Now imagine training life-sized (100~300D) word embeddings on gigabytes of text: wikipedia articles or twitter posts. \n",
    "\n",
    "Thankfully, nowadays you can get a pre-trained word embedding model in 2 lines of code (no sms required, promise)."
   ]
  },
  {
   "cell_type": "code",
   "execution_count": 10,
   "metadata": {},
   "outputs": [
    {
     "name": "stdout",
     "output_type": "stream",
     "text": [
      "[========================================----------] 81.2% 314.5/387.1MB downloaded"
     ]
    },
    {
     "name": "stderr",
     "output_type": "stream",
     "text": [
      "IOPub message rate exceeded.\n",
      "The notebook server will temporarily stop sending output\n",
      "to the client in order to avoid crashing it.\n",
      "To change this limit, set the config variable\n",
      "`--NotebookApp.iopub_msg_rate_limit`.\n",
      "\n",
      "Current values:\n",
      "NotebookApp.iopub_msg_rate_limit=1000.0 (msgs/sec)\n",
      "NotebookApp.rate_limit_window=3.0 (secs)\n",
      "\n"
     ]
    },
    {
     "name": "stdout",
     "output_type": "stream",
     "text": [
      "[==================================================] 100.0% 387.1/387.1MB downloaded\n"
     ]
    }
   ],
   "source": [
    "import gensim.downloader as api\n",
    "model = api.load('glove-twitter-100')"
   ]
  },
  {
   "cell_type": "code",
   "execution_count": 11,
   "metadata": {},
   "outputs": [
    {
     "data": {
      "text/plain": [
       "[('broker', 0.5820155143737793),\n",
       " ('bonuses', 0.5424473285675049),\n",
       " ('banker', 0.5385112762451172),\n",
       " ('designer', 0.5197198390960693),\n",
       " ('merchandising', 0.4964233338832855),\n",
       " ('treet', 0.49220192432403564),\n",
       " ('shopper', 0.4920561909675598),\n",
       " ('part-time', 0.49128279089927673),\n",
       " ('freelance', 0.4843312203884125),\n",
       " ('aupair', 0.4796452522277832)]"
      ]
     },
     "execution_count": 11,
     "metadata": {},
     "output_type": "execute_result"
    }
   ],
   "source": [
    "model.most_similar(positive=[\"coder\", \"money\"], negative=[\"brain\"])"
   ]
  },
  {
   "cell_type": "markdown",
   "metadata": {},
   "source": [
    "### Visualizing word vectors\n",
    "\n",
    "One way to see if our vectors are any good is to plot them. Thing is, those vectors are in 30D+ space and we humans are more used to 2-3D.\n",
    "\n",
    "Luckily, we machine learners know about __dimensionality reduction__ methods.\n",
    "\n",
    "Let's use that to plot 1000 most frequent words"
   ]
  },
  {
   "cell_type": "code",
   "execution_count": 12,
   "metadata": {},
   "outputs": [
    {
     "name": "stdout",
     "output_type": "stream",
     "text": [
      "['<user>', '_', 'please', 'apa', 'justin', 'text', 'hari', 'playing', 'once', 'sei']\n"
     ]
    }
   ],
   "source": [
    "words = sorted(model.vocab.keys(), \n",
    "               key=lambda word: model.vocab[word].count,\n",
    "               reverse=True)[:1000]\n",
    "\n",
    "print(words[::100])"
   ]
  },
  {
   "cell_type": "code",
   "execution_count": 31,
   "metadata": {
    "scrolled": true
   },
   "outputs": [],
   "source": [
    "# for each word, compute it's vector with model\n",
    "word_vectors = np.array([model.get_vector(word) for word in words])"
   ]
  },
  {
   "cell_type": "code",
   "execution_count": 32,
   "metadata": {},
   "outputs": [],
   "source": [
    "assert isinstance(word_vectors, np.ndarray)\n",
    "assert word_vectors.shape == (len(words), 100)\n",
    "assert np.isfinite(word_vectors).all()"
   ]
  },
  {
   "cell_type": "markdown",
   "metadata": {},
   "source": [
    "#### Linear projection: PCA\n",
    "\n",
    "The simplest linear dimensionality reduction method is __P__rincipial __C__omponent __A__nalysis.\n",
    "\n",
    "In geometric terms, PCA tries to find axes along which most of the variance occurs. The \"natural\" axes, if you wish.\n",
    "\n",
    "<img src=\"https://github.com/yandexdataschool/Practical_RL/raw/master/yet_another_week/_resource/pca_fish.png\" style=\"width:30%\">\n",
    "\n",
    "\n",
    "Under the hood, it attempts to decompose object-feature matrix $X$ into two smaller matrices: $W$ and $\\hat W$ minimizing _mean squared error_:\n",
    "\n",
    "$$\\|(X W) \\hat{W} - X\\|^2_2 \\to_{W, \\hat{W}} \\min$$\n",
    "- $X \\in \\mathbb{R}^{n \\times m}$ - object matrix (**centered**);\n",
    "- $W \\in \\mathbb{R}^{m \\times d}$ - matrix of direct transformation;\n",
    "- $\\hat{W} \\in \\mathbb{R}^{d \\times m}$ - matrix of reverse transformation;\n",
    "- $n$ samples, $m$ original dimensions and $d$ target dimensions;\n",
    "\n"
   ]
  },
  {
   "cell_type": "code",
   "execution_count": 68,
   "metadata": {},
   "outputs": [],
   "source": [
    "from sklearn.decomposition import PCA\n",
    "\n",
    "# map word vectors onto 2d plane with PCA. Use good old sklearn api (fit, transform)\n",
    "# after that, normalize vectors to make sure they have zero mean and unit variance\n",
    "word_vectors_pca = PCA(n_components=2).fit(word_vectors).transform(word_vectors)\n",
    "word_vectors_pca = (word_vectors_pca - word_vectors_pca.mean(0)) / word_vectors_pca.std(0)"
   ]
  },
  {
   "cell_type": "code",
   "execution_count": 69,
   "metadata": {},
   "outputs": [],
   "source": [
    "assert word_vectors_pca.shape == (len(word_vectors), 2), \"there must be a 2d vector for each word\"\n",
    "assert max(abs(word_vectors_pca.mean(0))) < 1e-5, \"points must be zero-centered\"\n",
    "assert max(abs(1.0 - word_vectors_pca.std(0))) < 1e-2, \"points must have unit variance\""
   ]
  },
  {
   "cell_type": "markdown",
   "metadata": {},
   "source": [
    "#### Let's draw it!"
   ]
  },
  {
   "cell_type": "code",
   "execution_count": 70,
   "metadata": {},
   "outputs": [
    {
     "data": {
      "text/html": [
       "\n",
       "    <div class=\"bk-root\">\n",
       "        <a href=\"https://bokeh.pydata.org\" target=\"_blank\" class=\"bk-logo bk-logo-small bk-logo-notebook\"></a>\n",
       "        <span id=\"1487\">Loading BokehJS ...</span>\n",
       "    </div>"
      ]
     },
     "metadata": {},
     "output_type": "display_data"
    },
    {
     "data": {
      "application/javascript": [
       "\n",
       "(function(root) {\n",
       "  function now() {\n",
       "    return new Date();\n",
       "  }\n",
       "\n",
       "  var force = true;\n",
       "\n",
       "  if (typeof root._bokeh_onload_callbacks === \"undefined\" || force === true) {\n",
       "    root._bokeh_onload_callbacks = [];\n",
       "    root._bokeh_is_loading = undefined;\n",
       "  }\n",
       "\n",
       "  var JS_MIME_TYPE = 'application/javascript';\n",
       "  var HTML_MIME_TYPE = 'text/html';\n",
       "  var EXEC_MIME_TYPE = 'application/vnd.bokehjs_exec.v0+json';\n",
       "  var CLASS_NAME = 'output_bokeh rendered_html';\n",
       "\n",
       "  /**\n",
       "   * Render data to the DOM node\n",
       "   */\n",
       "  function render(props, node) {\n",
       "    var script = document.createElement(\"script\");\n",
       "    node.appendChild(script);\n",
       "  }\n",
       "\n",
       "  /**\n",
       "   * Handle when an output is cleared or removed\n",
       "   */\n",
       "  function handleClearOutput(event, handle) {\n",
       "    var cell = handle.cell;\n",
       "\n",
       "    var id = cell.output_area._bokeh_element_id;\n",
       "    var server_id = cell.output_area._bokeh_server_id;\n",
       "    // Clean up Bokeh references\n",
       "    if (id != null && id in Bokeh.index) {\n",
       "      Bokeh.index[id].model.document.clear();\n",
       "      delete Bokeh.index[id];\n",
       "    }\n",
       "\n",
       "    if (server_id !== undefined) {\n",
       "      // Clean up Bokeh references\n",
       "      var cmd = \"from bokeh.io.state import curstate; print(curstate().uuid_to_server['\" + server_id + \"'].get_sessions()[0].document.roots[0]._id)\";\n",
       "      cell.notebook.kernel.execute(cmd, {\n",
       "        iopub: {\n",
       "          output: function(msg) {\n",
       "            var id = msg.content.text.trim();\n",
       "            if (id in Bokeh.index) {\n",
       "              Bokeh.index[id].model.document.clear();\n",
       "              delete Bokeh.index[id];\n",
       "            }\n",
       "          }\n",
       "        }\n",
       "      });\n",
       "      // Destroy server and session\n",
       "      var cmd = \"import bokeh.io.notebook as ion; ion.destroy_server('\" + server_id + \"')\";\n",
       "      cell.notebook.kernel.execute(cmd);\n",
       "    }\n",
       "  }\n",
       "\n",
       "  /**\n",
       "   * Handle when a new output is added\n",
       "   */\n",
       "  function handleAddOutput(event, handle) {\n",
       "    var output_area = handle.output_area;\n",
       "    var output = handle.output;\n",
       "\n",
       "    // limit handleAddOutput to display_data with EXEC_MIME_TYPE content only\n",
       "    if ((output.output_type != \"display_data\") || (!output.data.hasOwnProperty(EXEC_MIME_TYPE))) {\n",
       "      return\n",
       "    }\n",
       "\n",
       "    var toinsert = output_area.element.find(\".\" + CLASS_NAME.split(' ')[0]);\n",
       "\n",
       "    if (output.metadata[EXEC_MIME_TYPE][\"id\"] !== undefined) {\n",
       "      toinsert[toinsert.length - 1].firstChild.textContent = output.data[JS_MIME_TYPE];\n",
       "      // store reference to embed id on output_area\n",
       "      output_area._bokeh_element_id = output.metadata[EXEC_MIME_TYPE][\"id\"];\n",
       "    }\n",
       "    if (output.metadata[EXEC_MIME_TYPE][\"server_id\"] !== undefined) {\n",
       "      var bk_div = document.createElement(\"div\");\n",
       "      bk_div.innerHTML = output.data[HTML_MIME_TYPE];\n",
       "      var script_attrs = bk_div.children[0].attributes;\n",
       "      for (var i = 0; i < script_attrs.length; i++) {\n",
       "        toinsert[toinsert.length - 1].firstChild.setAttribute(script_attrs[i].name, script_attrs[i].value);\n",
       "      }\n",
       "      // store reference to server id on output_area\n",
       "      output_area._bokeh_server_id = output.metadata[EXEC_MIME_TYPE][\"server_id\"];\n",
       "    }\n",
       "  }\n",
       "\n",
       "  function register_renderer(events, OutputArea) {\n",
       "\n",
       "    function append_mime(data, metadata, element) {\n",
       "      // create a DOM node to render to\n",
       "      var toinsert = this.create_output_subarea(\n",
       "        metadata,\n",
       "        CLASS_NAME,\n",
       "        EXEC_MIME_TYPE\n",
       "      );\n",
       "      this.keyboard_manager.register_events(toinsert);\n",
       "      // Render to node\n",
       "      var props = {data: data, metadata: metadata[EXEC_MIME_TYPE]};\n",
       "      render(props, toinsert[toinsert.length - 1]);\n",
       "      element.append(toinsert);\n",
       "      return toinsert\n",
       "    }\n",
       "\n",
       "    /* Handle when an output is cleared or removed */\n",
       "    events.on('clear_output.CodeCell', handleClearOutput);\n",
       "    events.on('delete.Cell', handleClearOutput);\n",
       "\n",
       "    /* Handle when a new output is added */\n",
       "    events.on('output_added.OutputArea', handleAddOutput);\n",
       "\n",
       "    /**\n",
       "     * Register the mime type and append_mime function with output_area\n",
       "     */\n",
       "    OutputArea.prototype.register_mime_type(EXEC_MIME_TYPE, append_mime, {\n",
       "      /* Is output safe? */\n",
       "      safe: true,\n",
       "      /* Index of renderer in `output_area.display_order` */\n",
       "      index: 0\n",
       "    });\n",
       "  }\n",
       "\n",
       "  // register the mime type if in Jupyter Notebook environment and previously unregistered\n",
       "  if (root.Jupyter !== undefined) {\n",
       "    var events = require('base/js/events');\n",
       "    var OutputArea = require('notebook/js/outputarea').OutputArea;\n",
       "\n",
       "    if (OutputArea.prototype.mime_types().indexOf(EXEC_MIME_TYPE) == -1) {\n",
       "      register_renderer(events, OutputArea);\n",
       "    }\n",
       "  }\n",
       "\n",
       "  \n",
       "  if (typeof (root._bokeh_timeout) === \"undefined\" || force === true) {\n",
       "    root._bokeh_timeout = Date.now() + 5000;\n",
       "    root._bokeh_failed_load = false;\n",
       "  }\n",
       "\n",
       "  var NB_LOAD_WARNING = {'data': {'text/html':\n",
       "     \"<div style='background-color: #fdd'>\\n\"+\n",
       "     \"<p>\\n\"+\n",
       "     \"BokehJS does not appear to have successfully loaded. If loading BokehJS from CDN, this \\n\"+\n",
       "     \"may be due to a slow or bad network connection. Possible fixes:\\n\"+\n",
       "     \"</p>\\n\"+\n",
       "     \"<ul>\\n\"+\n",
       "     \"<li>re-rerun `output_notebook()` to attempt to load from CDN again, or</li>\\n\"+\n",
       "     \"<li>use INLINE resources instead, as so:</li>\\n\"+\n",
       "     \"</ul>\\n\"+\n",
       "     \"<code>\\n\"+\n",
       "     \"from bokeh.resources import INLINE\\n\"+\n",
       "     \"output_notebook(resources=INLINE)\\n\"+\n",
       "     \"</code>\\n\"+\n",
       "     \"</div>\"}};\n",
       "\n",
       "  function display_loaded() {\n",
       "    var el = document.getElementById(\"1487\");\n",
       "    if (el != null) {\n",
       "      el.textContent = \"BokehJS is loading...\";\n",
       "    }\n",
       "    if (root.Bokeh !== undefined) {\n",
       "      if (el != null) {\n",
       "        el.textContent = \"BokehJS \" + root.Bokeh.version + \" successfully loaded.\";\n",
       "      }\n",
       "    } else if (Date.now() < root._bokeh_timeout) {\n",
       "      setTimeout(display_loaded, 100)\n",
       "    }\n",
       "  }\n",
       "\n",
       "\n",
       "  function run_callbacks() {\n",
       "    try {\n",
       "      root._bokeh_onload_callbacks.forEach(function(callback) {\n",
       "        if (callback != null)\n",
       "          callback();\n",
       "      });\n",
       "    } finally {\n",
       "      delete root._bokeh_onload_callbacks\n",
       "    }\n",
       "    console.debug(\"Bokeh: all callbacks have finished\");\n",
       "  }\n",
       "\n",
       "  function load_libs(css_urls, js_urls, callback) {\n",
       "    if (css_urls == null) css_urls = [];\n",
       "    if (js_urls == null) js_urls = [];\n",
       "\n",
       "    root._bokeh_onload_callbacks.push(callback);\n",
       "    if (root._bokeh_is_loading > 0) {\n",
       "      console.debug(\"Bokeh: BokehJS is being loaded, scheduling callback at\", now());\n",
       "      return null;\n",
       "    }\n",
       "    if (js_urls == null || js_urls.length === 0) {\n",
       "      run_callbacks();\n",
       "      return null;\n",
       "    }\n",
       "    console.debug(\"Bokeh: BokehJS not loaded, scheduling load and callback at\", now());\n",
       "    root._bokeh_is_loading = css_urls.length + js_urls.length;\n",
       "\n",
       "    function on_load() {\n",
       "      root._bokeh_is_loading--;\n",
       "      if (root._bokeh_is_loading === 0) {\n",
       "        console.debug(\"Bokeh: all BokehJS libraries/stylesheets loaded\");\n",
       "        run_callbacks()\n",
       "      }\n",
       "    }\n",
       "\n",
       "    function on_error() {\n",
       "      console.error(\"failed to load \" + url);\n",
       "    }\n",
       "\n",
       "    for (var i = 0; i < css_urls.length; i++) {\n",
       "      var url = css_urls[i];\n",
       "      const element = document.createElement(\"link\");\n",
       "      element.onload = on_load;\n",
       "      element.onerror = on_error;\n",
       "      element.rel = \"stylesheet\";\n",
       "      element.type = \"text/css\";\n",
       "      element.href = url;\n",
       "      console.debug(\"Bokeh: injecting link tag for BokehJS stylesheet: \", url);\n",
       "      document.body.appendChild(element);\n",
       "    }\n",
       "\n",
       "    for (var i = 0; i < js_urls.length; i++) {\n",
       "      var url = js_urls[i];\n",
       "      var element = document.createElement('script');\n",
       "      element.onload = on_load;\n",
       "      element.onerror = on_error;\n",
       "      element.async = false;\n",
       "      element.src = url;\n",
       "      console.debug(\"Bokeh: injecting script tag for BokehJS library: \", url);\n",
       "      document.head.appendChild(element);\n",
       "    }\n",
       "  };var element = document.getElementById(\"1487\");\n",
       "  if (element == null) {\n",
       "    console.error(\"Bokeh: ERROR: autoload.js configured with elementid '1487' but no matching script tag was found. \")\n",
       "    return false;\n",
       "  }\n",
       "\n",
       "  function inject_raw_css(css) {\n",
       "    const element = document.createElement(\"style\");\n",
       "    element.appendChild(document.createTextNode(css));\n",
       "    document.body.appendChild(element);\n",
       "  }\n",
       "\n",
       "  var js_urls = [\"https://cdn.pydata.org/bokeh/release/bokeh-1.2.0.min.js\", \"https://cdn.pydata.org/bokeh/release/bokeh-widgets-1.2.0.min.js\", \"https://cdn.pydata.org/bokeh/release/bokeh-tables-1.2.0.min.js\", \"https://cdn.pydata.org/bokeh/release/bokeh-gl-1.2.0.min.js\"];\n",
       "  var css_urls = [\"https://cdn.pydata.org/bokeh/release/bokeh-1.2.0.min.css\", \"https://cdn.pydata.org/bokeh/release/bokeh-widgets-1.2.0.min.css\", \"https://cdn.pydata.org/bokeh/release/bokeh-tables-1.2.0.min.css\"];\n",
       "\n",
       "  var inline_js = [\n",
       "    function(Bokeh) {\n",
       "      Bokeh.set_log_level(\"info\");\n",
       "    },\n",
       "    \n",
       "    function(Bokeh) {\n",
       "      \n",
       "    },\n",
       "    function(Bokeh) {} // ensure no trailing comma for IE\n",
       "  ];\n",
       "\n",
       "  function run_inline_js() {\n",
       "    \n",
       "    if ((root.Bokeh !== undefined) || (force === true)) {\n",
       "      for (var i = 0; i < inline_js.length; i++) {\n",
       "        inline_js[i].call(root, root.Bokeh);\n",
       "      }if (force === true) {\n",
       "        display_loaded();\n",
       "      }} else if (Date.now() < root._bokeh_timeout) {\n",
       "      setTimeout(run_inline_js, 100);\n",
       "    } else if (!root._bokeh_failed_load) {\n",
       "      console.log(\"Bokeh: BokehJS failed to load within specified timeout.\");\n",
       "      root._bokeh_failed_load = true;\n",
       "    } else if (force !== true) {\n",
       "      var cell = $(document.getElementById(\"1487\")).parents('.cell').data().cell;\n",
       "      cell.output_area.append_execute_result(NB_LOAD_WARNING)\n",
       "    }\n",
       "\n",
       "  }\n",
       "\n",
       "  if (root._bokeh_is_loading === 0) {\n",
       "    console.debug(\"Bokeh: BokehJS loaded, going straight to plotting\");\n",
       "    run_inline_js();\n",
       "  } else {\n",
       "    load_libs(css_urls, js_urls, function() {\n",
       "      console.debug(\"Bokeh: BokehJS plotting callback run at\", now());\n",
       "      run_inline_js();\n",
       "    });\n",
       "  }\n",
       "}(window));"
      ],
      "application/vnd.bokehjs_load.v0+json": "\n(function(root) {\n  function now() {\n    return new Date();\n  }\n\n  var force = true;\n\n  if (typeof root._bokeh_onload_callbacks === \"undefined\" || force === true) {\n    root._bokeh_onload_callbacks = [];\n    root._bokeh_is_loading = undefined;\n  }\n\n  \n\n  \n  if (typeof (root._bokeh_timeout) === \"undefined\" || force === true) {\n    root._bokeh_timeout = Date.now() + 5000;\n    root._bokeh_failed_load = false;\n  }\n\n  var NB_LOAD_WARNING = {'data': {'text/html':\n     \"<div style='background-color: #fdd'>\\n\"+\n     \"<p>\\n\"+\n     \"BokehJS does not appear to have successfully loaded. If loading BokehJS from CDN, this \\n\"+\n     \"may be due to a slow or bad network connection. Possible fixes:\\n\"+\n     \"</p>\\n\"+\n     \"<ul>\\n\"+\n     \"<li>re-rerun `output_notebook()` to attempt to load from CDN again, or</li>\\n\"+\n     \"<li>use INLINE resources instead, as so:</li>\\n\"+\n     \"</ul>\\n\"+\n     \"<code>\\n\"+\n     \"from bokeh.resources import INLINE\\n\"+\n     \"output_notebook(resources=INLINE)\\n\"+\n     \"</code>\\n\"+\n     \"</div>\"}};\n\n  function display_loaded() {\n    var el = document.getElementById(\"1487\");\n    if (el != null) {\n      el.textContent = \"BokehJS is loading...\";\n    }\n    if (root.Bokeh !== undefined) {\n      if (el != null) {\n        el.textContent = \"BokehJS \" + root.Bokeh.version + \" successfully loaded.\";\n      }\n    } else if (Date.now() < root._bokeh_timeout) {\n      setTimeout(display_loaded, 100)\n    }\n  }\n\n\n  function run_callbacks() {\n    try {\n      root._bokeh_onload_callbacks.forEach(function(callback) {\n        if (callback != null)\n          callback();\n      });\n    } finally {\n      delete root._bokeh_onload_callbacks\n    }\n    console.debug(\"Bokeh: all callbacks have finished\");\n  }\n\n  function load_libs(css_urls, js_urls, callback) {\n    if (css_urls == null) css_urls = [];\n    if (js_urls == null) js_urls = [];\n\n    root._bokeh_onload_callbacks.push(callback);\n    if (root._bokeh_is_loading > 0) {\n      console.debug(\"Bokeh: BokehJS is being loaded, scheduling callback at\", now());\n      return null;\n    }\n    if (js_urls == null || js_urls.length === 0) {\n      run_callbacks();\n      return null;\n    }\n    console.debug(\"Bokeh: BokehJS not loaded, scheduling load and callback at\", now());\n    root._bokeh_is_loading = css_urls.length + js_urls.length;\n\n    function on_load() {\n      root._bokeh_is_loading--;\n      if (root._bokeh_is_loading === 0) {\n        console.debug(\"Bokeh: all BokehJS libraries/stylesheets loaded\");\n        run_callbacks()\n      }\n    }\n\n    function on_error() {\n      console.error(\"failed to load \" + url);\n    }\n\n    for (var i = 0; i < css_urls.length; i++) {\n      var url = css_urls[i];\n      const element = document.createElement(\"link\");\n      element.onload = on_load;\n      element.onerror = on_error;\n      element.rel = \"stylesheet\";\n      element.type = \"text/css\";\n      element.href = url;\n      console.debug(\"Bokeh: injecting link tag for BokehJS stylesheet: \", url);\n      document.body.appendChild(element);\n    }\n\n    for (var i = 0; i < js_urls.length; i++) {\n      var url = js_urls[i];\n      var element = document.createElement('script');\n      element.onload = on_load;\n      element.onerror = on_error;\n      element.async = false;\n      element.src = url;\n      console.debug(\"Bokeh: injecting script tag for BokehJS library: \", url);\n      document.head.appendChild(element);\n    }\n  };var element = document.getElementById(\"1487\");\n  if (element == null) {\n    console.error(\"Bokeh: ERROR: autoload.js configured with elementid '1487' but no matching script tag was found. \")\n    return false;\n  }\n\n  function inject_raw_css(css) {\n    const element = document.createElement(\"style\");\n    element.appendChild(document.createTextNode(css));\n    document.body.appendChild(element);\n  }\n\n  var js_urls = [\"https://cdn.pydata.org/bokeh/release/bokeh-1.2.0.min.js\", \"https://cdn.pydata.org/bokeh/release/bokeh-widgets-1.2.0.min.js\", \"https://cdn.pydata.org/bokeh/release/bokeh-tables-1.2.0.min.js\", \"https://cdn.pydata.org/bokeh/release/bokeh-gl-1.2.0.min.js\"];\n  var css_urls = [\"https://cdn.pydata.org/bokeh/release/bokeh-1.2.0.min.css\", \"https://cdn.pydata.org/bokeh/release/bokeh-widgets-1.2.0.min.css\", \"https://cdn.pydata.org/bokeh/release/bokeh-tables-1.2.0.min.css\"];\n\n  var inline_js = [\n    function(Bokeh) {\n      Bokeh.set_log_level(\"info\");\n    },\n    \n    function(Bokeh) {\n      \n    },\n    function(Bokeh) {} // ensure no trailing comma for IE\n  ];\n\n  function run_inline_js() {\n    \n    if ((root.Bokeh !== undefined) || (force === true)) {\n      for (var i = 0; i < inline_js.length; i++) {\n        inline_js[i].call(root, root.Bokeh);\n      }if (force === true) {\n        display_loaded();\n      }} else if (Date.now() < root._bokeh_timeout) {\n      setTimeout(run_inline_js, 100);\n    } else if (!root._bokeh_failed_load) {\n      console.log(\"Bokeh: BokehJS failed to load within specified timeout.\");\n      root._bokeh_failed_load = true;\n    } else if (force !== true) {\n      var cell = $(document.getElementById(\"1487\")).parents('.cell').data().cell;\n      cell.output_area.append_execute_result(NB_LOAD_WARNING)\n    }\n\n  }\n\n  if (root._bokeh_is_loading === 0) {\n    console.debug(\"Bokeh: BokehJS loaded, going straight to plotting\");\n    run_inline_js();\n  } else {\n    load_libs(css_urls, js_urls, function() {\n      console.debug(\"Bokeh: BokehJS plotting callback run at\", now());\n      run_inline_js();\n    });\n  }\n}(window));"
     },
     "metadata": {},
     "output_type": "display_data"
    }
   ],
   "source": [
    "import bokeh.models as bm, bokeh.plotting as pl\n",
    "from bokeh.io import output_notebook\n",
    "output_notebook()\n",
    "\n",
    "def draw_vectors(x, y, radius=10, alpha=0.25, color='blue',\n",
    "                 width=600, height=400, show=True, **kwargs):\n",
    "    \"\"\" draws an interactive plot for data points with auxilirary info on hover \"\"\"\n",
    "    if isinstance(color, str): color = [color] * len(x)\n",
    "    data_source = bm.ColumnDataSource({ 'x' : x, 'y' : y, 'color': color, **kwargs })\n",
    "\n",
    "    fig = pl.figure(active_scroll='wheel_zoom', width=width, height=height)\n",
    "    fig.scatter('x', 'y', size=radius, color='color', alpha=alpha, source=data_source)\n",
    "\n",
    "    fig.add_tools(bm.HoverTool(tooltips=[(key, \"@\" + key) for key in kwargs.keys()]))\n",
    "    if show: pl.show(fig)\n",
    "    return fig"
   ]
  },
  {
   "cell_type": "code",
   "execution_count": 71,
   "metadata": {},
   "outputs": [
    {
     "data": {
      "text/html": [
       "\n",
       "\n",
       "\n",
       "\n",
       "\n",
       "\n",
       "  <div class=\"bk-root\" id=\"acdc14df-677d-4a0f-97de-6a535db992bb\" data-root-id=\"1489\"></div>\n"
      ]
     },
     "metadata": {},
     "output_type": "display_data"
    },
    {
     "data": {
      "application/javascript": [
       "(function(root) {\n",
       "  function embed_document(root) {\n",
       "    \n",
       "  var docs_json = {\"a143dc43-dbfc-424c-969b-cb8ca86e24a2\":{\"roots\":{\"references\":[{\"attributes\":{\"below\":[{\"id\":\"1498\",\"type\":\"LinearAxis\"}],\"center\":[{\"id\":\"1502\",\"type\":\"Grid\"},{\"id\":\"1507\",\"type\":\"Grid\"}],\"left\":[{\"id\":\"1503\",\"type\":\"LinearAxis\"}],\"plot_height\":400,\"renderers\":[{\"id\":\"1524\",\"type\":\"GlyphRenderer\"}],\"title\":{\"id\":\"1564\",\"type\":\"Title\"},\"toolbar\":{\"id\":\"1514\",\"type\":\"Toolbar\"},\"x_range\":{\"id\":\"1490\",\"type\":\"DataRange1d\"},\"x_scale\":{\"id\":\"1494\",\"type\":\"LinearScale\"},\"y_range\":{\"id\":\"1492\",\"type\":\"DataRange1d\"},\"y_scale\":{\"id\":\"1496\",\"type\":\"LinearScale\"}},\"id\":\"1489\",\"subtype\":\"Figure\",\"type\":\"Plot\"},{\"attributes\":{},\"id\":\"1499\",\"type\":\"BasicTicker\"},{\"attributes\":{\"bottom_units\":\"screen\",\"fill_alpha\":{\"value\":0.5},\"fill_color\":{\"value\":\"lightgrey\"},\"left_units\":\"screen\",\"level\":\"overlay\",\"line_alpha\":{\"value\":1.0},\"line_color\":{\"value\":\"black\"},\"line_dash\":[4,4],\"line_width\":{\"value\":2},\"render_mode\":\"css\",\"right_units\":\"screen\",\"top_units\":\"screen\"},\"id\":\"1570\",\"type\":\"BoxAnnotation\"},{\"attributes\":{},\"id\":\"1571\",\"type\":\"Selection\"},{\"attributes\":{\"data_source\":{\"id\":\"1488\",\"type\":\"ColumnDataSource\"},\"glyph\":{\"id\":\"1522\",\"type\":\"Scatter\"},\"hover_glyph\":null,\"muted_glyph\":null,\"nonselection_glyph\":{\"id\":\"1523\",\"type\":\"Scatter\"},\"selection_glyph\":null,\"view\":{\"id\":\"1525\",\"type\":\"CDSView\"}},\"id\":\"1524\",\"type\":\"GlyphRenderer\"},{\"attributes\":{\"source\":{\"id\":\"1488\",\"type\":\"ColumnDataSource\"}},\"id\":\"1525\",\"type\":\"CDSView\"},{\"attributes\":{},\"id\":\"1494\",\"type\":\"LinearScale\"},{\"attributes\":{\"callback\":null,\"data\":{\"color\":[\"blue\",\"blue\",\"blue\",\"blue\",\"blue\",\"blue\",\"blue\",\"blue\",\"blue\",\"blue\",\"blue\",\"blue\",\"blue\",\"blue\",\"blue\",\"blue\",\"blue\",\"blue\",\"blue\",\"blue\",\"blue\",\"blue\",\"blue\",\"blue\",\"blue\",\"blue\",\"blue\",\"blue\",\"blue\",\"blue\",\"blue\",\"blue\",\"blue\",\"blue\",\"blue\",\"blue\",\"blue\",\"blue\",\"blue\",\"blue\",\"blue\",\"blue\",\"blue\",\"blue\",\"blue\",\"blue\",\"blue\",\"blue\",\"blue\",\"blue\",\"blue\",\"blue\",\"blue\",\"blue\",\"blue\",\"blue\",\"blue\",\"blue\",\"blue\",\"blue\",\"blue\",\"blue\",\"blue\",\"blue\",\"blue\",\"blue\",\"blue\",\"blue\",\"blue\",\"blue\",\"blue\",\"blue\",\"blue\",\"blue\",\"blue\",\"blue\",\"blue\",\"blue\",\"blue\",\"blue\",\"blue\",\"blue\",\"blue\",\"blue\",\"blue\",\"blue\",\"blue\",\"blue\",\"blue\",\"blue\",\"blue\",\"blue\",\"blue\",\"blue\",\"blue\",\"blue\",\"blue\",\"blue\",\"blue\",\"blue\",\"blue\",\"blue\",\"blue\",\"blue\",\"blue\",\"blue\",\"blue\",\"blue\",\"blue\",\"blue\",\"blue\",\"blue\",\"blue\",\"blue\",\"blue\",\"blue\",\"blue\",\"blue\",\"blue\",\"blue\",\"blue\",\"blue\",\"blue\",\"blue\",\"blue\",\"blue\",\"blue\",\"blue\",\"blue\",\"blue\",\"blue\",\"blue\",\"blue\",\"blue\",\"blue\",\"blue\",\"blue\",\"blue\",\"blue\",\"blue\",\"blue\",\"blue\",\"blue\",\"blue\",\"blue\",\"blue\",\"blue\",\"blue\",\"blue\",\"blue\",\"blue\",\"blue\",\"blue\",\"blue\",\"blue\",\"blue\",\"blue\",\"blue\",\"blue\",\"blue\",\"blue\",\"blue\",\"blue\",\"blue\",\"blue\",\"blue\",\"blue\",\"blue\",\"blue\",\"blue\",\"blue\",\"blue\",\"blue\",\"blue\",\"blue\",\"blue\",\"blue\",\"blue\",\"blue\",\"blue\",\"blue\",\"blue\",\"blue\",\"blue\",\"blue\",\"blue\",\"blue\",\"blue\",\"blue\",\"blue\",\"blue\",\"blue\",\"blue\",\"blue\",\"blue\",\"blue\",\"blue\",\"blue\",\"blue\",\"blue\",\"blue\",\"blue\",\"blue\",\"blue\",\"blue\",\"blue\",\"blue\",\"blue\",\"blue\",\"blue\",\"blue\",\"blue\",\"blue\",\"blue\",\"blue\",\"blue\",\"blue\",\"blue\",\"blue\",\"blue\",\"blue\",\"blue\",\"blue\",\"blue\",\"blue\",\"blue\",\"blue\",\"blue\",\"blue\",\"blue\",\"blue\",\"blue\",\"blue\",\"blue\",\"blue\",\"blue\",\"blue\",\"blue\",\"blue\",\"blue\",\"blue\",\"blue\",\"blue\",\"blue\",\"blue\",\"blue\",\"blue\",\"blue\",\"blue\",\"blue\",\"blue\",\"blue\",\"blue\",\"blue\",\"blue\",\"blue\",\"blue\",\"blue\",\"blue\",\"blue\",\"blue\",\"blue\",\"blue\",\"blue\",\"blue\",\"blue\",\"blue\",\"blue\",\"blue\",\"blue\",\"blue\",\"blue\",\"blue\",\"blue\",\"blue\",\"blue\",\"blue\",\"blue\",\"blue\",\"blue\",\"blue\",\"blue\",\"blue\",\"blue\",\"blue\",\"blue\",\"blue\",\"blue\",\"blue\",\"blue\",\"blue\",\"blue\",\"blue\",\"blue\",\"blue\",\"blue\",\"blue\",\"blue\",\"blue\",\"blue\",\"blue\",\"blue\",\"blue\",\"blue\",\"blue\",\"blue\",\"blue\",\"blue\",\"blue\",\"blue\",\"blue\",\"blue\",\"blue\",\"blue\",\"blue\",\"blue\",\"blue\",\"blue\",\"blue\",\"blue\",\"blue\",\"blue\",\"blue\",\"blue\",\"blue\",\"blue\",\"blue\",\"blue\",\"blue\",\"blue\",\"blue\",\"blue\",\"blue\",\"blue\",\"blue\",\"blue\",\"blue\",\"blue\",\"blue\",\"blue\",\"blue\",\"blue\",\"blue\",\"blue\",\"blue\",\"blue\",\"blue\",\"blue\",\"blue\",\"blue\",\"blue\",\"blue\",\"blue\",\"blue\",\"blue\",\"blue\",\"blue\",\"blue\",\"blue\",\"blue\",\"blue\",\"blue\",\"blue\",\"blue\",\"blue\",\"blue\",\"blue\",\"blue\",\"blue\",\"blue\",\"blue\",\"blue\",\"blue\",\"blue\",\"blue\",\"blue\",\"blue\",\"blue\",\"blue\",\"blue\",\"blue\",\"blue\",\"blue\",\"blue\",\"blue\",\"blue\",\"blue\",\"blue\",\"blue\",\"blue\",\"blue\",\"blue\",\"blue\",\"blue\",\"blue\",\"blue\",\"blue\",\"blue\",\"blue\",\"blue\",\"blue\",\"blue\",\"blue\",\"blue\",\"blue\",\"blue\",\"blue\",\"blue\",\"blue\",\"blue\",\"blue\",\"blue\",\"blue\",\"blue\",\"blue\",\"blue\",\"blue\",\"blue\",\"blue\",\"blue\",\"blue\",\"blue\",\"blue\",\"blue\",\"blue\",\"blue\",\"blue\",\"blue\",\"blue\",\"blue\",\"blue\",\"blue\",\"blue\",\"blue\",\"blue\",\"blue\",\"blue\",\"blue\",\"blue\",\"blue\",\"blue\",\"blue\",\"blue\",\"blue\",\"blue\",\"blue\",\"blue\",\"blue\",\"blue\",\"blue\",\"blue\",\"blue\",\"blue\",\"blue\",\"blue\",\"blue\",\"blue\",\"blue\",\"blue\",\"blue\",\"blue\",\"blue\",\"blue\",\"blue\",\"blue\",\"blue\",\"blue\",\"blue\",\"blue\",\"blue\",\"blue\",\"blue\",\"blue\",\"blue\",\"blue\",\"blue\",\"blue\",\"blue\",\"blue\",\"blue\",\"blue\",\"blue\",\"blue\",\"blue\",\"blue\",\"blue\",\"blue\",\"blue\",\"blue\",\"blue\",\"blue\",\"blue\",\"blue\",\"blue\",\"blue\",\"blue\",\"blue\",\"blue\",\"blue\",\"blue\",\"blue\",\"blue\",\"blue\",\"blue\",\"blue\",\"blue\",\"blue\",\"blue\",\"blue\",\"blue\",\"blue\",\"blue\",\"blue\",\"blue\",\"blue\",\"blue\",\"blue\",\"blue\",\"blue\",\"blue\",\"blue\",\"blue\",\"blue\",\"blue\",\"blue\",\"blue\",\"blue\",\"blue\",\"blue\",\"blue\",\"blue\",\"blue\",\"blue\",\"blue\",\"blue\",\"blue\",\"blue\",\"blue\",\"blue\",\"blue\",\"blue\",\"blue\",\"blue\",\"blue\",\"blue\",\"blue\",\"blue\",\"blue\",\"blue\",\"blue\",\"blue\",\"blue\",\"blue\",\"blue\",\"blue\",\"blue\",\"blue\",\"blue\",\"blue\",\"blue\",\"blue\",\"blue\",\"blue\",\"blue\",\"blue\",\"blue\",\"blue\",\"blue\",\"blue\",\"blue\",\"blue\",\"blue\",\"blue\",\"blue\",\"blue\",\"blue\",\"blue\",\"blue\",\"blue\",\"blue\",\"blue\",\"blue\",\"blue\",\"blue\",\"blue\",\"blue\",\"blue\",\"blue\",\"blue\",\"blue\",\"blue\",\"blue\",\"blue\",\"blue\",\"blue\",\"blue\",\"blue\",\"blue\",\"blue\",\"blue\",\"blue\",\"blue\",\"blue\",\"blue\",\"blue\",\"blue\",\"blue\",\"blue\",\"blue\",\"blue\",\"blue\",\"blue\",\"blue\",\"blue\",\"blue\",\"blue\",\"blue\",\"blue\",\"blue\",\"blue\",\"blue\",\"blue\",\"blue\",\"blue\",\"blue\",\"blue\",\"blue\",\"blue\",\"blue\",\"blue\",\"blue\",\"blue\",\"blue\",\"blue\",\"blue\",\"blue\",\"blue\",\"blue\",\"blue\",\"blue\",\"blue\",\"blue\",\"blue\",\"blue\",\"blue\",\"blue\",\"blue\",\"blue\",\"blue\",\"blue\",\"blue\",\"blue\",\"blue\",\"blue\",\"blue\",\"blue\",\"blue\",\"blue\",\"blue\",\"blue\",\"blue\",\"blue\",\"blue\",\"blue\",\"blue\",\"blue\",\"blue\",\"blue\",\"blue\",\"blue\",\"blue\",\"blue\",\"blue\",\"blue\",\"blue\",\"blue\",\"blue\",\"blue\",\"blue\",\"blue\",\"blue\",\"blue\",\"blue\",\"blue\",\"blue\",\"blue\",\"blue\",\"blue\",\"blue\",\"blue\",\"blue\",\"blue\",\"blue\",\"blue\",\"blue\",\"blue\",\"blue\",\"blue\",\"blue\",\"blue\",\"blue\",\"blue\",\"blue\",\"blue\",\"blue\",\"blue\",\"blue\",\"blue\",\"blue\",\"blue\",\"blue\",\"blue\",\"blue\",\"blue\",\"blue\",\"blue\",\"blue\",\"blue\",\"blue\",\"blue\",\"blue\",\"blue\",\"blue\",\"blue\",\"blue\",\"blue\",\"blue\",\"blue\",\"blue\",\"blue\",\"blue\",\"blue\",\"blue\",\"blue\",\"blue\",\"blue\",\"blue\",\"blue\",\"blue\",\"blue\",\"blue\",\"blue\",\"blue\",\"blue\",\"blue\",\"blue\",\"blue\",\"blue\",\"blue\",\"blue\",\"blue\",\"blue\",\"blue\",\"blue\",\"blue\",\"blue\",\"blue\",\"blue\",\"blue\",\"blue\",\"blue\",\"blue\",\"blue\",\"blue\",\"blue\",\"blue\",\"blue\",\"blue\",\"blue\",\"blue\",\"blue\",\"blue\",\"blue\",\"blue\",\"blue\",\"blue\",\"blue\",\"blue\",\"blue\",\"blue\",\"blue\",\"blue\",\"blue\",\"blue\",\"blue\",\"blue\",\"blue\",\"blue\",\"blue\",\"blue\",\"blue\",\"blue\",\"blue\",\"blue\",\"blue\",\"blue\",\"blue\",\"blue\",\"blue\",\"blue\",\"blue\",\"blue\",\"blue\",\"blue\",\"blue\",\"blue\",\"blue\",\"blue\",\"blue\",\"blue\",\"blue\",\"blue\",\"blue\",\"blue\",\"blue\",\"blue\",\"blue\",\"blue\",\"blue\",\"blue\",\"blue\",\"blue\",\"blue\",\"blue\",\"blue\",\"blue\",\"blue\",\"blue\",\"blue\",\"blue\",\"blue\",\"blue\",\"blue\",\"blue\",\"blue\",\"blue\",\"blue\",\"blue\",\"blue\",\"blue\",\"blue\",\"blue\",\"blue\",\"blue\",\"blue\",\"blue\",\"blue\",\"blue\",\"blue\",\"blue\",\"blue\",\"blue\",\"blue\",\"blue\",\"blue\",\"blue\",\"blue\",\"blue\",\"blue\",\"blue\",\"blue\",\"blue\",\"blue\",\"blue\",\"blue\",\"blue\",\"blue\",\"blue\",\"blue\",\"blue\",\"blue\",\"blue\",\"blue\",\"blue\",\"blue\",\"blue\",\"blue\",\"blue\",\"blue\",\"blue\",\"blue\",\"blue\",\"blue\",\"blue\",\"blue\",\"blue\",\"blue\",\"blue\",\"blue\",\"blue\",\"blue\",\"blue\",\"blue\",\"blue\",\"blue\",\"blue\",\"blue\",\"blue\",\"blue\",\"blue\",\"blue\",\"blue\",\"blue\",\"blue\",\"blue\",\"blue\",\"blue\",\"blue\",\"blue\",\"blue\",\"blue\",\"blue\",\"blue\",\"blue\",\"blue\",\"blue\",\"blue\",\"blue\",\"blue\",\"blue\",\"blue\",\"blue\",\"blue\",\"blue\",\"blue\",\"blue\",\"blue\",\"blue\",\"blue\",\"blue\",\"blue\",\"blue\",\"blue\",\"blue\",\"blue\",\"blue\",\"blue\",\"blue\",\"blue\",\"blue\",\"blue\",\"blue\",\"blue\",\"blue\",\"blue\",\"blue\",\"blue\",\"blue\",\"blue\",\"blue\",\"blue\",\"blue\",\"blue\",\"blue\",\"blue\",\"blue\",\"blue\",\"blue\",\"blue\",\"blue\",\"blue\",\"blue\",\"blue\",\"blue\",\"blue\",\"blue\",\"blue\",\"blue\",\"blue\",\"blue\",\"blue\",\"blue\",\"blue\",\"blue\",\"blue\",\"blue\",\"blue\",\"blue\",\"blue\",\"blue\",\"blue\",\"blue\",\"blue\",\"blue\",\"blue\",\"blue\",\"blue\",\"blue\",\"blue\",\"blue\",\"blue\",\"blue\",\"blue\",\"blue\",\"blue\",\"blue\",\"blue\",\"blue\",\"blue\",\"blue\"],\"token\":[\"<user>\",\".\",\":\",\"rt\",\",\",\"<repeat>\",\"<hashtag>\",\"<number>\",\"<url>\",\"!\",\"i\",\"a\",\"\\\"\",\"the\",\"?\",\"you\",\"to\",\"(\",\"<allcaps>\",\"<elong>\",\")\",\"me\",\"de\",\"<smile>\",\"\\uff01\",\"que\",\"and\",\"\\u3002\",\"-\",\"my\",\"no\",\"\\u3001\",\"is\",\"it\",\"\\u2026\",\"in\",\"n\",\"for\",\"/\",\"of\",\"la\",\"'s\",\"*\",\"do\",\"n't\",\"that\",\"on\",\"y\",\"'\",\"e\",\"o\",\"u\",\"en\",\"this\",\"el\",\"so\",\"be\",\"'m\",\"with\",\"just\",\">\",\"your\",\"^\",\"like\",\"have\",\"te\",\"at\",\"\\uff1f\",\"love\",\"se\",\"are\",\"<\",\"m\",\"r\",\"if\",\"all\",\"b\",\"\\u30fb\",\"not\",\"but\",\"we\",\"es\",\"ya\",\"&\",\"follow\",\"up\",\"what\",\"get\",\"lol\",\"un\",\"\\u2665\",\"lo\",\"when\",\"was\",\"\\u201c\",\"\\u201d\",\"one\",\"por\",\"si\",\"out\",\"_\",\"mi\",\"can\",\"<sadface>\",\"\\u0645\\u0646\",\"\\u2661\",\"\\u00b4\",\"he\",\"con\",\"they\",\"now\",\"go\",\"\\u060c\",\"para\",\"los\",\"know\",\"haha\",\"good\",\"tu\",\"back\",\"~\",\"about\",\"new\",\";\",\"as\",\"day\",\"how\",\"who\",\"will\",\"want\",\"people\",\"yo\",\"eu\",\"from\",\"di\",\"time\",\"<heart>\",\"s\",\"aku\",\"da\",\"'re\",\"<lolface>\",\"una\",\"got\",\"las\",\"more\",\"x\",\"she\",\"today\",\"\\uff08\",\">>\",\"k\",\"by\",\"or\",\"\\u0641\\u064a\",\"\\uff65\",\"too\",\"le\",\"\\u00e9\",\"|\",\"[\",\"\\uff09\",\"]\",\"see\",\"why\",\"yg\",\"ca\",\"como\",\"her\",\"\\u2014\",\"q\",\"need\",\"an\",\"na\",\"\\u7b11\",\"there\",\"\\u03c9\",\"happy\",\"im\",\"mas\",\"je\",\"life\",\"really\",\"make\",\"yang\",\"shit\",\"think\",\"t\",\"\\u2764\",\"n\\u00e3o\",\"never\",\"some\",\"\\uff5e\",\"oh\",\"\\u2605\",\"did\",\"would\",\"del\",\"`\",\"d\",\"please\",\"via\",\"much\",\"fuck\",\"al\",\"dia\",\"$\",\"\\u0648\",\"right\",\"best\",\"c\",\"going\",\"\\u0627\\u0644\\u0644\\u0647\",\"pero\",\"only\",\"has\",\"\\u266a\",\"'ll\",\"twitter\",\"=\",\"hahaha\",\"its\",\"nn\",\"\\uff40\",\"\\u00bf\",\"am\",\"say\",\"<neutralface>\",\"them\",\"here\",\"\\u0644\\u0627\",\"off\",\"still\",\"dan\",\"+\",\"night\",\"w\",\"ada\",\"someone\",\"even\",\"then\",\"\\u2606\",\"ni\",\"come\",\"com\",\"always\",\"man\",\"'ve\",\"been\",\"his\",\"itu\",\"\\u0639\\u0644\\u0649\",\"-_-\",\"\\u263a\",\"over\",\"um\",\"\\u0645\\u0627\",\"hate\",\"girl\",\"ai\",\"had\",\"pra\",\"todo\",\"mais\",\"feel\",\"let\",\"ini\",\"because\",\"\\uff9f\",\"thanks\",\"ah\",\"way\",\"ever\",\"look\",\"tweet\",\"followers\",\"should\",\"our\",\"xd\",\"aja\",\"esta\",\"school\",\"him\",\"ser\",\"take\",\"than\",\"video\",\"em\",\"last\",\"wanna\",\"does\",\"us\",\"miss\",\"l\",\"ga\",\"better\",\"well\",\"could\",\"\\u25bd\",\"%\",\"apa\",\"cuando\",\"team\",\"\\u2714\",\"@\",\"ok\",\"\\u061f\",\"\\u2022\",\"vida\",\"quiero\",\"les\",\"being\",\"real\",\"down\",\"kamu\",\"everyone\",\"gonna\",\"live\",\"tonight\",\"yes\",\"work\",\"ass\",\"retweet\",\"nada\",\"sama\",\"first\",\"<<\",\"photo\",\"tomorrow\",\"where\",\"god\",\"son\",\"ke\",\"ta\",\"f\",\"home\",\"lagi\",\"thank\",\"birthday\",\"\\u2588\",\"ha\",\"great\",\"lmao\",\"omg\",\"morning\",\"m\\u00e1s\",\"mau\",\"baby\",\"dont\",\"\\uff61\",\"their\",\"p\",\"things\",\"game\",\"pas\",\"bad\",\"year\",\"yeah\",\"su\",\"bitch\",\"\\u0432\",\"stop\",\"hoy\",\"something\",\"meu\",\"tak\",\"gak\",\"world\",\"amor\",\"h\",\"\\\\\",\"ver\",\"\\uff1b\",\"porque\",\"give\",\"these\",\"\\u0627\\u0644\\u0644\\u0647\\u0645\",\"were\",\"hay\",\"sleep\",\"gue\",\"every\",\"friends\",\"uma\",\"tell\",\"amo\",\"vou\",\"bien\",\"\\u00a1\",\"again\",\"\\uff3e\",\"\\uff0f\",\"done\",\"after\",\"todos\",\"girls\",\"guys\",\"getting\",\"big\",\"wait\",\"justin\",\"eh\",\"\\u2192\",\"kan\",\"kita\",\"jajaja\",\"wish\",\"said\",\"fucking\",\"show\",\"thing\",\"next\",\"voc\\u00ea\",\"nos\",\"little\",\"tengo\",\"keep\",\"person\",\"''\",\"\\u2200\",\"hope\",\"\\u0643\\u0644\",\"hey\",\"bisa\",\"free\",\"made\",\"foto\",\"va\",\"everything\",\"iya\",\"nigga\",\"eso\",\"et\",\"watch\",\"music\",\"week\",\"talk\",\"ne\",\"solo\",\"gente\",\"udah\",\"\\uff1a\",\"--\",\"\\uff3c\",\"mejor\",\"facebook\",\"ma\",\"v\",\"phone\",\"most\",\"same\",\"okay\",\"ik\",\"before\",\"minha\",\"days\",\"g\",\"ti\",\"damn\",\"nice\",\"voy\",\"vai\",\"call\",\"long\",\"tapi\",\"http\",\"sin\",\"nunca\",\"doing\",\"other\",\"find\",\"il\",\"sa\",\"sorry\",\"nya\",\"orang\",\"\\u00b0\",\"hard\",\"mean\",\"die\",\"\\u0627\\u0644\\u0644\\u064a\",\"tem\",\"soy\",\"este\",\"kalo\",\"s\\u00f3\",\"th\",\"win\",\"nothing\",\"into\",\"face\",\"cute\",\"'d\",\"gracias\",\"lah\",\"\\u0438\",\"any\",\"play\",\"\\u2190\",\"ko\",\"text\",\"\\u2323\",\"estoy\",\"tau\",\"ur\",\"buat\",\"#\",\"cause\",\"\\u044f\",\"put\",\"kau\",\"siempre\",\"juga\",\"casa\",\"\\u0623\\u0646\",\"help\",\"start\",\"feliz\",\"old\",\"ir\",\"very\",\"care\",\"bir\",\"makes\",\"song\",\"check\",\"watching\",\"ahora\",\"jadi\",\"os\",\"may\",\"friend\",\"beautiful\",\"heart\",\"ka\",\"vc\",\"mundo\",\"\\u043d\\u0430\",\"sure\",\"tan\",\"pretty\",\"aqui\",\"\\u043d\\u0435\",\"house\",\"\\u0631\\u062a\\u0648\\u064a\\u062a\",\"\\u064a\\u0627\",\"ja\",\"true\",\"muy\",\"away\",\"already\",\"actually\",\"believe\",\"try\",\"many\",\"ma\\u00f1ana\",\"mis\",\"lu\",\"those\",\"hot\",\"qu\\u00e9\",\"mal\",\"\\u0639\\u0646\",\"though\",\"ask\",\"amazing\",\"bed\",\"}\",\"two\",\"mom\",\"d\\u00eda\",\"ve\",\"dari\",\"gameinsight\",\"stay\",\"fun\",\"around\",\"van\",\"cont\",\"ready\",\"money\",\"bu\",\"funny\",\"cool\",\"hair\",\"\\u00e0\",\"tho\",\"{\",\"wo\",\"hi\",\"name\",\"tiene\",\"hahahaha\",\"pa\",\"algo\",\"gotta\",\"\\u0648\\u0644\\u0627\",\"boy\",\"another\",\"c'est\",\"hari\",\"jajajaja\",\"having\",\"cara\",\"jaja\",\"dm\",\"looking\",\"top\",\"android\",\"dah\",\"wow\",\"\\u2591\",\"eres\",\"ben\",\"must\",\"news\",\"met\",\"est\\u00e1\",\"nih\",\"family\",\"black\",\"thought\",\"nak\",\"super\",\"end\",\"hace\",\"remember\",\"ama\",\"party\",\"cant\",\"vamos\",\"anything\",\"anyone\",\"\\u0641\\u0648\\u0644\\u0648\",\"perfect\",\"guy\",\"vez\",\"christmas\",\"dos\",\"bueno\",\"nao\",\"years\",\"vote\",\"dormir\",\"bro\",\"else\",\"quien\",\"untuk\",\"jangan\",\"myself\",\"head\",\"mind\",\"gua\",\"talking\",\"while\",\"dat\",\"food\",\"\\u0434\",\"coming\",\"wkwk\",\"trying\",\"saya\",\"mucho\",\"without\",\"wrong\",\"\\u2019s\",\"baru\",\"__\",\"hehe\",\"hacer\",\"lot\",\"followed\",\"crazy\",\"hell\",\"feeling\",\"des\",\"kok\",\"j\",\"stats\",\"j'\",\"\\u0627\\u0646\",\"tweets\",\"non\",\"cosas\",\"era\",\"high\",\"niggas\",\"change\",\"movie\",\"xx\",\"mad\",\"sih\",\"sometimes\",\"deh\",\"allah\",\"through\",\"pour\",\"ela\",\"soon\",\"gone\",\"playing\",\"smile\",\"bukan\",\"tv\",\"fans\",\"hasta\",\"akan\",\"y'\",\"looks\",\"isso\",\"\\u270c\",\"tired\",\"boys\",\"might\",\"dong\",\"lg\",\"use\",\"maybe\",\"until\",\"menos\",\"own\",\"dengan\",\"eat\",\"ou\",\"weekend\",\"\\u02d8\",\"class\",\"ele\",\"harry\",\"iphone\",\"friday\",\"single\",\"ff\",\"awesome\",\"bout\",\"muito\",\"hoje\",\"\\u00ac\",\"dios\",\"such\",\"estar\",\"j\\u00e1\",\"quando\",\"esa\",\"making\",\"\\u2501\",\"times\",\"lmfao\",\"gw\",\"moment\",\"yet\",\"aw\",\"smh\",\"banget\",\"masih\",\"qui\",\"quem\",\"\\u2013\",\"leave\",\"du\",\"une\",\"guess\",\"hit\",\"\\u0441\",\"pm\",\"since\",\"pues\",\"est\",\"job\",\"\\uff89\",\"mana\",\"bom\",\"siapa\",\"suka\",\"bieber\",\"mention\",\"lebih\",\"favorite\",\"bitches\",\"forever\",\"\\u0644\\u064a\",\"final\",\"read\",\"alguien\",\"open\",\"yourself\",\"ese\",\"che\",\"sex\",\"yaa\",\"car\",\"direction\",\"tidak\",\"seu\",\"gets\",\"left\",\"re\",\"jam\",\"enough\",\"\\u0625\\u0644\\u0627\",\"once\",\"\\u2019\",\"part\",\"cada\",\"\\u5b9a\\u671f\",\"\\u0644\\u0643\",\"een\",\"seen\",\"kak\",\"as\\u00ed\",\"nem\",\"\\u0639\\u0645\\u0644\",\"white\",\"told\",\"says\",\"esto\",\"sad\",\"mo\",\"fue\",\"yah\",\"summer\",\"\\u0647\",\"\\u2b55\",\"\\u00bb\",\"thats\",\"\\u0645\\u0639\",\"posted\",\"wants\",\"agora\",\"together\",\"fan\",\"men\",\"hear\",\"full\",\"\\u2600\",\"sigo\",\"pq\",\"dulu\",\"plus\",\"foi\",\"tudo\",\"\\u0647\\u0648\",\"ill\",\"\\u3042\",\"thinking\",\"wtf\",\"pagi\",\"mama\",\"kalau\",\"hati\",\"sexy\",\"sayang\",\"baik\",\"semua\",\"hola\",\"went\",\"vos\",\"tanto\",\"finally\",\"fb\",\"sea\",\"stupid\",\"tus\",\"seriously\",\"hora\",\"min\",\"pic\",\"estas\",\"turn\",\"hours\",\"excited\",\"nah\",\"buy\",\"saying\",\"mah\",\"break\",\"needs\",\"ce\",\"room\",\"choice\",\"far\",\"dead\",\"quero\",\"saw\",\"kids\",\"lil\",\"whole\",\"puede\",\"fall\",\"sus\",\"lost\",\"asi\",\"word\",\"\\u2639\",\"also\",\"\\u0631\\u064a\\u062a\\u0648\\u064a\\u062a\",\"probably\",\"everybody\",\"tarde\",\"run\",\"sei\",\"follback\",\"forget\",\"sweet\",\"welcome\",\"selamat\",\"\\uff3f\",\"sur\",\"place\",\"gusta\",\"sabe\",\"androidgames\",\"tp\",\"tiempo\",\"\\u0628\\u0633\",\"sou\",\"tuh\",\"vs\",\"eyes\",\"\\u0627\\u0646\\u0627\",\"picture\",\"das\",\"meet\",\"anak\",\"persona\",\"essa\",\"bored\",\"following\",\"nadie\",\"nobody\",\"dice\",\"alone\",\"sick\",\"red\",\"city\",\"cinta\",\"\\u6708\",\"linda\",\"dream\",\"story\",\"km\",\"het\",\"waiting\",\"^_^\",\"mine\",\"\\u0447\\u0442\\u043e\",\"reason\",\"kk\",\"\\u0644\\u0648\",\"online\",\"fast\",\"udh\",\"wanted\",\"op\",\"others\",\"gay\",\"n\\u2019t\",\"used\",\"sem\",\"understand\",\"moi\",\"sm\",\"aint\",\"donde\",\"bem\",\"which\",\"ng\",\"followback\",\"punya\",\"late\",\"anda\",\"tidur\",\"puedo\",\"early\",\"nd\",\"personas\",\"banyak\",\"\\u2705\",\"\\u278a\",\"trust\",\"noche\",\"tl\",\"\\uff1e\",\"\\u00ab\",\"af\",\"move\",\"pro\",\"bring\",\"ku\",\"called\",\"relationship\",\"idk\",\"hurt\",\"st\",\"pernah\",\"pessoas\",\"hello\",\"uno\",\"unfollowers\",\"cry\"],\"x\":{\"__ndarray__\":\"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\",\"dtype\":\"float32\",\"shape\":[1000]},\"y\":{\"__ndarray__\":\"FDKVPlzgVz4pyLU+ulz/PnqlMb4Fl7U+82JnPn2sED8ydwU+Oz2WPbw04r6uq8i/wcKuPlO9DL8qi8O9z4eFvsipXL8BnGw/XxaZP2KE8j5rsYs/4bIAwIjVy78cmRg/xDqTP9HED8AVLNK+ae2NP+qK8T6kDby+HYbtv8qebD/BHPW+sElovjE0uT5Be62+OXzlPm39Fr8fGyA/AVkCv+ZLt7/9fTa/Eg81P1lXkb8kY/6+11Mbv6KNib68tpy/+6I5Pox4Ob+vMiC/gPr7PMzd3L+XwQq/nabtv+H4+b7x2em9roC3voFsC74166++MS+aPl3gor5CEZo/ATIDv08Bqr7QTb+/I3M0vbd5jD9Y+le+wdLPv7QnO79GpNM+A9GzvQMLQrwAZ4++UAGcvuXPxz1zQ5w/nzPhvqUw3749au++wyXHv0e+2j213mK94njiPqIONr4Boam+Q+u8vppX3b5Vg5y/dy3lPjDFvb4nwAG/Smskv343NT6VEoG9gAcbv30kB8Cgju++dyFjvk2soD8QZI6/buWHvr9i0D7SjrI/DSRcP1h+DD9Tcoq/vBztv0nUIr+Tb12+ojN9vlG1jz/JgYe/mFv2v/xKxb77rhs/fi58PZ7B+r7JmFq+SzOeP/Khxb47UoS99Oo6Pu3nmL9yekI9uAPEvvMs5L7cyQK/h0XUvlY3BL9Qr4u/BAywv1DQwr6E66o/dolpviZlxb5saCW+F3QYQPt7Jr9ALL++LxRUPyWw37+QVJK+H/H5v7obiL6TmAW+T2AAv9oebb6LN5s/2bKAPVtRk77suQa+mqxCvcCFwT8UArg/dl1hvkgMpr8Vz5i/oziIP2Okbz+HRZs/Kc1nP7ge474wT1G+u4MeQKjfqL6yiea/JKmXvvc4Cr87MIW/T/davgB7jj4a1fy+SO64P3T66b5DuLs/KuPxPqg7Q77EdCa/qqIKP6xJgL4efsK+zeGXPdxhKEDwwQK/Kneivm4UAL4wbK09beiNv70dEr/yRky/eteaP1Mjzj0kVRQ/Wv/qvs/kIL8KYre/+smzPw9LuL16rGg850jMPSVysb6T5g+/R1qbv8mKDT9sgoy7lIykP8S+lb5ubhQ+ArW0vm7h475RQHI/NOnJvy/g5r2vsqu/W5fYPYJpkr68TMm+nSsMP5pc8z7ZBpa+TEwKP2v+jj9IV8u/GTO8vvdGZz4XhIY/URvgvpDwwb435oM/5CLlvRcFp7xfsqw/6sqmPgwimb3xNAY/mzMaQJTsVT4TOzO+nhymPBukXz82k6+8LfGEv8pEiL8xl5y9Aw/BvgkG7771h/W+8+QLv5CNG0C2SMc/sBjAP8Ipej9OsV6+BdeLv2HBnj+lajW+qhR1vk48VL8/rwO/V3B2v3PP4r8Stoa/ZKcmvVVLkL5Dbx9ATG3bvuBhpT+kiBE/mcujPV2Asb7f0Q+/EVkyvywi2r0XpKE+DoryvpUyzb65TCa8A18FQAu95r+H0iS+xsC6vkLa0r9A7w6+qCayvuIoCb/ST4+/HbrAPQ3wmr7zZBK/cjOpvo246zzWmqO8DyUEQHqHoL2rheE7g+cTv5FCFUDsk1c+B0QPQGuG4r8i4gA9kN8bP/nv0z7Np6u++rekPwkfmD/pDOC/Q7q/v5d/X7/fJMe+kbs+v+xVWb7ZwyxAVqcFvqWn3L5BO4m+dHK1vqbImz4Lqb2+ekH/vunPLz8LA6C/Y8gTQGlZXD0uF4Y9yskCPpKjVb69he++7wWMvSJcwb/Fk4A/TxfJvg6x0TyIn1S+iEUdQJeVqD6CWdY+K/jzPg5lLr91GQ2+hU3vvvxs6r6oqAY/xJ7HvyCkCUDnYTa+IcmPvgETrz+VNOK+vHnYvSTYIb+ZYK892auLP2Dae758IgQ+p/cGvlJimL9ksTG/woFwPzHWA70Wl7C/a6FiPdsagr/q6vs/mhIdQPDvX76r6sy/M+P4PYCUUz+kQa2/6hiZPzwM+b/If/69njMOv9ODAD5lJA6/Jwiav38XJT71vBxAiKd2vs2xKb4JiV+/rMCHvrGcub9iDkm/4DrDv7h0mL9reuq9TbO0P2BUWz9rraQ+YqCwvsZkz79AMae9BLbDPlKx876s+Ka+gZSJvWQDbL8cpF8+Lv+RP2s4+D8kvxlArCWuv+O8AD9p/Gm+Dg9OvwPyT7+EKty+HszzPTwCZb9ShuC/iBgxv1jMvr8kohk+Pt6TvjgkEr7imq0/u0eJPQFtyz/8mLc9b5snQH56vD6rTaO+4Gx9PMYttb97oxa77bsOQFOiHL/vNs2/qDtRvl3fmL7/st69+HwMvcCZ+72mVJY+GgyGv9SBxL8aYR1AL9JgP6v2Jz8oqps/qPu8v6AXDL93Zm88i7STPp7JSD4nLYy+i4KPPX9Jdz40tNQ+KLkhvl4rar9IuuK9Ha8SP38IWr/Xg2S91auLPvnwyb8mQWe/evxtvKnXkr0olxtAC2fZPh/Gvb+1bNC/opGfvo8Rnr5nqO2+tZYav57YbD7DcFM+YpsEQNR0KUBoN3s/hhrAvmK4Xr7Ui8M+pxLDPyl5Tr/U8L+/3VnFvyLZG0Bw2IO/RLUNPxLLLz5iKaC9s2gJv2xPYL/4CE0+LIbkvke/m792Y+U/iJd+Px4+/r7G8jK/TalGP0uYmT8UWbU+0E4ZQPYeyr/8kBBAI94VvmoaEECjYrs++rIVv980kD+eDvc9YjkEQESwzr9kvR1AYYC9vymNSD+TU6o7qLhdPk6PqL8Cjpu+1Fy3v+WJO75lt3s+z1wUP3GJD7+u1x6+XEelPmAUt77EWcS/4xoUQBl2uL/XV9c8jTWZvVpnVb3x0++9rpGuP4J+Vb/SaMS/Qd1yP9bSv7pnxnm/wL6JvqabtL+d4ZA/2LbgvvyUjz+Ta5I/k5CRvRUAF778qL+/peMePYYcQ75OPoS+6kAjv0rEhj7GPZ2+4GSxv0VwsL85Zr8/yxisvtlg7bubsNa/va6Mv1FE5T/f+Z2+b/8jv7GRPD1eNAW7n92pPy17t75bPhw+wnqgv51mC79nrRBAqWbaPoqBRT4fPws++/DHvrOfMb/wsEc/PejFPR+HiL5n24Y/ybp+vlCNH74i01q99s43v9w6tT0ZSKI/USl5PiOsnj7TKhY9CnPGv0xHgT4K+tK+bPPQv1U0B78iAJU/w6b8vairn7576n6+t7IdQFtro7/89tG+oihIvgNgob8J+UE+XMTAvm+TWr7t4MU+PSL1P5/UOD6DCS4+Egexv7AKoT5S7cK8Uq1JPlQxrj6skNO/VAwRQJLEIb1uhKm+2FCbvuuz2j9wBbS+oWt7PfsE0b8xoJq+bJnEPhsScL5TfFq+5AS+vx+2ML4vlt69xbumPy6MmD3gUJ2+AjLHv6qOUD18Z9G/4du7v5hyf7+rn0C+ErRCvS3Erb+0jN0+2F9jvhDnx79wRBFACIcgQILrlb6nQvG9bFCfPMHeB0CpfbG+rgvIviAQFr66Xle8cTjIP5yIOL6qmwJAujrRvnTcFUCt98C/kVM8viFbir05Gb2+CG8SQOQNoT8TlpE/5YLFv0708b1J6tA+p+vlvkW5ZL6q5Oo9/IFrvm/XEUBSUZA963qvPQopir42Cj8/TSJqvwA7sb4WzMO/XbWlvxdkP74wFQ+/jol3vnblDb5hpnA9SFYuvugDD0AB+KI9+l4MQPdCxj/53tO+xCXSvthRX7/a25A9hhNfvvHPar4rSaM+yN0QQCGvgr3YHo69M1C7v90EEkC+aAe/+3wYv3oHYb8r8gs+VCoDPgYyNr7gGAW/FssJQFKyAUDfhCu/t+l2PEJpKb4jwrm/miDjvp3wCUAle4q9r+GEv1iIzD4qsxFAe6A/PrkYZ79S0lq/q/ouvSxod70sSfg+V12EPgiViT6HBr++zSdNv9zgK7/sew8/zHi/v7TNpb4VHNG/g1tOv4p8hL+IpaG/UMq6vlpLPT9dSOm+kwLkvgNrDUBF4fY9IHBkvvkPUb5mcPO9bscYQFERG0Dk+Da/ugBMv+VgZL3tLIa9DrXcvW6tEL+Rd8u9SZALv3mfhj+FKLo9DESdvvi2ub9aHwa/lOIXPtVvyT8VTNo/bEcHPJaQEkB2XRJAtOkuv3g4nj9bHB5AOy6BPhCwNL+GRcy+itqHP5TQQb/nt4o+BOXBv0DH0D7GeG69KLG8v81VXb8Gjfa9qBK9P/SWkb5TaTa/484eQC/UUL/zpay+RNdNvqYOYb/KnMU/yGvhvcvKjD8yXRi/vBpVPpQRGz51+sS/nvR6P/7Stj/88/M9p4mYvgPlAEDgpqu/JADvvluWiT81nu+9SoTYvn+Glb7ZNMy/oLhCvW2glD6JHLy/7e/lPzofFb7JsJk/F9JuP/AxTD+ctWS+sb7OP02ecr0DgxW//JVKv7CrNL7M3Qu/zP+SPsDAeL6j55k9ohMhP+dbc7/XDZO/q0oTQKMCrT0t2la/2/9Zv0Fdyz9va4u+evaSPwZcMT4Dbwq/0WkVQDTn5D3YmRFAUpofQIritL7eCRVAEUEiQAT9GkAXzWa/sdvLvoCNlb/e5cu/PGvyPQtGBD20sKK/doeevRGoqr95FRU9NNy9v30xBz+bDNw+qkfCv8kAYr36iCm9Qy/MPcuSMT91YD6+Lh+ovtjCyD/q8Ig9rsM6v/e3cz4R/Rk9AsSRvqXwvb0TGfu+YH1vv/298z2Ia+W+3Sq+vqeRNr5iR8a/yuOXvtmfpL9E3Ti+S29sv3HuDb7psGw/3P4VvkBsmj+ebfe++Qz0vf/1qb9I/Cq+ti5Jv0L62D8PsZA9CQsXP2Yd5T5rKQ9AuENDP5Z0Er9CYca+e3vBv5eLzL9jQSc/nbHsP6K3sr9eicU/AytDvx0T+T8tKYm9v8davZRhrz+WgEk89cCXv4BsW74XyAtAP4mxv6Z8Vb+Roaw97VChPmFau79FPFm+wZC7v4dxqr6zVE49oDD+vlOZFTzfXABA6GhdP/E0cr9Su38+SX26vcx5tj8hZK8+MNR7PpKiiz92DKy9wWV+P5E1HL6alRg/nDmlP6qasj2ntv89WjsQQJzCIL87k58+58HbPaIWT78iR6u+SynXvgB21b5kxjq+pBlgvhlXzT8D8MS+d33Av8OjA79873++nokZP+JDOD+VbRJACJgGv2UPHz+rFx5Are/AvwrX/L1S1gY+WCy5vx21GEDtW/E+/64sPycdLz09w6y/cg2sPoxdYj8rJc4+8oy3vkS5Hj9zIke/fAWgvqqM+T9Ow6a+aSmePo3FAr67ZQS9ybpLPtm4HkBZJ2W/DRzePiybqr90DpA+ocwCvg==\",\"dtype\":\"float32\",\"shape\":[1000]}},\"selected\":{\"id\":\"1571\",\"type\":\"Selection\"},\"selection_policy\":{\"id\":\"1572\",\"type\":\"UnionRenderers\"}},\"id\":\"1488\",\"type\":\"ColumnDataSource\"},{\"attributes\":{\"fill_alpha\":{\"value\":0.1},\"fill_color\":{\"value\":\"#1f77b4\"},\"line_alpha\":{\"value\":0.1},\"line_color\":{\"value\":\"#1f77b4\"},\"size\":{\"units\":\"screen\",\"value\":10},\"x\":{\"field\":\"x\"},\"y\":{\"field\":\"y\"}},\"id\":\"1523\",\"type\":\"Scatter\"},{\"attributes\":{\"text\":\"\"},\"id\":\"1564\",\"type\":\"Title\"},{\"attributes\":{\"formatter\":{\"id\":\"1568\",\"type\":\"BasicTickFormatter\"},\"ticker\":{\"id\":\"1504\",\"type\":\"BasicTicker\"}},\"id\":\"1503\",\"type\":\"LinearAxis\"},{\"attributes\":{},\"id\":\"1509\",\"type\":\"WheelZoomTool\"},{\"attributes\":{\"active_drag\":\"auto\",\"active_inspect\":\"auto\",\"active_multi\":null,\"active_scroll\":{\"id\":\"1509\",\"type\":\"WheelZoomTool\"},\"active_tap\":\"auto\",\"tools\":[{\"id\":\"1508\",\"type\":\"PanTool\"},{\"id\":\"1509\",\"type\":\"WheelZoomTool\"},{\"id\":\"1510\",\"type\":\"BoxZoomTool\"},{\"id\":\"1511\",\"type\":\"SaveTool\"},{\"id\":\"1512\",\"type\":\"ResetTool\"},{\"id\":\"1513\",\"type\":\"HelpTool\"},{\"id\":\"1526\",\"type\":\"HoverTool\"}]},\"id\":\"1514\",\"type\":\"Toolbar\"},{\"attributes\":{},\"id\":\"1566\",\"type\":\"BasicTickFormatter\"},{\"attributes\":{},\"id\":\"1513\",\"type\":\"HelpTool\"},{\"attributes\":{},\"id\":\"1504\",\"type\":\"BasicTicker\"},{\"attributes\":{},\"id\":\"1512\",\"type\":\"ResetTool\"},{\"attributes\":{},\"id\":\"1572\",\"type\":\"UnionRenderers\"},{\"attributes\":{\"dimension\":1,\"ticker\":{\"id\":\"1504\",\"type\":\"BasicTicker\"}},\"id\":\"1507\",\"type\":\"Grid\"},{\"attributes\":{},\"id\":\"1511\",\"type\":\"SaveTool\"},{\"attributes\":{\"callback\":null},\"id\":\"1490\",\"type\":\"DataRange1d\"},{\"attributes\":{\"ticker\":{\"id\":\"1499\",\"type\":\"BasicTicker\"}},\"id\":\"1502\",\"type\":\"Grid\"},{\"attributes\":{},\"id\":\"1508\",\"type\":\"PanTool\"},{\"attributes\":{},\"id\":\"1568\",\"type\":\"BasicTickFormatter\"},{\"attributes\":{\"fill_alpha\":{\"value\":0.25},\"fill_color\":{\"field\":\"color\"},\"line_alpha\":{\"value\":0.25},\"line_color\":{\"field\":\"color\"},\"size\":{\"units\":\"screen\",\"value\":10},\"x\":{\"field\":\"x\"},\"y\":{\"field\":\"y\"}},\"id\":\"1522\",\"type\":\"Scatter\"},{\"attributes\":{\"overlay\":{\"id\":\"1570\",\"type\":\"BoxAnnotation\"}},\"id\":\"1510\",\"type\":\"BoxZoomTool\"},{\"attributes\":{\"callback\":null,\"tooltips\":[[\"token\",\"@token\"]]},\"id\":\"1526\",\"type\":\"HoverTool\"},{\"attributes\":{\"formatter\":{\"id\":\"1566\",\"type\":\"BasicTickFormatter\"},\"ticker\":{\"id\":\"1499\",\"type\":\"BasicTicker\"}},\"id\":\"1498\",\"type\":\"LinearAxis\"},{\"attributes\":{\"callback\":null},\"id\":\"1492\",\"type\":\"DataRange1d\"},{\"attributes\":{},\"id\":\"1496\",\"type\":\"LinearScale\"}],\"root_ids\":[\"1489\"]},\"title\":\"Bokeh Application\",\"version\":\"1.2.0\"}};\n",
       "  var render_items = [{\"docid\":\"a143dc43-dbfc-424c-969b-cb8ca86e24a2\",\"roots\":{\"1489\":\"acdc14df-677d-4a0f-97de-6a535db992bb\"}}];\n",
       "  root.Bokeh.embed.embed_items_notebook(docs_json, render_items);\n",
       "\n",
       "  }\n",
       "  if (root.Bokeh !== undefined) {\n",
       "    embed_document(root);\n",
       "  } else {\n",
       "    var attempts = 0;\n",
       "    var timer = setInterval(function(root) {\n",
       "      if (root.Bokeh !== undefined) {\n",
       "        embed_document(root);\n",
       "        clearInterval(timer);\n",
       "      }\n",
       "      attempts++;\n",
       "      if (attempts > 100) {\n",
       "        console.log(\"Bokeh: ERROR: Unable to run BokehJS code because BokehJS library is missing\");\n",
       "        clearInterval(timer);\n",
       "      }\n",
       "    }, 10, root)\n",
       "  }\n",
       "})(window);"
      ],
      "application/vnd.bokehjs_exec.v0+json": ""
     },
     "metadata": {
      "application/vnd.bokehjs_exec.v0+json": {
       "id": "1489"
      }
     },
     "output_type": "display_data"
    },
    {
     "data": {
      "text/html": [
       "<div style=\"display: table;\"><div style=\"display: table-row;\"><div style=\"display: table-cell;\"><b title=\"bokeh.plotting.figure.Figure\">Figure</b>(</div><div style=\"display: table-cell;\">id&nbsp;=&nbsp;'1489', <span id=\"1628\" style=\"cursor: pointer;\">&hellip;)</span></div></div><div class=\"1627\" style=\"display: none;\"><div style=\"display: table-cell;\"></div><div style=\"display: table-cell;\">above&nbsp;=&nbsp;[],</div></div><div class=\"1627\" style=\"display: none;\"><div style=\"display: table-cell;\"></div><div style=\"display: table-cell;\">align&nbsp;=&nbsp;'start',</div></div><div class=\"1627\" style=\"display: none;\"><div style=\"display: table-cell;\"></div><div style=\"display: table-cell;\">aspect_ratio&nbsp;=&nbsp;None,</div></div><div class=\"1627\" style=\"display: none;\"><div style=\"display: table-cell;\"></div><div style=\"display: table-cell;\">aspect_scale&nbsp;=&nbsp;1,</div></div><div class=\"1627\" style=\"display: none;\"><div style=\"display: table-cell;\"></div><div style=\"display: table-cell;\">background&nbsp;=&nbsp;None,</div></div><div class=\"1627\" style=\"display: none;\"><div style=\"display: table-cell;\"></div><div style=\"display: table-cell;\">background_fill_alpha&nbsp;=&nbsp;{'value': 1.0},</div></div><div class=\"1627\" style=\"display: none;\"><div style=\"display: table-cell;\"></div><div style=\"display: table-cell;\">background_fill_color&nbsp;=&nbsp;{'value': '#ffffff'},</div></div><div class=\"1627\" style=\"display: none;\"><div style=\"display: table-cell;\"></div><div style=\"display: table-cell;\">below&nbsp;=&nbsp;[LinearAxis(id='1498', ...)],</div></div><div class=\"1627\" style=\"display: none;\"><div style=\"display: table-cell;\"></div><div style=\"display: table-cell;\">border_fill_alpha&nbsp;=&nbsp;{'value': 1.0},</div></div><div class=\"1627\" style=\"display: none;\"><div style=\"display: table-cell;\"></div><div style=\"display: table-cell;\">border_fill_color&nbsp;=&nbsp;{'value': '#ffffff'},</div></div><div class=\"1627\" style=\"display: none;\"><div style=\"display: table-cell;\"></div><div style=\"display: table-cell;\">center&nbsp;=&nbsp;[Grid(id='1502', ...), Grid(id='1507', ...)],</div></div><div class=\"1627\" style=\"display: none;\"><div style=\"display: table-cell;\"></div><div style=\"display: table-cell;\">css_classes&nbsp;=&nbsp;[],</div></div><div class=\"1627\" style=\"display: none;\"><div style=\"display: table-cell;\"></div><div style=\"display: table-cell;\">disabled&nbsp;=&nbsp;False,</div></div><div class=\"1627\" style=\"display: none;\"><div style=\"display: table-cell;\"></div><div style=\"display: table-cell;\">extra_x_ranges&nbsp;=&nbsp;{},</div></div><div class=\"1627\" style=\"display: none;\"><div style=\"display: table-cell;\"></div><div style=\"display: table-cell;\">extra_y_ranges&nbsp;=&nbsp;{},</div></div><div class=\"1627\" style=\"display: none;\"><div style=\"display: table-cell;\"></div><div style=\"display: table-cell;\">frame_height&nbsp;=&nbsp;None,</div></div><div class=\"1627\" style=\"display: none;\"><div style=\"display: table-cell;\"></div><div style=\"display: table-cell;\">frame_width&nbsp;=&nbsp;None,</div></div><div class=\"1627\" style=\"display: none;\"><div style=\"display: table-cell;\"></div><div style=\"display: table-cell;\">height&nbsp;=&nbsp;None,</div></div><div class=\"1627\" style=\"display: none;\"><div style=\"display: table-cell;\"></div><div style=\"display: table-cell;\">height_policy&nbsp;=&nbsp;'auto',</div></div><div class=\"1627\" style=\"display: none;\"><div style=\"display: table-cell;\"></div><div style=\"display: table-cell;\">hidpi&nbsp;=&nbsp;True,</div></div><div class=\"1627\" style=\"display: none;\"><div style=\"display: table-cell;\"></div><div style=\"display: table-cell;\">js_event_callbacks&nbsp;=&nbsp;{},</div></div><div class=\"1627\" style=\"display: none;\"><div style=\"display: table-cell;\"></div><div style=\"display: table-cell;\">js_property_callbacks&nbsp;=&nbsp;{},</div></div><div class=\"1627\" style=\"display: none;\"><div style=\"display: table-cell;\"></div><div style=\"display: table-cell;\">left&nbsp;=&nbsp;[LinearAxis(id='1503', ...)],</div></div><div class=\"1627\" style=\"display: none;\"><div style=\"display: table-cell;\"></div><div style=\"display: table-cell;\">lod_factor&nbsp;=&nbsp;10,</div></div><div class=\"1627\" style=\"display: none;\"><div style=\"display: table-cell;\"></div><div style=\"display: table-cell;\">lod_interval&nbsp;=&nbsp;300,</div></div><div class=\"1627\" style=\"display: none;\"><div style=\"display: table-cell;\"></div><div style=\"display: table-cell;\">lod_threshold&nbsp;=&nbsp;2000,</div></div><div class=\"1627\" style=\"display: none;\"><div style=\"display: table-cell;\"></div><div style=\"display: table-cell;\">lod_timeout&nbsp;=&nbsp;500,</div></div><div class=\"1627\" style=\"display: none;\"><div style=\"display: table-cell;\"></div><div style=\"display: table-cell;\">margin&nbsp;=&nbsp;(0, 0, 0, 0),</div></div><div class=\"1627\" style=\"display: none;\"><div style=\"display: table-cell;\"></div><div style=\"display: table-cell;\">match_aspect&nbsp;=&nbsp;False,</div></div><div class=\"1627\" style=\"display: none;\"><div style=\"display: table-cell;\"></div><div style=\"display: table-cell;\">max_height&nbsp;=&nbsp;None,</div></div><div class=\"1627\" style=\"display: none;\"><div style=\"display: table-cell;\"></div><div style=\"display: table-cell;\">max_width&nbsp;=&nbsp;None,</div></div><div class=\"1627\" style=\"display: none;\"><div style=\"display: table-cell;\"></div><div style=\"display: table-cell;\">min_border&nbsp;=&nbsp;5,</div></div><div class=\"1627\" style=\"display: none;\"><div style=\"display: table-cell;\"></div><div style=\"display: table-cell;\">min_border_bottom&nbsp;=&nbsp;None,</div></div><div class=\"1627\" style=\"display: none;\"><div style=\"display: table-cell;\"></div><div style=\"display: table-cell;\">min_border_left&nbsp;=&nbsp;None,</div></div><div class=\"1627\" style=\"display: none;\"><div style=\"display: table-cell;\"></div><div style=\"display: table-cell;\">min_border_right&nbsp;=&nbsp;None,</div></div><div class=\"1627\" style=\"display: none;\"><div style=\"display: table-cell;\"></div><div style=\"display: table-cell;\">min_border_top&nbsp;=&nbsp;None,</div></div><div class=\"1627\" style=\"display: none;\"><div style=\"display: table-cell;\"></div><div style=\"display: table-cell;\">min_height&nbsp;=&nbsp;None,</div></div><div class=\"1627\" style=\"display: none;\"><div style=\"display: table-cell;\"></div><div style=\"display: table-cell;\">min_width&nbsp;=&nbsp;None,</div></div><div class=\"1627\" style=\"display: none;\"><div style=\"display: table-cell;\"></div><div style=\"display: table-cell;\">name&nbsp;=&nbsp;None,</div></div><div class=\"1627\" style=\"display: none;\"><div style=\"display: table-cell;\"></div><div style=\"display: table-cell;\">outline_line_alpha&nbsp;=&nbsp;{'value': 1.0},</div></div><div class=\"1627\" style=\"display: none;\"><div style=\"display: table-cell;\"></div><div style=\"display: table-cell;\">outline_line_cap&nbsp;=&nbsp;'butt',</div></div><div class=\"1627\" style=\"display: none;\"><div style=\"display: table-cell;\"></div><div style=\"display: table-cell;\">outline_line_color&nbsp;=&nbsp;{'value': '#e5e5e5'},</div></div><div class=\"1627\" style=\"display: none;\"><div style=\"display: table-cell;\"></div><div style=\"display: table-cell;\">outline_line_dash&nbsp;=&nbsp;[],</div></div><div class=\"1627\" style=\"display: none;\"><div style=\"display: table-cell;\"></div><div style=\"display: table-cell;\">outline_line_dash_offset&nbsp;=&nbsp;0,</div></div><div class=\"1627\" style=\"display: none;\"><div style=\"display: table-cell;\"></div><div style=\"display: table-cell;\">outline_line_join&nbsp;=&nbsp;'bevel',</div></div><div class=\"1627\" style=\"display: none;\"><div style=\"display: table-cell;\"></div><div style=\"display: table-cell;\">outline_line_width&nbsp;=&nbsp;{'value': 1},</div></div><div class=\"1627\" style=\"display: none;\"><div style=\"display: table-cell;\"></div><div style=\"display: table-cell;\">output_backend&nbsp;=&nbsp;'canvas',</div></div><div class=\"1627\" style=\"display: none;\"><div style=\"display: table-cell;\"></div><div style=\"display: table-cell;\">plot_height&nbsp;=&nbsp;400,</div></div><div class=\"1627\" style=\"display: none;\"><div style=\"display: table-cell;\"></div><div style=\"display: table-cell;\">plot_width&nbsp;=&nbsp;600,</div></div><div class=\"1627\" style=\"display: none;\"><div style=\"display: table-cell;\"></div><div style=\"display: table-cell;\">renderers&nbsp;=&nbsp;[GlyphRenderer(id='1524', ...)],</div></div><div class=\"1627\" style=\"display: none;\"><div style=\"display: table-cell;\"></div><div style=\"display: table-cell;\">reset_policy&nbsp;=&nbsp;'standard',</div></div><div class=\"1627\" style=\"display: none;\"><div style=\"display: table-cell;\"></div><div style=\"display: table-cell;\">right&nbsp;=&nbsp;[],</div></div><div class=\"1627\" style=\"display: none;\"><div style=\"display: table-cell;\"></div><div style=\"display: table-cell;\">sizing_mode&nbsp;=&nbsp;None,</div></div><div class=\"1627\" style=\"display: none;\"><div style=\"display: table-cell;\"></div><div style=\"display: table-cell;\">subscribed_events&nbsp;=&nbsp;[],</div></div><div class=\"1627\" style=\"display: none;\"><div style=\"display: table-cell;\"></div><div style=\"display: table-cell;\">tags&nbsp;=&nbsp;[],</div></div><div class=\"1627\" style=\"display: none;\"><div style=\"display: table-cell;\"></div><div style=\"display: table-cell;\">title&nbsp;=&nbsp;Title(id='1564', ...),</div></div><div class=\"1627\" style=\"display: none;\"><div style=\"display: table-cell;\"></div><div style=\"display: table-cell;\">title_location&nbsp;=&nbsp;'above',</div></div><div class=\"1627\" style=\"display: none;\"><div style=\"display: table-cell;\"></div><div style=\"display: table-cell;\">toolbar&nbsp;=&nbsp;Toolbar(id='1514', ...),</div></div><div class=\"1627\" style=\"display: none;\"><div style=\"display: table-cell;\"></div><div style=\"display: table-cell;\">toolbar_location&nbsp;=&nbsp;'right',</div></div><div class=\"1627\" style=\"display: none;\"><div style=\"display: table-cell;\"></div><div style=\"display: table-cell;\">toolbar_sticky&nbsp;=&nbsp;True,</div></div><div class=\"1627\" style=\"display: none;\"><div style=\"display: table-cell;\"></div><div style=\"display: table-cell;\">visible&nbsp;=&nbsp;True,</div></div><div class=\"1627\" style=\"display: none;\"><div style=\"display: table-cell;\"></div><div style=\"display: table-cell;\">width&nbsp;=&nbsp;None,</div></div><div class=\"1627\" style=\"display: none;\"><div style=\"display: table-cell;\"></div><div style=\"display: table-cell;\">width_policy&nbsp;=&nbsp;'auto',</div></div><div class=\"1627\" style=\"display: none;\"><div style=\"display: table-cell;\"></div><div style=\"display: table-cell;\">x_range&nbsp;=&nbsp;DataRange1d(id='1490', ...),</div></div><div class=\"1627\" style=\"display: none;\"><div style=\"display: table-cell;\"></div><div style=\"display: table-cell;\">x_scale&nbsp;=&nbsp;LinearScale(id='1494', ...),</div></div><div class=\"1627\" style=\"display: none;\"><div style=\"display: table-cell;\"></div><div style=\"display: table-cell;\">y_range&nbsp;=&nbsp;DataRange1d(id='1492', ...),</div></div><div class=\"1627\" style=\"display: none;\"><div style=\"display: table-cell;\"></div><div style=\"display: table-cell;\">y_scale&nbsp;=&nbsp;LinearScale(id='1496', ...))</div></div></div>\n",
       "<script>\n",
       "(function() {\n",
       "  var expanded = false;\n",
       "  var ellipsis = document.getElementById(\"1628\");\n",
       "  ellipsis.addEventListener(\"click\", function() {\n",
       "    var rows = document.getElementsByClassName(\"1627\");\n",
       "    for (var i = 0; i < rows.length; i++) {\n",
       "      var el = rows[i];\n",
       "      el.style.display = expanded ? \"none\" : \"table-row\";\n",
       "    }\n",
       "    ellipsis.innerHTML = expanded ? \"&hellip;)\" : \"&lsaquo;&lsaquo;&lsaquo;\";\n",
       "    expanded = !expanded;\n",
       "  });\n",
       "})();\n",
       "</script>\n"
      ],
      "text/plain": [
       "Figure(id='1489', ...)"
      ]
     },
     "execution_count": 71,
     "metadata": {},
     "output_type": "execute_result"
    }
   ],
   "source": [
    "draw_vectors(word_vectors_pca[:, 0], word_vectors_pca[:, 1], token=words)\n",
    "\n",
    "# hover a mouse over there and see if you can identify the clusters"
   ]
  },
  {
   "cell_type": "markdown",
   "metadata": {},
   "source": [
    "### Visualizing neighbors with t-SNE\n",
    "PCA is nice but it's strictly linear and thus only able to capture coarse high-level structure of the data.\n",
    "\n",
    "If we instead want to focus on keeping neighboring points near, we could use TSNE, which is itself an embedding method. Here you can read __[more on TSNE](https://distill.pub/2016/misread-tsne/)__."
   ]
  },
  {
   "cell_type": "code",
   "execution_count": 72,
   "metadata": {},
   "outputs": [
    {
     "name": "stdout",
     "output_type": "stream",
     "text": [
      "[t-SNE] Computing 91 nearest neighbors...\n",
      "[t-SNE] Indexed 1000 samples in 0.002s...\n",
      "[t-SNE] Computed neighbors for 1000 samples in 0.181s...\n",
      "[t-SNE] Computed conditional probabilities for sample 1000 / 1000\n",
      "[t-SNE] Mean sigma: 1.716134\n",
      "[t-SNE] Computed conditional probabilities in 0.066s\n",
      "[t-SNE] Iteration 50: error = 68.3134689, gradient norm = 0.3172579 (50 iterations in 4.935s)\n",
      "[t-SNE] Iteration 100: error = 69.3443375, gradient norm = 0.2831144 (50 iterations in 5.208s)\n",
      "[t-SNE] Iteration 150: error = 68.5552368, gradient norm = 0.3080564 (50 iterations in 5.308s)\n",
      "[t-SNE] Iteration 200: error = 68.7150497, gradient norm = 0.2875424 (50 iterations in 5.493s)\n",
      "[t-SNE] Iteration 250: error = 69.3353195, gradient norm = 0.2881215 (50 iterations in 5.214s)\n",
      "[t-SNE] KL divergence after 250 iterations with early exaggeration: 69.335320\n",
      "[t-SNE] Iteration 300: error = 1.2141252, gradient norm = 0.0034120 (50 iterations in 3.966s)\n",
      "[t-SNE] Iteration 350: error = 1.1012290, gradient norm = 0.0005325 (50 iterations in 3.505s)\n",
      "[t-SNE] Iteration 400: error = 1.0647402, gradient norm = 0.0003172 (50 iterations in 3.516s)\n",
      "[t-SNE] Iteration 450: error = 1.0506406, gradient norm = 0.0001901 (50 iterations in 3.432s)\n",
      "[t-SNE] Iteration 500: error = 1.0426071, gradient norm = 0.0001648 (50 iterations in 3.435s)\n",
      "[t-SNE] Iteration 550: error = 1.0379881, gradient norm = 0.0001345 (50 iterations in 3.463s)\n",
      "[t-SNE] Iteration 600: error = 1.0347499, gradient norm = 0.0001225 (50 iterations in 3.486s)\n",
      "[t-SNE] Iteration 650: error = 1.0322866, gradient norm = 0.0001208 (50 iterations in 3.393s)\n",
      "[t-SNE] Iteration 700: error = 1.0301994, gradient norm = 0.0000997 (50 iterations in 3.390s)\n",
      "[t-SNE] Iteration 750: error = 1.0289426, gradient norm = 0.0000900 (50 iterations in 3.426s)\n",
      "[t-SNE] Iteration 800: error = 1.0277550, gradient norm = 0.0000961 (50 iterations in 3.443s)\n",
      "[t-SNE] Iteration 850: error = 1.0267233, gradient norm = 0.0000850 (50 iterations in 3.713s)\n",
      "[t-SNE] Iteration 900: error = 1.0259326, gradient norm = 0.0000816 (50 iterations in 3.599s)\n",
      "[t-SNE] Iteration 950: error = 1.0250773, gradient norm = 0.0000746 (50 iterations in 3.555s)\n",
      "[t-SNE] Iteration 1000: error = 1.0245457, gradient norm = 0.0000798 (50 iterations in 3.413s)\n",
      "[t-SNE] KL divergence after 1000 iterations: 1.024546\n"
     ]
    }
   ],
   "source": [
    "from sklearn.manifold import TSNE\n",
    "\n",
    "# map word vectors onto 2d plane with TSNE. hint: use verbose=100 to see what it's doing.\n",
    "# normalize them as just lke with pca\n",
    "\n",
    "\n",
    "word_tsne = TSNE(n_components=2, verbose=100).fit_transform(word_vectors)\n",
    "word_tsne = (word_tsne - word_tsne.mean(0)) / word_tsne.std(0)"
   ]
  },
  {
   "cell_type": "code",
   "execution_count": 73,
   "metadata": {
    "scrolled": false
   },
   "outputs": [
    {
     "data": {
      "text/html": [
       "\n",
       "\n",
       "\n",
       "\n",
       "\n",
       "\n",
       "  <div class=\"bk-root\" id=\"af971f58-271c-426e-b79a-0d01658733d1\" data-root-id=\"1632\"></div>\n"
      ]
     },
     "metadata": {},
     "output_type": "display_data"
    },
    {
     "data": {
      "application/javascript": [
       "(function(root) {\n",
       "  function embed_document(root) {\n",
       "    \n",
       "  var docs_json = {\"8acf5667-dd07-4eca-82f6-c5f724fca9fb\":{\"roots\":{\"references\":[{\"attributes\":{\"below\":[{\"id\":\"1641\",\"type\":\"LinearAxis\"}],\"center\":[{\"id\":\"1645\",\"type\":\"Grid\"},{\"id\":\"1650\",\"type\":\"Grid\"}],\"left\":[{\"id\":\"1646\",\"type\":\"LinearAxis\"}],\"plot_height\":400,\"renderers\":[{\"id\":\"1667\",\"type\":\"GlyphRenderer\"}],\"title\":{\"id\":\"1716\",\"type\":\"Title\"},\"toolbar\":{\"id\":\"1657\",\"type\":\"Toolbar\"},\"x_range\":{\"id\":\"1633\",\"type\":\"DataRange1d\"},\"x_scale\":{\"id\":\"1637\",\"type\":\"LinearScale\"},\"y_range\":{\"id\":\"1635\",\"type\":\"DataRange1d\"},\"y_scale\":{\"id\":\"1639\",\"type\":\"LinearScale\"}},\"id\":\"1632\",\"subtype\":\"Figure\",\"type\":\"Plot\"},{\"attributes\":{},\"id\":\"1655\",\"type\":\"ResetTool\"},{\"attributes\":{},\"id\":\"1718\",\"type\":\"BasicTickFormatter\"},{\"attributes\":{},\"id\":\"1656\",\"type\":\"HelpTool\"},{\"attributes\":{\"formatter\":{\"id\":\"1718\",\"type\":\"BasicTickFormatter\"},\"ticker\":{\"id\":\"1642\",\"type\":\"BasicTicker\"}},\"id\":\"1641\",\"type\":\"LinearAxis\"},{\"attributes\":{\"callback\":null},\"id\":\"1633\",\"type\":\"DataRange1d\"},{\"attributes\":{\"active_drag\":\"auto\",\"active_inspect\":\"auto\",\"active_multi\":null,\"active_scroll\":{\"id\":\"1652\",\"type\":\"WheelZoomTool\"},\"active_tap\":\"auto\",\"tools\":[{\"id\":\"1651\",\"type\":\"PanTool\"},{\"id\":\"1652\",\"type\":\"WheelZoomTool\"},{\"id\":\"1653\",\"type\":\"BoxZoomTool\"},{\"id\":\"1654\",\"type\":\"SaveTool\"},{\"id\":\"1655\",\"type\":\"ResetTool\"},{\"id\":\"1656\",\"type\":\"HelpTool\"},{\"id\":\"1669\",\"type\":\"HoverTool\"}]},\"id\":\"1657\",\"type\":\"Toolbar\"},{\"attributes\":{\"dimension\":1,\"ticker\":{\"id\":\"1647\",\"type\":\"BasicTicker\"}},\"id\":\"1650\",\"type\":\"Grid\"},{\"attributes\":{},\"id\":\"1647\",\"type\":\"BasicTicker\"},{\"attributes\":{},\"id\":\"1720\",\"type\":\"BasicTickFormatter\"},{\"attributes\":{\"formatter\":{\"id\":\"1720\",\"type\":\"BasicTickFormatter\"},\"ticker\":{\"id\":\"1647\",\"type\":\"BasicTicker\"}},\"id\":\"1646\",\"type\":\"LinearAxis\"},{\"attributes\":{},\"id\":\"1642\",\"type\":\"BasicTicker\"},{\"attributes\":{\"bottom_units\":\"screen\",\"fill_alpha\":{\"value\":0.5},\"fill_color\":{\"value\":\"lightgrey\"},\"left_units\":\"screen\",\"level\":\"overlay\",\"line_alpha\":{\"value\":1.0},\"line_color\":{\"value\":\"black\"},\"line_dash\":[4,4],\"line_width\":{\"value\":2},\"render_mode\":\"css\",\"right_units\":\"screen\",\"top_units\":\"screen\"},\"id\":\"1722\",\"type\":\"BoxAnnotation\"},{\"attributes\":{\"callback\":null},\"id\":\"1635\",\"type\":\"DataRange1d\"},{\"attributes\":{\"callback\":null,\"tooltips\":[[\"token\",\"@token\"]]},\"id\":\"1669\",\"type\":\"HoverTool\"},{\"attributes\":{},\"id\":\"1723\",\"type\":\"Selection\"},{\"attributes\":{},\"id\":\"1724\",\"type\":\"UnionRenderers\"},{\"attributes\":{\"ticker\":{\"id\":\"1642\",\"type\":\"BasicTicker\"}},\"id\":\"1645\",\"type\":\"Grid\"},{\"attributes\":{\"fill_alpha\":{\"value\":0.1},\"fill_color\":{\"value\":\"#1f77b4\"},\"line_alpha\":{\"value\":0.1},\"line_color\":{\"value\":\"#1f77b4\"},\"size\":{\"units\":\"screen\",\"value\":10},\"x\":{\"field\":\"x\"},\"y\":{\"field\":\"y\"}},\"id\":\"1666\",\"type\":\"Scatter\"},{\"attributes\":{},\"id\":\"1637\",\"type\":\"LinearScale\"},{\"attributes\":{\"text\":\"\"},\"id\":\"1716\",\"type\":\"Title\"},{\"attributes\":{\"fill_alpha\":{\"value\":0.25},\"fill_color\":{\"field\":\"color\"},\"line_alpha\":{\"value\":0.25},\"line_color\":{\"field\":\"color\"},\"size\":{\"units\":\"screen\",\"value\":10},\"x\":{\"field\":\"x\"},\"y\":{\"field\":\"y\"}},\"id\":\"1665\",\"type\":\"Scatter\"},{\"attributes\":{},\"id\":\"1651\",\"type\":\"PanTool\"},{\"attributes\":{\"data_source\":{\"id\":\"1631\",\"type\":\"ColumnDataSource\"},\"glyph\":{\"id\":\"1665\",\"type\":\"Scatter\"},\"hover_glyph\":null,\"muted_glyph\":null,\"nonselection_glyph\":{\"id\":\"1666\",\"type\":\"Scatter\"},\"selection_glyph\":null,\"view\":{\"id\":\"1668\",\"type\":\"CDSView\"}},\"id\":\"1667\",\"type\":\"GlyphRenderer\"},{\"attributes\":{\"source\":{\"id\":\"1631\",\"type\":\"ColumnDataSource\"}},\"id\":\"1668\",\"type\":\"CDSView\"},{\"attributes\":{},\"id\":\"1652\",\"type\":\"WheelZoomTool\"},{\"attributes\":{\"overlay\":{\"id\":\"1722\",\"type\":\"BoxAnnotation\"}},\"id\":\"1653\",\"type\":\"BoxZoomTool\"},{\"attributes\":{\"callback\":null,\"data\":{\"color\":[\"green\",\"green\",\"green\",\"green\",\"green\",\"green\",\"green\",\"green\",\"green\",\"green\",\"green\",\"green\",\"green\",\"green\",\"green\",\"green\",\"green\",\"green\",\"green\",\"green\",\"green\",\"green\",\"green\",\"green\",\"green\",\"green\",\"green\",\"green\",\"green\",\"green\",\"green\",\"green\",\"green\",\"green\",\"green\",\"green\",\"green\",\"green\",\"green\",\"green\",\"green\",\"green\",\"green\",\"green\",\"green\",\"green\",\"green\",\"green\",\"green\",\"green\",\"green\",\"green\",\"green\",\"green\",\"green\",\"green\",\"green\",\"green\",\"green\",\"green\",\"green\",\"green\",\"green\",\"green\",\"green\",\"green\",\"green\",\"green\",\"green\",\"green\",\"green\",\"green\",\"green\",\"green\",\"green\",\"green\",\"green\",\"green\",\"green\",\"green\",\"green\",\"green\",\"green\",\"green\",\"green\",\"green\",\"green\",\"green\",\"green\",\"green\",\"green\",\"green\",\"green\",\"green\",\"green\",\"green\",\"green\",\"green\",\"green\",\"green\",\"green\",\"green\",\"green\",\"green\",\"green\",\"green\",\"green\",\"green\",\"green\",\"green\",\"green\",\"green\",\"green\",\"green\",\"green\",\"green\",\"green\",\"green\",\"green\",\"green\",\"green\",\"green\",\"green\",\"green\",\"green\",\"green\",\"green\",\"green\",\"green\",\"green\",\"green\",\"green\",\"green\",\"green\",\"green\",\"green\",\"green\",\"green\",\"green\",\"green\",\"green\",\"green\",\"green\",\"green\",\"green\",\"green\",\"green\",\"green\",\"green\",\"green\",\"green\",\"green\",\"green\",\"green\",\"green\",\"green\",\"green\",\"green\",\"green\",\"green\",\"green\",\"green\",\"green\",\"green\",\"green\",\"green\",\"green\",\"green\",\"green\",\"green\",\"green\",\"green\",\"green\",\"green\",\"green\",\"green\",\"green\",\"green\",\"green\",\"green\",\"green\",\"green\",\"green\",\"green\",\"green\",\"green\",\"green\",\"green\",\"green\",\"green\",\"green\",\"green\",\"green\",\"green\",\"green\",\"green\",\"green\",\"green\",\"green\",\"green\",\"green\",\"green\",\"green\",\"green\",\"green\",\"green\",\"green\",\"green\",\"green\",\"green\",\"green\",\"green\",\"green\",\"green\",\"green\",\"green\",\"green\",\"green\",\"green\",\"green\",\"green\",\"green\",\"green\",\"green\",\"green\",\"green\",\"green\",\"green\",\"green\",\"green\",\"green\",\"green\",\"green\",\"green\",\"green\",\"green\",\"green\",\"green\",\"green\",\"green\",\"green\",\"green\",\"green\",\"green\",\"green\",\"green\",\"green\",\"green\",\"green\",\"green\",\"green\",\"green\",\"green\",\"green\",\"green\",\"green\",\"green\",\"green\",\"green\",\"green\",\"green\",\"green\",\"green\",\"green\",\"green\",\"green\",\"green\",\"green\",\"green\",\"green\",\"green\",\"green\",\"green\",\"green\",\"green\",\"green\",\"green\",\"green\",\"green\",\"green\",\"green\",\"green\",\"green\",\"green\",\"green\",\"green\",\"green\",\"green\",\"green\",\"green\",\"green\",\"green\",\"green\",\"green\",\"green\",\"green\",\"green\",\"green\",\"green\",\"green\",\"green\",\"green\",\"green\",\"green\",\"green\",\"green\",\"green\",\"green\",\"green\",\"green\",\"green\",\"green\",\"green\",\"green\",\"green\",\"green\",\"green\",\"green\",\"green\",\"green\",\"green\",\"green\",\"green\",\"green\",\"green\",\"green\",\"green\",\"green\",\"green\",\"green\",\"green\",\"green\",\"green\",\"green\",\"green\",\"green\",\"green\",\"green\",\"green\",\"green\",\"green\",\"green\",\"green\",\"green\",\"green\",\"green\",\"green\",\"green\",\"green\",\"green\",\"green\",\"green\",\"green\",\"green\",\"green\",\"green\",\"green\",\"green\",\"green\",\"green\",\"green\",\"green\",\"green\",\"green\",\"green\",\"green\",\"green\",\"green\",\"green\",\"green\",\"green\",\"green\",\"green\",\"green\",\"green\",\"green\",\"green\",\"green\",\"green\",\"green\",\"green\",\"green\",\"green\",\"green\",\"green\",\"green\",\"green\",\"green\",\"green\",\"green\",\"green\",\"green\",\"green\",\"green\",\"green\",\"green\",\"green\",\"green\",\"green\",\"green\",\"green\",\"green\",\"green\",\"green\",\"green\",\"green\",\"green\",\"green\",\"green\",\"green\",\"green\",\"green\",\"green\",\"green\",\"green\",\"green\",\"green\",\"green\",\"green\",\"green\",\"green\",\"green\",\"green\",\"green\",\"green\",\"green\",\"green\",\"green\",\"green\",\"green\",\"green\",\"green\",\"green\",\"green\",\"green\",\"green\",\"green\",\"green\",\"green\",\"green\",\"green\",\"green\",\"green\",\"green\",\"green\",\"green\",\"green\",\"green\",\"green\",\"green\",\"green\",\"green\",\"green\",\"green\",\"green\",\"green\",\"green\",\"green\",\"green\",\"green\",\"green\",\"green\",\"green\",\"green\",\"green\",\"green\",\"green\",\"green\",\"green\",\"green\",\"green\",\"green\",\"green\",\"green\",\"green\",\"green\",\"green\",\"green\",\"green\",\"green\",\"green\",\"green\",\"green\",\"green\",\"green\",\"green\",\"green\",\"green\",\"green\",\"green\",\"green\",\"green\",\"green\",\"green\",\"green\",\"green\",\"green\",\"green\",\"green\",\"green\",\"green\",\"green\",\"green\",\"green\",\"green\",\"green\",\"green\",\"green\",\"green\",\"green\",\"green\",\"green\",\"green\",\"green\",\"green\",\"green\",\"green\",\"green\",\"green\",\"green\",\"green\",\"green\",\"green\",\"green\",\"green\",\"green\",\"green\",\"green\",\"green\",\"green\",\"green\",\"green\",\"green\",\"green\",\"green\",\"green\",\"green\",\"green\",\"green\",\"green\",\"green\",\"green\",\"green\",\"green\",\"green\",\"green\",\"green\",\"green\",\"green\",\"green\",\"green\",\"green\",\"green\",\"green\",\"green\",\"green\",\"green\",\"green\",\"green\",\"green\",\"green\",\"green\",\"green\",\"green\",\"green\",\"green\",\"green\",\"green\",\"green\",\"green\",\"green\",\"green\",\"green\",\"green\",\"green\",\"green\",\"green\",\"green\",\"green\",\"green\",\"green\",\"green\",\"green\",\"green\",\"green\",\"green\",\"green\",\"green\",\"green\",\"green\",\"green\",\"green\",\"green\",\"green\",\"green\",\"green\",\"green\",\"green\",\"green\",\"green\",\"green\",\"green\",\"green\",\"green\",\"green\",\"green\",\"green\",\"green\",\"green\",\"green\",\"green\",\"green\",\"green\",\"green\",\"green\",\"green\",\"green\",\"green\",\"green\",\"green\",\"green\",\"green\",\"green\",\"green\",\"green\",\"green\",\"green\",\"green\",\"green\",\"green\",\"green\",\"green\",\"green\",\"green\",\"green\",\"green\",\"green\",\"green\",\"green\",\"green\",\"green\",\"green\",\"green\",\"green\",\"green\",\"green\",\"green\",\"green\",\"green\",\"green\",\"green\",\"green\",\"green\",\"green\",\"green\",\"green\",\"green\",\"green\",\"green\",\"green\",\"green\",\"green\",\"green\",\"green\",\"green\",\"green\",\"green\",\"green\",\"green\",\"green\",\"green\",\"green\",\"green\",\"green\",\"green\",\"green\",\"green\",\"green\",\"green\",\"green\",\"green\",\"green\",\"green\",\"green\",\"green\",\"green\",\"green\",\"green\",\"green\",\"green\",\"green\",\"green\",\"green\",\"green\",\"green\",\"green\",\"green\",\"green\",\"green\",\"green\",\"green\",\"green\",\"green\",\"green\",\"green\",\"green\",\"green\",\"green\",\"green\",\"green\",\"green\",\"green\",\"green\",\"green\",\"green\",\"green\",\"green\",\"green\",\"green\",\"green\",\"green\",\"green\",\"green\",\"green\",\"green\",\"green\",\"green\",\"green\",\"green\",\"green\",\"green\",\"green\",\"green\",\"green\",\"green\",\"green\",\"green\",\"green\",\"green\",\"green\",\"green\",\"green\",\"green\",\"green\",\"green\",\"green\",\"green\",\"green\",\"green\",\"green\",\"green\",\"green\",\"green\",\"green\",\"green\",\"green\",\"green\",\"green\",\"green\",\"green\",\"green\",\"green\",\"green\",\"green\",\"green\",\"green\",\"green\",\"green\",\"green\",\"green\",\"green\",\"green\",\"green\",\"green\",\"green\",\"green\",\"green\",\"green\",\"green\",\"green\",\"green\",\"green\",\"green\",\"green\",\"green\",\"green\",\"green\",\"green\",\"green\",\"green\",\"green\",\"green\",\"green\",\"green\",\"green\",\"green\",\"green\",\"green\",\"green\",\"green\",\"green\",\"green\",\"green\",\"green\",\"green\",\"green\",\"green\",\"green\",\"green\",\"green\",\"green\",\"green\",\"green\",\"green\",\"green\",\"green\",\"green\",\"green\",\"green\",\"green\",\"green\",\"green\",\"green\",\"green\",\"green\",\"green\",\"green\",\"green\",\"green\",\"green\",\"green\",\"green\",\"green\",\"green\",\"green\",\"green\",\"green\",\"green\",\"green\",\"green\",\"green\",\"green\",\"green\",\"green\",\"green\",\"green\",\"green\",\"green\",\"green\",\"green\",\"green\",\"green\",\"green\",\"green\",\"green\",\"green\",\"green\",\"green\",\"green\",\"green\",\"green\",\"green\",\"green\",\"green\",\"green\",\"green\",\"green\",\"green\",\"green\",\"green\",\"green\",\"green\",\"green\",\"green\",\"green\",\"green\",\"green\",\"green\",\"green\",\"green\",\"green\",\"green\",\"green\",\"green\",\"green\",\"green\",\"green\",\"green\",\"green\",\"green\",\"green\",\"green\",\"green\",\"green\",\"green\",\"green\",\"green\",\"green\",\"green\",\"green\",\"green\",\"green\",\"green\",\"green\",\"green\",\"green\",\"green\",\"green\",\"green\",\"green\",\"green\",\"green\",\"green\",\"green\",\"green\",\"green\",\"green\",\"green\",\"green\",\"green\",\"green\",\"green\",\"green\",\"green\",\"green\",\"green\",\"green\",\"green\",\"green\",\"green\",\"green\",\"green\",\"green\",\"green\",\"green\",\"green\",\"green\",\"green\",\"green\",\"green\",\"green\",\"green\",\"green\",\"green\",\"green\",\"green\",\"green\",\"green\",\"green\",\"green\",\"green\",\"green\",\"green\",\"green\",\"green\",\"green\",\"green\",\"green\",\"green\",\"green\",\"green\",\"green\",\"green\",\"green\",\"green\",\"green\",\"green\",\"green\",\"green\",\"green\",\"green\",\"green\",\"green\",\"green\",\"green\",\"green\",\"green\",\"green\",\"green\",\"green\",\"green\",\"green\",\"green\",\"green\",\"green\",\"green\",\"green\",\"green\",\"green\",\"green\",\"green\",\"green\",\"green\",\"green\",\"green\",\"green\",\"green\",\"green\",\"green\",\"green\"],\"token\":[\"<user>\",\".\",\":\",\"rt\",\",\",\"<repeat>\",\"<hashtag>\",\"<number>\",\"<url>\",\"!\",\"i\",\"a\",\"\\\"\",\"the\",\"?\",\"you\",\"to\",\"(\",\"<allcaps>\",\"<elong>\",\")\",\"me\",\"de\",\"<smile>\",\"\\uff01\",\"que\",\"and\",\"\\u3002\",\"-\",\"my\",\"no\",\"\\u3001\",\"is\",\"it\",\"\\u2026\",\"in\",\"n\",\"for\",\"/\",\"of\",\"la\",\"'s\",\"*\",\"do\",\"n't\",\"that\",\"on\",\"y\",\"'\",\"e\",\"o\",\"u\",\"en\",\"this\",\"el\",\"so\",\"be\",\"'m\",\"with\",\"just\",\">\",\"your\",\"^\",\"like\",\"have\",\"te\",\"at\",\"\\uff1f\",\"love\",\"se\",\"are\",\"<\",\"m\",\"r\",\"if\",\"all\",\"b\",\"\\u30fb\",\"not\",\"but\",\"we\",\"es\",\"ya\",\"&\",\"follow\",\"up\",\"what\",\"get\",\"lol\",\"un\",\"\\u2665\",\"lo\",\"when\",\"was\",\"\\u201c\",\"\\u201d\",\"one\",\"por\",\"si\",\"out\",\"_\",\"mi\",\"can\",\"<sadface>\",\"\\u0645\\u0646\",\"\\u2661\",\"\\u00b4\",\"he\",\"con\",\"they\",\"now\",\"go\",\"\\u060c\",\"para\",\"los\",\"know\",\"haha\",\"good\",\"tu\",\"back\",\"~\",\"about\",\"new\",\";\",\"as\",\"day\",\"how\",\"who\",\"will\",\"want\",\"people\",\"yo\",\"eu\",\"from\",\"di\",\"time\",\"<heart>\",\"s\",\"aku\",\"da\",\"'re\",\"<lolface>\",\"una\",\"got\",\"las\",\"more\",\"x\",\"she\",\"today\",\"\\uff08\",\">>\",\"k\",\"by\",\"or\",\"\\u0641\\u064a\",\"\\uff65\",\"too\",\"le\",\"\\u00e9\",\"|\",\"[\",\"\\uff09\",\"]\",\"see\",\"why\",\"yg\",\"ca\",\"como\",\"her\",\"\\u2014\",\"q\",\"need\",\"an\",\"na\",\"\\u7b11\",\"there\",\"\\u03c9\",\"happy\",\"im\",\"mas\",\"je\",\"life\",\"really\",\"make\",\"yang\",\"shit\",\"think\",\"t\",\"\\u2764\",\"n\\u00e3o\",\"never\",\"some\",\"\\uff5e\",\"oh\",\"\\u2605\",\"did\",\"would\",\"del\",\"`\",\"d\",\"please\",\"via\",\"much\",\"fuck\",\"al\",\"dia\",\"$\",\"\\u0648\",\"right\",\"best\",\"c\",\"going\",\"\\u0627\\u0644\\u0644\\u0647\",\"pero\",\"only\",\"has\",\"\\u266a\",\"'ll\",\"twitter\",\"=\",\"hahaha\",\"its\",\"nn\",\"\\uff40\",\"\\u00bf\",\"am\",\"say\",\"<neutralface>\",\"them\",\"here\",\"\\u0644\\u0627\",\"off\",\"still\",\"dan\",\"+\",\"night\",\"w\",\"ada\",\"someone\",\"even\",\"then\",\"\\u2606\",\"ni\",\"come\",\"com\",\"always\",\"man\",\"'ve\",\"been\",\"his\",\"itu\",\"\\u0639\\u0644\\u0649\",\"-_-\",\"\\u263a\",\"over\",\"um\",\"\\u0645\\u0627\",\"hate\",\"girl\",\"ai\",\"had\",\"pra\",\"todo\",\"mais\",\"feel\",\"let\",\"ini\",\"because\",\"\\uff9f\",\"thanks\",\"ah\",\"way\",\"ever\",\"look\",\"tweet\",\"followers\",\"should\",\"our\",\"xd\",\"aja\",\"esta\",\"school\",\"him\",\"ser\",\"take\",\"than\",\"video\",\"em\",\"last\",\"wanna\",\"does\",\"us\",\"miss\",\"l\",\"ga\",\"better\",\"well\",\"could\",\"\\u25bd\",\"%\",\"apa\",\"cuando\",\"team\",\"\\u2714\",\"@\",\"ok\",\"\\u061f\",\"\\u2022\",\"vida\",\"quiero\",\"les\",\"being\",\"real\",\"down\",\"kamu\",\"everyone\",\"gonna\",\"live\",\"tonight\",\"yes\",\"work\",\"ass\",\"retweet\",\"nada\",\"sama\",\"first\",\"<<\",\"photo\",\"tomorrow\",\"where\",\"god\",\"son\",\"ke\",\"ta\",\"f\",\"home\",\"lagi\",\"thank\",\"birthday\",\"\\u2588\",\"ha\",\"great\",\"lmao\",\"omg\",\"morning\",\"m\\u00e1s\",\"mau\",\"baby\",\"dont\",\"\\uff61\",\"their\",\"p\",\"things\",\"game\",\"pas\",\"bad\",\"year\",\"yeah\",\"su\",\"bitch\",\"\\u0432\",\"stop\",\"hoy\",\"something\",\"meu\",\"tak\",\"gak\",\"world\",\"amor\",\"h\",\"\\\\\",\"ver\",\"\\uff1b\",\"porque\",\"give\",\"these\",\"\\u0627\\u0644\\u0644\\u0647\\u0645\",\"were\",\"hay\",\"sleep\",\"gue\",\"every\",\"friends\",\"uma\",\"tell\",\"amo\",\"vou\",\"bien\",\"\\u00a1\",\"again\",\"\\uff3e\",\"\\uff0f\",\"done\",\"after\",\"todos\",\"girls\",\"guys\",\"getting\",\"big\",\"wait\",\"justin\",\"eh\",\"\\u2192\",\"kan\",\"kita\",\"jajaja\",\"wish\",\"said\",\"fucking\",\"show\",\"thing\",\"next\",\"voc\\u00ea\",\"nos\",\"little\",\"tengo\",\"keep\",\"person\",\"''\",\"\\u2200\",\"hope\",\"\\u0643\\u0644\",\"hey\",\"bisa\",\"free\",\"made\",\"foto\",\"va\",\"everything\",\"iya\",\"nigga\",\"eso\",\"et\",\"watch\",\"music\",\"week\",\"talk\",\"ne\",\"solo\",\"gente\",\"udah\",\"\\uff1a\",\"--\",\"\\uff3c\",\"mejor\",\"facebook\",\"ma\",\"v\",\"phone\",\"most\",\"same\",\"okay\",\"ik\",\"before\",\"minha\",\"days\",\"g\",\"ti\",\"damn\",\"nice\",\"voy\",\"vai\",\"call\",\"long\",\"tapi\",\"http\",\"sin\",\"nunca\",\"doing\",\"other\",\"find\",\"il\",\"sa\",\"sorry\",\"nya\",\"orang\",\"\\u00b0\",\"hard\",\"mean\",\"die\",\"\\u0627\\u0644\\u0644\\u064a\",\"tem\",\"soy\",\"este\",\"kalo\",\"s\\u00f3\",\"th\",\"win\",\"nothing\",\"into\",\"face\",\"cute\",\"'d\",\"gracias\",\"lah\",\"\\u0438\",\"any\",\"play\",\"\\u2190\",\"ko\",\"text\",\"\\u2323\",\"estoy\",\"tau\",\"ur\",\"buat\",\"#\",\"cause\",\"\\u044f\",\"put\",\"kau\",\"siempre\",\"juga\",\"casa\",\"\\u0623\\u0646\",\"help\",\"start\",\"feliz\",\"old\",\"ir\",\"very\",\"care\",\"bir\",\"makes\",\"song\",\"check\",\"watching\",\"ahora\",\"jadi\",\"os\",\"may\",\"friend\",\"beautiful\",\"heart\",\"ka\",\"vc\",\"mundo\",\"\\u043d\\u0430\",\"sure\",\"tan\",\"pretty\",\"aqui\",\"\\u043d\\u0435\",\"house\",\"\\u0631\\u062a\\u0648\\u064a\\u062a\",\"\\u064a\\u0627\",\"ja\",\"true\",\"muy\",\"away\",\"already\",\"actually\",\"believe\",\"try\",\"many\",\"ma\\u00f1ana\",\"mis\",\"lu\",\"those\",\"hot\",\"qu\\u00e9\",\"mal\",\"\\u0639\\u0646\",\"though\",\"ask\",\"amazing\",\"bed\",\"}\",\"two\",\"mom\",\"d\\u00eda\",\"ve\",\"dari\",\"gameinsight\",\"stay\",\"fun\",\"around\",\"van\",\"cont\",\"ready\",\"money\",\"bu\",\"funny\",\"cool\",\"hair\",\"\\u00e0\",\"tho\",\"{\",\"wo\",\"hi\",\"name\",\"tiene\",\"hahahaha\",\"pa\",\"algo\",\"gotta\",\"\\u0648\\u0644\\u0627\",\"boy\",\"another\",\"c'est\",\"hari\",\"jajajaja\",\"having\",\"cara\",\"jaja\",\"dm\",\"looking\",\"top\",\"android\",\"dah\",\"wow\",\"\\u2591\",\"eres\",\"ben\",\"must\",\"news\",\"met\",\"est\\u00e1\",\"nih\",\"family\",\"black\",\"thought\",\"nak\",\"super\",\"end\",\"hace\",\"remember\",\"ama\",\"party\",\"cant\",\"vamos\",\"anything\",\"anyone\",\"\\u0641\\u0648\\u0644\\u0648\",\"perfect\",\"guy\",\"vez\",\"christmas\",\"dos\",\"bueno\",\"nao\",\"years\",\"vote\",\"dormir\",\"bro\",\"else\",\"quien\",\"untuk\",\"jangan\",\"myself\",\"head\",\"mind\",\"gua\",\"talking\",\"while\",\"dat\",\"food\",\"\\u0434\",\"coming\",\"wkwk\",\"trying\",\"saya\",\"mucho\",\"without\",\"wrong\",\"\\u2019s\",\"baru\",\"__\",\"hehe\",\"hacer\",\"lot\",\"followed\",\"crazy\",\"hell\",\"feeling\",\"des\",\"kok\",\"j\",\"stats\",\"j'\",\"\\u0627\\u0646\",\"tweets\",\"non\",\"cosas\",\"era\",\"high\",\"niggas\",\"change\",\"movie\",\"xx\",\"mad\",\"sih\",\"sometimes\",\"deh\",\"allah\",\"through\",\"pour\",\"ela\",\"soon\",\"gone\",\"playing\",\"smile\",\"bukan\",\"tv\",\"fans\",\"hasta\",\"akan\",\"y'\",\"looks\",\"isso\",\"\\u270c\",\"tired\",\"boys\",\"might\",\"dong\",\"lg\",\"use\",\"maybe\",\"until\",\"menos\",\"own\",\"dengan\",\"eat\",\"ou\",\"weekend\",\"\\u02d8\",\"class\",\"ele\",\"harry\",\"iphone\",\"friday\",\"single\",\"ff\",\"awesome\",\"bout\",\"muito\",\"hoje\",\"\\u00ac\",\"dios\",\"such\",\"estar\",\"j\\u00e1\",\"quando\",\"esa\",\"making\",\"\\u2501\",\"times\",\"lmfao\",\"gw\",\"moment\",\"yet\",\"aw\",\"smh\",\"banget\",\"masih\",\"qui\",\"quem\",\"\\u2013\",\"leave\",\"du\",\"une\",\"guess\",\"hit\",\"\\u0441\",\"pm\",\"since\",\"pues\",\"est\",\"job\",\"\\uff89\",\"mana\",\"bom\",\"siapa\",\"suka\",\"bieber\",\"mention\",\"lebih\",\"favorite\",\"bitches\",\"forever\",\"\\u0644\\u064a\",\"final\",\"read\",\"alguien\",\"open\",\"yourself\",\"ese\",\"che\",\"sex\",\"yaa\",\"car\",\"direction\",\"tidak\",\"seu\",\"gets\",\"left\",\"re\",\"jam\",\"enough\",\"\\u0625\\u0644\\u0627\",\"once\",\"\\u2019\",\"part\",\"cada\",\"\\u5b9a\\u671f\",\"\\u0644\\u0643\",\"een\",\"seen\",\"kak\",\"as\\u00ed\",\"nem\",\"\\u0639\\u0645\\u0644\",\"white\",\"told\",\"says\",\"esto\",\"sad\",\"mo\",\"fue\",\"yah\",\"summer\",\"\\u0647\",\"\\u2b55\",\"\\u00bb\",\"thats\",\"\\u0645\\u0639\",\"posted\",\"wants\",\"agora\",\"together\",\"fan\",\"men\",\"hear\",\"full\",\"\\u2600\",\"sigo\",\"pq\",\"dulu\",\"plus\",\"foi\",\"tudo\",\"\\u0647\\u0648\",\"ill\",\"\\u3042\",\"thinking\",\"wtf\",\"pagi\",\"mama\",\"kalau\",\"hati\",\"sexy\",\"sayang\",\"baik\",\"semua\",\"hola\",\"went\",\"vos\",\"tanto\",\"finally\",\"fb\",\"sea\",\"stupid\",\"tus\",\"seriously\",\"hora\",\"min\",\"pic\",\"estas\",\"turn\",\"hours\",\"excited\",\"nah\",\"buy\",\"saying\",\"mah\",\"break\",\"needs\",\"ce\",\"room\",\"choice\",\"far\",\"dead\",\"quero\",\"saw\",\"kids\",\"lil\",\"whole\",\"puede\",\"fall\",\"sus\",\"lost\",\"asi\",\"word\",\"\\u2639\",\"also\",\"\\u0631\\u064a\\u062a\\u0648\\u064a\\u062a\",\"probably\",\"everybody\",\"tarde\",\"run\",\"sei\",\"follback\",\"forget\",\"sweet\",\"welcome\",\"selamat\",\"\\uff3f\",\"sur\",\"place\",\"gusta\",\"sabe\",\"androidgames\",\"tp\",\"tiempo\",\"\\u0628\\u0633\",\"sou\",\"tuh\",\"vs\",\"eyes\",\"\\u0627\\u0646\\u0627\",\"picture\",\"das\",\"meet\",\"anak\",\"persona\",\"essa\",\"bored\",\"following\",\"nadie\",\"nobody\",\"dice\",\"alone\",\"sick\",\"red\",\"city\",\"cinta\",\"\\u6708\",\"linda\",\"dream\",\"story\",\"km\",\"het\",\"waiting\",\"^_^\",\"mine\",\"\\u0447\\u0442\\u043e\",\"reason\",\"kk\",\"\\u0644\\u0648\",\"online\",\"fast\",\"udh\",\"wanted\",\"op\",\"others\",\"gay\",\"n\\u2019t\",\"used\",\"sem\",\"understand\",\"moi\",\"sm\",\"aint\",\"donde\",\"bem\",\"which\",\"ng\",\"followback\",\"punya\",\"late\",\"anda\",\"tidur\",\"puedo\",\"early\",\"nd\",\"personas\",\"banyak\",\"\\u2705\",\"\\u278a\",\"trust\",\"noche\",\"tl\",\"\\uff1e\",\"\\u00ab\",\"af\",\"move\",\"pro\",\"bring\",\"ku\",\"called\",\"relationship\",\"idk\",\"hurt\",\"st\",\"pernah\",\"pessoas\",\"hello\",\"uno\",\"unfollowers\",\"cry\"],\"x\":{\"__ndarray__\":\"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\",\"dtype\":\"float32\",\"shape\":[1000]},\"y\":{\"__ndarray__\":\"BTAFvzYa4r5rBf6+uI4Dv/h9vL4SDvC+FeU6v9cDDL9pyFC/fAbzvjFzZb8fNJa+44TRvrzHXL62to2+pv2BvorGcb+5V0i/xNZVv0OtCL/Lx0q/dJ3TP/3T+D8lYcC+A9KSv7PRwT8AJBe/KbSWvxsPSr+GZy2/aOLTP9stlr9ofCO+DZ2KvhSXKr+3ffK9w1Uzv0vpaL9adju/ZZVRvnvn2T+ljwi+6AcivxxYh7/klIi+3nyAvrzaV7+WlvY/Ahytvqm53L5g8le+L9QSvza4+j8CpX2+vPPvP2R3s74Y2ha/1v12vzxxGr8Z/Z6+OzMdvzSOK7+XSBK/xTRMvoL/7r6ds8Y/G92Xv9yAjb+mG6S+iv6+P7b2mb4aBh6/bSYDv8dTDr+Luou+k4mQvgqkC78KcJK/T223vpY0pb5G582+sXn/P1mvJz00CxO/C0+Yv6uwRL8jiF2+A+I9v/5w/D6tsOk/gNYWv3wn4j+hv0e+eLv/vjnb475If+C+rg2nvmSJ1j+gIuA/LHxIv/E+IL+FAg9AN0MFv9O5tr4oTtu/+fEav2z+Y79NyD8/UTjzP+enrb6u6Gm/wIZqv3tZ2b9xRNs/9YEWQNQZcL5Zr7+9ShbQvm+P1j/I8pa/8RcVv7Whj71hVmy/GKLDvhOdYr7nS6K/eBlVvpFml77lVRO/Lz9Av3n+/73nmA5AuqyGP+NVK7+hVbU+cPBbv2FoEb+Yce6+GMTFPhoeFL6v5IG+xz8gvuNq9j898Di/gAEZQIYpLb5spsC+VDvVvMoZor+cbZe/pLBZv7quib4uQyu/mfoEv6Ze379Ym3a/pVHIvsq+0z8eRHA/fVpTvyOGYb+PJpe/xLphvwCv8r5VGUS+OnhQPtd+hz7Pq9M/arAnP/VihL42yrk/bYFKv4jMIL+1lls+MOWIv4lwyr6B1Hm/B5uqv5cOe7+Ex8A/ie6+P5t45b17LZa+UWc3v/ZqXD4L4tI+E8h9vjMD8r58dxy/rpp8P7qaDb74YJG+5aaVv/cyPr7SjpG/9KYyviH1575+2+8/gutYv/EAy74F9qa/wwZXv5JcAL75BtE+o3jwP1csTz/hm+W+I9DZv0HrYb/hBvS+cqjhvqWhe78TPM+/X1sGQBhI376y8T8/BzCMv8heKL8rwHG/3qYYv7DWqr33s5m+hrI0vzj9cr9UrBlAKnKBv/qgRr0US8m+QidmvsHYcr8B7tq/7e1Nvwtvw74JHK4+LVoYv3+6q79eQQa/VTNQPlfHvz0bRpG95zYUv2rmkL/ZxsE8nX10v6oUXj/nF8W+8FCXPogi/75Lqgy/OnccP1o1JD4r/eG/WD9jvjMl4L5kn129qaxJP49t0r/I3JE+naIDPhLPij/Mhf++2eptP8/xzz9Ec44/ZlOzPlPyVb8O10c9ebZCvjisab9YffC+ZRlJvcu5FL8ufzi+qREuvnk5gb/YmJS/Omb0vl+EGL8PXRO+wrcgO0SL5j/stbG/Oo0WPx1q2T9Lm0+/xhEqvjGwV7/5u1U/yUqAv+3UyD6paFO+L/5Yv6b2ob6jxP++pUwZPhI/DL+0ity+2PHsvu56Tr9WvAy/Gc5TPuyKCUDyCpW/8f2kvzqaO790TmW+0I/Rv5WlN7/4JMY/SAIEQF+E0j91mhy/YWS5Pa4AP79BF6M9kFjTPuNRer+opEK/H+Oqv4t5a76q/5S/NioCP20mkr85FdA/piLMPRJUer96Jlq/umI+v6Anpb9XlM6+Eg2KvM0OHkAxK6M+QAGLPwJtC7/4fJ2/iqYnO4tt8b7IvKq/pW+Kv3dkLj3QM9O+0vcBP2mn+L0aOqy/HIMYQBLrwj0hSCM+VJGkPsWBar/pERO/JOSuvlN9Gj5dBIW/EZW6PwbPRj4J9om/yQttvrQuD0D+4Pw+P+mVv50mir/Ftvo/Izl8PSfiPj+pG+E+OGf9Pe9CEb5ROsY/NF3jvjmNK7+UBdo/ZbGAv0AC0T+18lC/8EmBviCV378aJ6G+oCsGQILytb9jmb69rziQvrWfPjxvQlA/cczZOxOyvj9VFXs/TXQFQKGNGUDBGGq/UPeBv8eMib+Rloq/IJByv8zbzT+Krsk94zu1Pbp9NL96yoK9Id6Nv6AFYz5DVpa8d3eAv74zRz41yrY+K00LQPPN6L4AEg69FEW2PimmQ7/H12O+nYZ5vwIYgj8j1co/KJ0+vYU2BUCp+4i/EDlJPt6Err55fm2/SGzvvktK1795Iru+ec3IPWvVdr+nT72+pH5nPy3jBECELKM9vNwhvSYWDj8qQQRAczTJPzDIyb/hhUW/lHiTv2KeET1eZom8/qDsP3T+xj/qnoa9pPCfv/ikFL+I54e/+WAIQKDHbL8vHK0/z8j/vpNR9T1CzbW9Ew6QvpIdar4VcUQ/6apyv0HTSj8mFZG/aVbevmtq1D8NMLw+lFWUvsvhAkB1K3M/a8q0PShyN78P92I+wpgqv/W8/D/buME/uk2Lv1y0GL6Tq/C+9zy2P3i1jj4KKoC++/fYO9jiZj5XY0+/Kscav8yn9b2+BCE/EqnJv/xDcT8pmBBA1QrrP0tlwz1sO3I/moXhPU/Cg79xjQo9reFBv3QDEL6OITe+lpjXvqp8EECOPqs+ikaVv0dwHbx/q4W/JbSDv5BLaT5Fido93Bgwv867B0BT5y4+NQI1vzbYiD5SOza/jzykPpnSmb81MUK/NAzYPgC0CkCXNoE9tyzjP9Qv5L85r6e/mBFmv9Ravj+CAdA85gffPyUCmL7i+JA+ukA+Pexbo74UBkW/xN9yv4zxyb9eWgNAqeLcPflQwz/yPAm/iMYPPbXcvr5yBwo/MnpgPreNgj87w8k/JqORvy1Q9b7R4BRACcNjvkf64j+K65q/Foihv4YcsL9WG82/ASfcPGxTEzxl6hRA0Ihev3iagr958rW+4Q6svq0iQr8jQTi+qKb8P/niGkAOPfC9SO1dvo7fPL60shlAmiKpP5U15b9Rj/C+f33dOvpjz74LQLW/QZfzvjTXNb5s+Jc97Mz0P87FEj0PqJk+XOY7v0ITib8S0ay+q502v7xdTj/iBRe/eACLv+o7ar8snmg83D5fPvEHi76Ciue92M/OP+CsDz/3NvO+xAwev60byr6zA6U9ghwCQLkcpb2SRi0+07rSPx3D6T6W3dm/QKQSPrs5U7+oa8Q/Uf7jvdlzC0Apdim/igFhPzopC0A+1oO/vYNAvr2B1L10Pje/mnOrPvtoLr5udIq/kN8QQMMHBDyA5gW/en1hv/FbUj9mRuQ/4SoNPD6qP7yrqZM+cGr9vbbF4j5ucui9m40+vwY9/D9xyLm+C7kdvHRlsb+P06Y+PUDWPz1XRz0d3Xg93UCyv+ZLzL5bnvc9CI/QPzS9n78qDMU/iYAHQGEbgz+r2Im/tXLvPuEI6z8/EvS9Gj/XPXCuBkCAl9s+Pqb0PUVnGD5eNDa/KLMTPKIAwb2g1lA7fzxGv6xSPT+qo6G/z7BqvwATgb91RVS9EUpDv7RxqT4COvc/JzA0vcY8Ej7Y9eW9f8INu8qMHL/qXNq9m4r+P2aM7L36eZS/1lZ3PiGwvD6I1rE+JHfQP9vb0D1/mtS+GJiAv/sCxD9pmOG/8it/v0w0sT9yfxlAxnDbP7e6JL8VoQo/L/JhPuf2Fr8FIL2+Fb6DPj15YD1d2Eg+hQuXuyHcHT6UU0G/B1zKP3pHgT/7GYK/+i35PsU6hr+V0Qw/fJ4xPuaETb9NoqI9hKsAQCVVzz4ljsA+HWgxvq+Zbj+/vSu/bXS3v13JwT0mdOS+vVpvPJysVby/c+y+nd3wvl1HgL/Rl8s/hmAUv8D3uj4ZlaG/aqGOP5N7l78y0zK/sOOwv+QsfT/omFs+f143v4DTqL+/DNK+c1wvv/U+z75ZLOY+C7dgP0iYWz86NGK+YCcOQG3wn75mvOA/yWJiP0xwjz/Sxv0/ekG1vv1iVL9JGYO+s1UBP6NnmL1QmQy/rgz9vthVFb7mlwU/Xy9FvtdfKD0G+ME/xB5+PzoFTL/L7WK/TRzVP1bWyT8cOOG+RfRFvwxhkr8k/Jc9y+uEv7V1CUChN8U/wy+av9KRZb+LoYI+PTRXPzSQVT4xtCk++rxkPpDKiL8oxH0+v9MFv+r2Bz+MmUO/6iTRvwGHLr8OuSW/SwQGQBufbb8Rrxc+0QLtPxfcsD8P3jQ+M1YOPcGLgj5Kdm0+xSnKPpbvOz/uezy/Dntsv0xGEEDTPj6+tgW9vSLY27/iDYG+k/GtvoxxGL+PcM8/DLR7vzOa0L8Zpkg/UCkePua4ZrxK4wRAjsV/P1K9tL93fZM+OU8DvWost72jXAFAc+fqPovtZz5JZPU/gl4PPJP2lb/7Icu/lnqpv0oidb/LFws+LUHgv+7VUL89PNu+IGljP8OZX79tLKM9GBihPrBWbj36n2C/N8oxvxkp9z8p0Ys/Ms1IvaU3vj/nslc/40JrP8HI2b9RnCm/V76Hvy4q8TzjZtY+6qcMvovT9Tzwt5U+10UkPvmLKr7+YR09Jmp2PimolT7VLxFAEZ55vzZpDEB5wNI/q8mGv2XBdb+OBw9AqC6XPv+cGkCeNLK+JxjjPw6DuL32NUO/pjQLQMviNb9O55G/r0mTv4yW771ct12/9duFO/C3FL7BIFK/wXrbvmCtvj916aK/Iq7vPkz/nzzDj50+NP1/Pw9tJD5buBY9RCscP/jdlL5X0gJAHtA7vyflGUCBdBa/7IcHQD75ZTlwY9O+J1wGv29vsL8BBsy+cijKPgMB6D/lez6/pUyQP0QHl72+Mry+c8qWvn+5276dEBa+IuF9vzVtzj+mshm/02ACQL6ByT/s3Tu/K9RPPong9T+nNMy/q6qJP+2CSz3y5yq/e0gNP/4Xy7+DdkK/3u6iP1u82b47QLI7/DEEQO93VT/7N7m/eNeUv6vMBkBRgrQ+ZlkDQE4BRL8USLK/cFOPPh6kI7/UT+o9pe+ev7pTuj/zZhK+8B8bv5TnZT47HEg/00GNvwd5Er8W5Mu+7rKZv/emIz4zgwy9bUjOv3SKbr8SGS+/6ayivbSfv74kZEs/E7qPvYY1VD4S0+W9qOPqvpk3aj86Yk8+bQDDP1RQ4T20NgE/3DAIQF0eXz+Tyfu+pKiGPkA9nL8TziE+y1Chv7hJYD+m5+y98KwEQNZRob/lm/892dQaQNDggT6POqe/zeylv4TjmT7Gg/g/ybt0v/AUgL+Z4nW/mXjVPojuW7+Z3JK+mvhcv0gm5T5JZAk9p++dPip5xT7HzMA+jyzePd//8D3XvHQ/oTHHvhy27T9ECoG/2I/3Pg==\",\"dtype\":\"float32\",\"shape\":[1000]}},\"selected\":{\"id\":\"1723\",\"type\":\"Selection\"},\"selection_policy\":{\"id\":\"1724\",\"type\":\"UnionRenderers\"}},\"id\":\"1631\",\"type\":\"ColumnDataSource\"},{\"attributes\":{},\"id\":\"1654\",\"type\":\"SaveTool\"},{\"attributes\":{},\"id\":\"1639\",\"type\":\"LinearScale\"}],\"root_ids\":[\"1632\"]},\"title\":\"Bokeh Application\",\"version\":\"1.2.0\"}};\n",
       "  var render_items = [{\"docid\":\"8acf5667-dd07-4eca-82f6-c5f724fca9fb\",\"roots\":{\"1632\":\"af971f58-271c-426e-b79a-0d01658733d1\"}}];\n",
       "  root.Bokeh.embed.embed_items_notebook(docs_json, render_items);\n",
       "\n",
       "  }\n",
       "  if (root.Bokeh !== undefined) {\n",
       "    embed_document(root);\n",
       "  } else {\n",
       "    var attempts = 0;\n",
       "    var timer = setInterval(function(root) {\n",
       "      if (root.Bokeh !== undefined) {\n",
       "        embed_document(root);\n",
       "        clearInterval(timer);\n",
       "      }\n",
       "      attempts++;\n",
       "      if (attempts > 100) {\n",
       "        console.log(\"Bokeh: ERROR: Unable to run BokehJS code because BokehJS library is missing\");\n",
       "        clearInterval(timer);\n",
       "      }\n",
       "    }, 10, root)\n",
       "  }\n",
       "})(window);"
      ],
      "application/vnd.bokehjs_exec.v0+json": ""
     },
     "metadata": {
      "application/vnd.bokehjs_exec.v0+json": {
       "id": "1632"
      }
     },
     "output_type": "display_data"
    },
    {
     "data": {
      "text/html": [
       "<div style=\"display: table;\"><div style=\"display: table-row;\"><div style=\"display: table-cell;\"><b title=\"bokeh.plotting.figure.Figure\">Figure</b>(</div><div style=\"display: table-cell;\">id&nbsp;=&nbsp;'1632', <span id=\"1780\" style=\"cursor: pointer;\">&hellip;)</span></div></div><div class=\"1779\" style=\"display: none;\"><div style=\"display: table-cell;\"></div><div style=\"display: table-cell;\">above&nbsp;=&nbsp;[],</div></div><div class=\"1779\" style=\"display: none;\"><div style=\"display: table-cell;\"></div><div style=\"display: table-cell;\">align&nbsp;=&nbsp;'start',</div></div><div class=\"1779\" style=\"display: none;\"><div style=\"display: table-cell;\"></div><div style=\"display: table-cell;\">aspect_ratio&nbsp;=&nbsp;None,</div></div><div class=\"1779\" style=\"display: none;\"><div style=\"display: table-cell;\"></div><div style=\"display: table-cell;\">aspect_scale&nbsp;=&nbsp;1,</div></div><div class=\"1779\" style=\"display: none;\"><div style=\"display: table-cell;\"></div><div style=\"display: table-cell;\">background&nbsp;=&nbsp;None,</div></div><div class=\"1779\" style=\"display: none;\"><div style=\"display: table-cell;\"></div><div style=\"display: table-cell;\">background_fill_alpha&nbsp;=&nbsp;{'value': 1.0},</div></div><div class=\"1779\" style=\"display: none;\"><div style=\"display: table-cell;\"></div><div style=\"display: table-cell;\">background_fill_color&nbsp;=&nbsp;{'value': '#ffffff'},</div></div><div class=\"1779\" style=\"display: none;\"><div style=\"display: table-cell;\"></div><div style=\"display: table-cell;\">below&nbsp;=&nbsp;[LinearAxis(id='1641', ...)],</div></div><div class=\"1779\" style=\"display: none;\"><div style=\"display: table-cell;\"></div><div style=\"display: table-cell;\">border_fill_alpha&nbsp;=&nbsp;{'value': 1.0},</div></div><div class=\"1779\" style=\"display: none;\"><div style=\"display: table-cell;\"></div><div style=\"display: table-cell;\">border_fill_color&nbsp;=&nbsp;{'value': '#ffffff'},</div></div><div class=\"1779\" style=\"display: none;\"><div style=\"display: table-cell;\"></div><div style=\"display: table-cell;\">center&nbsp;=&nbsp;[Grid(id='1645', ...), Grid(id='1650', ...)],</div></div><div class=\"1779\" style=\"display: none;\"><div style=\"display: table-cell;\"></div><div style=\"display: table-cell;\">css_classes&nbsp;=&nbsp;[],</div></div><div class=\"1779\" style=\"display: none;\"><div style=\"display: table-cell;\"></div><div style=\"display: table-cell;\">disabled&nbsp;=&nbsp;False,</div></div><div class=\"1779\" style=\"display: none;\"><div style=\"display: table-cell;\"></div><div style=\"display: table-cell;\">extra_x_ranges&nbsp;=&nbsp;{},</div></div><div class=\"1779\" style=\"display: none;\"><div style=\"display: table-cell;\"></div><div style=\"display: table-cell;\">extra_y_ranges&nbsp;=&nbsp;{},</div></div><div class=\"1779\" style=\"display: none;\"><div style=\"display: table-cell;\"></div><div style=\"display: table-cell;\">frame_height&nbsp;=&nbsp;None,</div></div><div class=\"1779\" style=\"display: none;\"><div style=\"display: table-cell;\"></div><div style=\"display: table-cell;\">frame_width&nbsp;=&nbsp;None,</div></div><div class=\"1779\" style=\"display: none;\"><div style=\"display: table-cell;\"></div><div style=\"display: table-cell;\">height&nbsp;=&nbsp;None,</div></div><div class=\"1779\" style=\"display: none;\"><div style=\"display: table-cell;\"></div><div style=\"display: table-cell;\">height_policy&nbsp;=&nbsp;'auto',</div></div><div class=\"1779\" style=\"display: none;\"><div style=\"display: table-cell;\"></div><div style=\"display: table-cell;\">hidpi&nbsp;=&nbsp;True,</div></div><div class=\"1779\" style=\"display: none;\"><div style=\"display: table-cell;\"></div><div style=\"display: table-cell;\">js_event_callbacks&nbsp;=&nbsp;{},</div></div><div class=\"1779\" style=\"display: none;\"><div style=\"display: table-cell;\"></div><div style=\"display: table-cell;\">js_property_callbacks&nbsp;=&nbsp;{},</div></div><div class=\"1779\" style=\"display: none;\"><div style=\"display: table-cell;\"></div><div style=\"display: table-cell;\">left&nbsp;=&nbsp;[LinearAxis(id='1646', ...)],</div></div><div class=\"1779\" style=\"display: none;\"><div style=\"display: table-cell;\"></div><div style=\"display: table-cell;\">lod_factor&nbsp;=&nbsp;10,</div></div><div class=\"1779\" style=\"display: none;\"><div style=\"display: table-cell;\"></div><div style=\"display: table-cell;\">lod_interval&nbsp;=&nbsp;300,</div></div><div class=\"1779\" style=\"display: none;\"><div style=\"display: table-cell;\"></div><div style=\"display: table-cell;\">lod_threshold&nbsp;=&nbsp;2000,</div></div><div class=\"1779\" style=\"display: none;\"><div style=\"display: table-cell;\"></div><div style=\"display: table-cell;\">lod_timeout&nbsp;=&nbsp;500,</div></div><div class=\"1779\" style=\"display: none;\"><div style=\"display: table-cell;\"></div><div style=\"display: table-cell;\">margin&nbsp;=&nbsp;(0, 0, 0, 0),</div></div><div class=\"1779\" style=\"display: none;\"><div style=\"display: table-cell;\"></div><div style=\"display: table-cell;\">match_aspect&nbsp;=&nbsp;False,</div></div><div class=\"1779\" style=\"display: none;\"><div style=\"display: table-cell;\"></div><div style=\"display: table-cell;\">max_height&nbsp;=&nbsp;None,</div></div><div class=\"1779\" style=\"display: none;\"><div style=\"display: table-cell;\"></div><div style=\"display: table-cell;\">max_width&nbsp;=&nbsp;None,</div></div><div class=\"1779\" style=\"display: none;\"><div style=\"display: table-cell;\"></div><div style=\"display: table-cell;\">min_border&nbsp;=&nbsp;5,</div></div><div class=\"1779\" style=\"display: none;\"><div style=\"display: table-cell;\"></div><div style=\"display: table-cell;\">min_border_bottom&nbsp;=&nbsp;None,</div></div><div class=\"1779\" style=\"display: none;\"><div style=\"display: table-cell;\"></div><div style=\"display: table-cell;\">min_border_left&nbsp;=&nbsp;None,</div></div><div class=\"1779\" style=\"display: none;\"><div style=\"display: table-cell;\"></div><div style=\"display: table-cell;\">min_border_right&nbsp;=&nbsp;None,</div></div><div class=\"1779\" style=\"display: none;\"><div style=\"display: table-cell;\"></div><div style=\"display: table-cell;\">min_border_top&nbsp;=&nbsp;None,</div></div><div class=\"1779\" style=\"display: none;\"><div style=\"display: table-cell;\"></div><div style=\"display: table-cell;\">min_height&nbsp;=&nbsp;None,</div></div><div class=\"1779\" style=\"display: none;\"><div style=\"display: table-cell;\"></div><div style=\"display: table-cell;\">min_width&nbsp;=&nbsp;None,</div></div><div class=\"1779\" style=\"display: none;\"><div style=\"display: table-cell;\"></div><div style=\"display: table-cell;\">name&nbsp;=&nbsp;None,</div></div><div class=\"1779\" style=\"display: none;\"><div style=\"display: table-cell;\"></div><div style=\"display: table-cell;\">outline_line_alpha&nbsp;=&nbsp;{'value': 1.0},</div></div><div class=\"1779\" style=\"display: none;\"><div style=\"display: table-cell;\"></div><div style=\"display: table-cell;\">outline_line_cap&nbsp;=&nbsp;'butt',</div></div><div class=\"1779\" style=\"display: none;\"><div style=\"display: table-cell;\"></div><div style=\"display: table-cell;\">outline_line_color&nbsp;=&nbsp;{'value': '#e5e5e5'},</div></div><div class=\"1779\" style=\"display: none;\"><div style=\"display: table-cell;\"></div><div style=\"display: table-cell;\">outline_line_dash&nbsp;=&nbsp;[],</div></div><div class=\"1779\" style=\"display: none;\"><div style=\"display: table-cell;\"></div><div style=\"display: table-cell;\">outline_line_dash_offset&nbsp;=&nbsp;0,</div></div><div class=\"1779\" style=\"display: none;\"><div style=\"display: table-cell;\"></div><div style=\"display: table-cell;\">outline_line_join&nbsp;=&nbsp;'bevel',</div></div><div class=\"1779\" style=\"display: none;\"><div style=\"display: table-cell;\"></div><div style=\"display: table-cell;\">outline_line_width&nbsp;=&nbsp;{'value': 1},</div></div><div class=\"1779\" style=\"display: none;\"><div style=\"display: table-cell;\"></div><div style=\"display: table-cell;\">output_backend&nbsp;=&nbsp;'canvas',</div></div><div class=\"1779\" style=\"display: none;\"><div style=\"display: table-cell;\"></div><div style=\"display: table-cell;\">plot_height&nbsp;=&nbsp;400,</div></div><div class=\"1779\" style=\"display: none;\"><div style=\"display: table-cell;\"></div><div style=\"display: table-cell;\">plot_width&nbsp;=&nbsp;600,</div></div><div class=\"1779\" style=\"display: none;\"><div style=\"display: table-cell;\"></div><div style=\"display: table-cell;\">renderers&nbsp;=&nbsp;[GlyphRenderer(id='1667', ...)],</div></div><div class=\"1779\" style=\"display: none;\"><div style=\"display: table-cell;\"></div><div style=\"display: table-cell;\">reset_policy&nbsp;=&nbsp;'standard',</div></div><div class=\"1779\" style=\"display: none;\"><div style=\"display: table-cell;\"></div><div style=\"display: table-cell;\">right&nbsp;=&nbsp;[],</div></div><div class=\"1779\" style=\"display: none;\"><div style=\"display: table-cell;\"></div><div style=\"display: table-cell;\">sizing_mode&nbsp;=&nbsp;None,</div></div><div class=\"1779\" style=\"display: none;\"><div style=\"display: table-cell;\"></div><div style=\"display: table-cell;\">subscribed_events&nbsp;=&nbsp;[],</div></div><div class=\"1779\" style=\"display: none;\"><div style=\"display: table-cell;\"></div><div style=\"display: table-cell;\">tags&nbsp;=&nbsp;[],</div></div><div class=\"1779\" style=\"display: none;\"><div style=\"display: table-cell;\"></div><div style=\"display: table-cell;\">title&nbsp;=&nbsp;Title(id='1716', ...),</div></div><div class=\"1779\" style=\"display: none;\"><div style=\"display: table-cell;\"></div><div style=\"display: table-cell;\">title_location&nbsp;=&nbsp;'above',</div></div><div class=\"1779\" style=\"display: none;\"><div style=\"display: table-cell;\"></div><div style=\"display: table-cell;\">toolbar&nbsp;=&nbsp;Toolbar(id='1657', ...),</div></div><div class=\"1779\" style=\"display: none;\"><div style=\"display: table-cell;\"></div><div style=\"display: table-cell;\">toolbar_location&nbsp;=&nbsp;'right',</div></div><div class=\"1779\" style=\"display: none;\"><div style=\"display: table-cell;\"></div><div style=\"display: table-cell;\">toolbar_sticky&nbsp;=&nbsp;True,</div></div><div class=\"1779\" style=\"display: none;\"><div style=\"display: table-cell;\"></div><div style=\"display: table-cell;\">visible&nbsp;=&nbsp;True,</div></div><div class=\"1779\" style=\"display: none;\"><div style=\"display: table-cell;\"></div><div style=\"display: table-cell;\">width&nbsp;=&nbsp;None,</div></div><div class=\"1779\" style=\"display: none;\"><div style=\"display: table-cell;\"></div><div style=\"display: table-cell;\">width_policy&nbsp;=&nbsp;'auto',</div></div><div class=\"1779\" style=\"display: none;\"><div style=\"display: table-cell;\"></div><div style=\"display: table-cell;\">x_range&nbsp;=&nbsp;DataRange1d(id='1633', ...),</div></div><div class=\"1779\" style=\"display: none;\"><div style=\"display: table-cell;\"></div><div style=\"display: table-cell;\">x_scale&nbsp;=&nbsp;LinearScale(id='1637', ...),</div></div><div class=\"1779\" style=\"display: none;\"><div style=\"display: table-cell;\"></div><div style=\"display: table-cell;\">y_range&nbsp;=&nbsp;DataRange1d(id='1635', ...),</div></div><div class=\"1779\" style=\"display: none;\"><div style=\"display: table-cell;\"></div><div style=\"display: table-cell;\">y_scale&nbsp;=&nbsp;LinearScale(id='1639', ...))</div></div></div>\n",
       "<script>\n",
       "(function() {\n",
       "  var expanded = false;\n",
       "  var ellipsis = document.getElementById(\"1780\");\n",
       "  ellipsis.addEventListener(\"click\", function() {\n",
       "    var rows = document.getElementsByClassName(\"1779\");\n",
       "    for (var i = 0; i < rows.length; i++) {\n",
       "      var el = rows[i];\n",
       "      el.style.display = expanded ? \"none\" : \"table-row\";\n",
       "    }\n",
       "    ellipsis.innerHTML = expanded ? \"&hellip;)\" : \"&lsaquo;&lsaquo;&lsaquo;\";\n",
       "    expanded = !expanded;\n",
       "  });\n",
       "})();\n",
       "</script>\n"
      ],
      "text/plain": [
       "Figure(id='1632', ...)"
      ]
     },
     "execution_count": 73,
     "metadata": {},
     "output_type": "execute_result"
    }
   ],
   "source": [
    "draw_vectors(word_tsne[:, 0], word_tsne[:, 1], color='green', token=words)"
   ]
  },
  {
   "cell_type": "markdown",
   "metadata": {},
   "source": [
    "### Visualizing phrases\n",
    "\n",
    "Word embeddings can also be used to represent short phrases. The simplest way is to take __an average__ of vectors for all tokens in the phrase with some weights.\n",
    "\n",
    "This trick is useful to identify what data are you working with: find if there are any outliers, clusters or other artefacts.\n",
    "\n",
    "Let's try this new hammer on our data!\n"
   ]
  },
  {
   "cell_type": "code",
   "execution_count": 90,
   "metadata": {},
   "outputs": [],
   "source": [
    "def get_phrase_embedding(phrase):\n",
    "    \"\"\"\n",
    "    Convert phrase to a vector by aggregating it's word embeddings. See description above.\n",
    "    \"\"\"\n",
    "    # 1. lowercase phrase\n",
    "    # 2. tokenize phrase\n",
    "    # 3. average word vectors for all words in tokenized phrase\n",
    "    # skip words that are not in model's vocabulary\n",
    "    # if all words are missing from vocabulary, return zeros\n",
    "    \n",
    "    vector = np.zeros([model.vector_size], dtype='float32')\n",
    "    \n",
    "    cnt = 0\n",
    "    \n",
    "    for token in tokenizer.tokenize(phrase.lower()):\n",
    "        if token in model:\n",
    "            vector += model.get_vector(token)\n",
    "            cnt += 1\n",
    "    if cnt:\n",
    "        vector /= cnt\n",
    "    \n",
    "    return vector\n",
    "        \n",
    "    "
   ]
  },
  {
   "cell_type": "code",
   "execution_count": 91,
   "metadata": {},
   "outputs": [],
   "source": [
    "vector = get_phrase_embedding(\"I'm very sure. This never happened to me before...\")\n",
    "assert np.allclose(vector[::10],\n",
    "                   np.array([ 0.31807372, -0.02558171,  0.0933293 , -0.1002182 , -1.0278689 ,\n",
    "                             -0.16621883,  0.05083408,  0.17989802,  1.3701859 ,  0.08655966],\n",
    "                              dtype=np.float32))"
   ]
  },
  {
   "cell_type": "code",
   "execution_count": 92,
   "metadata": {},
   "outputs": [],
   "source": [
    "# let's only consider ~5k phrases for a first run.\n",
    "chosen_phrases = data[::len(data) // 1000]\n",
    "\n",
    "# compute vectors for chosen phrases\n",
    "phrase_vectors = np.array([get_phrase_embedding(phrase) for phrase in chosen_phrases])"
   ]
  },
  {
   "cell_type": "code",
   "execution_count": 93,
   "metadata": {},
   "outputs": [],
   "source": [
    "assert isinstance(phrase_vectors, np.ndarray) and np.isfinite(phrase_vectors).all()\n",
    "assert phrase_vectors.shape == (len(chosen_phrases), model.vector_size)"
   ]
  },
  {
   "cell_type": "code",
   "execution_count": 94,
   "metadata": {},
   "outputs": [
    {
     "name": "stdout",
     "output_type": "stream",
     "text": [
      "[t-SNE] Computing 91 nearest neighbors...\n",
      "[t-SNE] Indexed 1001 samples in 0.015s...\n",
      "[t-SNE] Computed neighbors for 1001 samples in 0.200s...\n",
      "[t-SNE] Computed conditional probabilities for sample 1000 / 1001\n",
      "[t-SNE] Computed conditional probabilities for sample 1001 / 1001\n",
      "[t-SNE] Mean sigma: 0.477874\n",
      "[t-SNE] Computed conditional probabilities in 0.047s\n",
      "[t-SNE] Iteration 50: error = 79.3867798, gradient norm = 0.3341210 (50 iterations in 5.327s)\n",
      "[t-SNE] Iteration 100: error = 80.3990250, gradient norm = 0.3064474 (50 iterations in 5.812s)\n",
      "[t-SNE] Iteration 150: error = 81.4542465, gradient norm = 0.2885543 (50 iterations in 5.589s)\n",
      "[t-SNE] Iteration 200: error = 82.5826492, gradient norm = 0.2851577 (50 iterations in 5.727s)\n",
      "[t-SNE] Iteration 250: error = 83.0082855, gradient norm = 0.2946007 (50 iterations in 6.321s)\n",
      "[t-SNE] KL divergence after 250 iterations with early exaggeration: 83.008286\n",
      "[t-SNE] Iteration 300: error = 2.1810768, gradient norm = 0.0025562 (50 iterations in 4.496s)\n",
      "[t-SNE] Iteration 350: error = 1.9877391, gradient norm = 0.0022675 (50 iterations in 3.581s)\n",
      "[t-SNE] Iteration 400: error = 1.9413196, gradient norm = 0.0005086 (50 iterations in 3.169s)\n",
      "[t-SNE] Iteration 450: error = 1.9202547, gradient norm = 0.0003183 (50 iterations in 3.096s)\n",
      "[t-SNE] Iteration 500: error = 1.9077607, gradient norm = 0.0002653 (50 iterations in 3.128s)\n",
      "[t-SNE] Iteration 550: error = 1.8975495, gradient norm = 0.0002771 (50 iterations in 2.964s)\n",
      "[t-SNE] Iteration 600: error = 1.8873186, gradient norm = 0.0002210 (50 iterations in 2.981s)\n",
      "[t-SNE] Iteration 650: error = 1.8773056, gradient norm = 0.0003047 (50 iterations in 2.931s)\n",
      "[t-SNE] Iteration 700: error = 1.8676124, gradient norm = 0.0002607 (50 iterations in 2.982s)\n",
      "[t-SNE] Iteration 750: error = 1.8617129, gradient norm = 0.0003509 (50 iterations in 2.927s)\n",
      "[t-SNE] Iteration 800: error = 1.8584861, gradient norm = 0.0001298 (50 iterations in 2.974s)\n",
      "[t-SNE] Iteration 850: error = 1.8570734, gradient norm = 0.0001141 (50 iterations in 3.006s)\n",
      "[t-SNE] Iteration 900: error = 1.8563375, gradient norm = 0.0000833 (50 iterations in 2.951s)\n",
      "[t-SNE] Iteration 950: error = 1.8546656, gradient norm = 0.0001336 (50 iterations in 3.087s)\n",
      "[t-SNE] Iteration 1000: error = 1.8532338, gradient norm = 0.0001444 (50 iterations in 3.500s)\n",
      "[t-SNE] KL divergence after 1000 iterations: 1.853234\n"
     ]
    }
   ],
   "source": [
    "# map vectors into 2d space with pca, tsne or your other method of choice\n",
    "# don't forget to normalize\n",
    "\n",
    "phrase_vectors_2d = TSNE(verbose=1000).fit_transform(phrase_vectors)\n",
    "\n",
    "phrase_vectors_2d = (phrase_vectors_2d - phrase_vectors_2d.mean(axis=0)) / phrase_vectors_2d.std(axis=0)"
   ]
  },
  {
   "cell_type": "code",
   "execution_count": 95,
   "metadata": {},
   "outputs": [
    {
     "data": {
      "text/html": [
       "\n",
       "\n",
       "\n",
       "\n",
       "\n",
       "\n",
       "  <div class=\"bk-root\" id=\"40838673-93f7-4d51-9675-dfe000e982e7\" data-root-id=\"1945\"></div>\n"
      ]
     },
     "metadata": {},
     "output_type": "display_data"
    },
    {
     "data": {
      "application/javascript": [
       "(function(root) {\n",
       "  function embed_document(root) {\n",
       "    \n",
       "  var docs_json = {\"f1600024-50a0-4e8b-a84d-7917d0960963\":{\"roots\":{\"references\":[{\"attributes\":{\"below\":[{\"id\":\"1954\",\"type\":\"LinearAxis\"}],\"center\":[{\"id\":\"1958\",\"type\":\"Grid\"},{\"id\":\"1963\",\"type\":\"Grid\"}],\"left\":[{\"id\":\"1959\",\"type\":\"LinearAxis\"}],\"plot_height\":400,\"renderers\":[{\"id\":\"1980\",\"type\":\"GlyphRenderer\"}],\"title\":{\"id\":\"2047\",\"type\":\"Title\"},\"toolbar\":{\"id\":\"1970\",\"type\":\"Toolbar\"},\"x_range\":{\"id\":\"1946\",\"type\":\"DataRange1d\"},\"x_scale\":{\"id\":\"1950\",\"type\":\"LinearScale\"},\"y_range\":{\"id\":\"1948\",\"type\":\"DataRange1d\"},\"y_scale\":{\"id\":\"1952\",\"type\":\"LinearScale\"}},\"id\":\"1945\",\"subtype\":\"Figure\",\"type\":\"Plot\"},{\"attributes\":{\"text\":\"\"},\"id\":\"2047\",\"type\":\"Title\"},{\"attributes\":{},\"id\":\"1967\",\"type\":\"SaveTool\"},{\"attributes\":{},\"id\":\"2055\",\"type\":\"UnionRenderers\"},{\"attributes\":{},\"id\":\"1955\",\"type\":\"BasicTicker\"},{\"attributes\":{},\"id\":\"1968\",\"type\":\"ResetTool\"},{\"attributes\":{},\"id\":\"2051\",\"type\":\"BasicTickFormatter\"},{\"attributes\":{},\"id\":\"1964\",\"type\":\"PanTool\"},{\"attributes\":{},\"id\":\"1952\",\"type\":\"LinearScale\"},{\"attributes\":{\"fill_alpha\":{\"value\":0.25},\"fill_color\":{\"field\":\"color\"},\"line_alpha\":{\"value\":0.25},\"line_color\":{\"field\":\"color\"},\"size\":{\"units\":\"screen\",\"value\":20},\"x\":{\"field\":\"x\"},\"y\":{\"field\":\"y\"}},\"id\":\"1978\",\"type\":\"Scatter\"},{\"attributes\":{},\"id\":\"2049\",\"type\":\"BasicTickFormatter\"},{\"attributes\":{\"formatter\":{\"id\":\"2051\",\"type\":\"BasicTickFormatter\"},\"ticker\":{\"id\":\"1960\",\"type\":\"BasicTicker\"}},\"id\":\"1959\",\"type\":\"LinearAxis\"},{\"attributes\":{\"fill_alpha\":{\"value\":0.1},\"fill_color\":{\"value\":\"#1f77b4\"},\"line_alpha\":{\"value\":0.1},\"line_color\":{\"value\":\"#1f77b4\"},\"size\":{\"units\":\"screen\",\"value\":20},\"x\":{\"field\":\"x\"},\"y\":{\"field\":\"y\"}},\"id\":\"1979\",\"type\":\"Scatter\"},{\"attributes\":{\"ticker\":{\"id\":\"1955\",\"type\":\"BasicTicker\"}},\"id\":\"1958\",\"type\":\"Grid\"},{\"attributes\":{},\"id\":\"2054\",\"type\":\"Selection\"},{\"attributes\":{},\"id\":\"1965\",\"type\":\"WheelZoomTool\"},{\"attributes\":{\"bottom_units\":\"screen\",\"fill_alpha\":{\"value\":0.5},\"fill_color\":{\"value\":\"lightgrey\"},\"left_units\":\"screen\",\"level\":\"overlay\",\"line_alpha\":{\"value\":1.0},\"line_color\":{\"value\":\"black\"},\"line_dash\":[4,4],\"line_width\":{\"value\":2},\"render_mode\":\"css\",\"right_units\":\"screen\",\"top_units\":\"screen\"},\"id\":\"2053\",\"type\":\"BoxAnnotation\"},{\"attributes\":{},\"id\":\"1969\",\"type\":\"HelpTool\"},{\"attributes\":{\"callback\":null,\"tooltips\":[[\"phrase\",\"@phrase\"]]},\"id\":\"1982\",\"type\":\"HoverTool\"},{\"attributes\":{},\"id\":\"1950\",\"type\":\"LinearScale\"},{\"attributes\":{\"formatter\":{\"id\":\"2049\",\"type\":\"BasicTickFormatter\"},\"ticker\":{\"id\":\"1955\",\"type\":\"BasicTicker\"}},\"id\":\"1954\",\"type\":\"LinearAxis\"},{\"attributes\":{\"active_drag\":\"auto\",\"active_inspect\":\"auto\",\"active_multi\":null,\"active_scroll\":{\"id\":\"1965\",\"type\":\"WheelZoomTool\"},\"active_tap\":\"auto\",\"tools\":[{\"id\":\"1964\",\"type\":\"PanTool\"},{\"id\":\"1965\",\"type\":\"WheelZoomTool\"},{\"id\":\"1966\",\"type\":\"BoxZoomTool\"},{\"id\":\"1967\",\"type\":\"SaveTool\"},{\"id\":\"1968\",\"type\":\"ResetTool\"},{\"id\":\"1969\",\"type\":\"HelpTool\"},{\"id\":\"1982\",\"type\":\"HoverTool\"}]},\"id\":\"1970\",\"type\":\"Toolbar\"},{\"attributes\":{\"data_source\":{\"id\":\"1944\",\"type\":\"ColumnDataSource\"},\"glyph\":{\"id\":\"1978\",\"type\":\"Scatter\"},\"hover_glyph\":null,\"muted_glyph\":null,\"nonselection_glyph\":{\"id\":\"1979\",\"type\":\"Scatter\"},\"selection_glyph\":null,\"view\":{\"id\":\"1981\",\"type\":\"CDSView\"}},\"id\":\"1980\",\"type\":\"GlyphRenderer\"},{\"attributes\":{\"overlay\":{\"id\":\"2053\",\"type\":\"BoxAnnotation\"}},\"id\":\"1966\",\"type\":\"BoxZoomTool\"},{\"attributes\":{},\"id\":\"1960\",\"type\":\"BasicTicker\"},{\"attributes\":{\"source\":{\"id\":\"1944\",\"type\":\"ColumnDataSource\"}},\"id\":\"1981\",\"type\":\"CDSView\"},{\"attributes\":{\"dimension\":1,\"ticker\":{\"id\":\"1960\",\"type\":\"BasicTicker\"}},\"id\":\"1963\",\"type\":\"Grid\"},{\"attributes\":{\"callback\":null},\"id\":\"1946\",\"type\":\"DataRange1d\"},{\"attributes\":{\"callback\":null},\"id\":\"1948\",\"type\":\"DataRange1d\"},{\"attributes\":{\"callback\":null,\"data\":{\"color\":[\"blue\",\"blue\",\"blue\",\"blue\",\"blue\",\"blue\",\"blue\",\"blue\",\"blue\",\"blue\",\"blue\",\"blue\",\"blue\",\"blue\",\"blue\",\"blue\",\"blue\",\"blue\",\"blue\",\"blue\",\"blue\",\"blue\",\"blue\",\"blue\",\"blue\",\"blue\",\"blue\",\"blue\",\"blue\",\"blue\",\"blue\",\"blue\",\"blue\",\"blue\",\"blue\",\"blue\",\"blue\",\"blue\",\"blue\",\"blue\",\"blue\",\"blue\",\"blue\",\"blue\",\"blue\",\"blue\",\"blue\",\"blue\",\"blue\",\"blue\",\"blue\",\"blue\",\"blue\",\"blue\",\"blue\",\"blue\",\"blue\",\"blue\",\"blue\",\"blue\",\"blue\",\"blue\",\"blue\",\"blue\",\"blue\",\"blue\",\"blue\",\"blue\",\"blue\",\"blue\",\"blue\",\"blue\",\"blue\",\"blue\",\"blue\",\"blue\",\"blue\",\"blue\",\"blue\",\"blue\",\"blue\",\"blue\",\"blue\",\"blue\",\"blue\",\"blue\",\"blue\",\"blue\",\"blue\",\"blue\",\"blue\",\"blue\",\"blue\",\"blue\",\"blue\",\"blue\",\"blue\",\"blue\",\"blue\",\"blue\",\"blue\",\"blue\",\"blue\",\"blue\",\"blue\",\"blue\",\"blue\",\"blue\",\"blue\",\"blue\",\"blue\",\"blue\",\"blue\",\"blue\",\"blue\",\"blue\",\"blue\",\"blue\",\"blue\",\"blue\",\"blue\",\"blue\",\"blue\",\"blue\",\"blue\",\"blue\",\"blue\",\"blue\",\"blue\",\"blue\",\"blue\",\"blue\",\"blue\",\"blue\",\"blue\",\"blue\",\"blue\",\"blue\",\"blue\",\"blue\",\"blue\",\"blue\",\"blue\",\"blue\",\"blue\",\"blue\",\"blue\",\"blue\",\"blue\",\"blue\",\"blue\",\"blue\",\"blue\",\"blue\",\"blue\",\"blue\",\"blue\",\"blue\",\"blue\",\"blue\",\"blue\",\"blue\",\"blue\",\"blue\",\"blue\",\"blue\",\"blue\",\"blue\",\"blue\",\"blue\",\"blue\",\"blue\",\"blue\",\"blue\",\"blue\",\"blue\",\"blue\",\"blue\",\"blue\",\"blue\",\"blue\",\"blue\",\"blue\",\"blue\",\"blue\",\"blue\",\"blue\",\"blue\",\"blue\",\"blue\",\"blue\",\"blue\",\"blue\",\"blue\",\"blue\",\"blue\",\"blue\",\"blue\",\"blue\",\"blue\",\"blue\",\"blue\",\"blue\",\"blue\",\"blue\",\"blue\",\"blue\",\"blue\",\"blue\",\"blue\",\"blue\",\"blue\",\"blue\",\"blue\",\"blue\",\"blue\",\"blue\",\"blue\",\"blue\",\"blue\",\"blue\",\"blue\",\"blue\",\"blue\",\"blue\",\"blue\",\"blue\",\"blue\",\"blue\",\"blue\",\"blue\",\"blue\",\"blue\",\"blue\",\"blue\",\"blue\",\"blue\",\"blue\",\"blue\",\"blue\",\"blue\",\"blue\",\"blue\",\"blue\",\"blue\",\"blue\",\"blue\",\"blue\",\"blue\",\"blue\",\"blue\",\"blue\",\"blue\",\"blue\",\"blue\",\"blue\",\"blue\",\"blue\",\"blue\",\"blue\",\"blue\",\"blue\",\"blue\",\"blue\",\"blue\",\"blue\",\"blue\",\"blue\",\"blue\",\"blue\",\"blue\",\"blue\",\"blue\",\"blue\",\"blue\",\"blue\",\"blue\",\"blue\",\"blue\",\"blue\",\"blue\",\"blue\",\"blue\",\"blue\",\"blue\",\"blue\",\"blue\",\"blue\",\"blue\",\"blue\",\"blue\",\"blue\",\"blue\",\"blue\",\"blue\",\"blue\",\"blue\",\"blue\",\"blue\",\"blue\",\"blue\",\"blue\",\"blue\",\"blue\",\"blue\",\"blue\",\"blue\",\"blue\",\"blue\",\"blue\",\"blue\",\"blue\",\"blue\",\"blue\",\"blue\",\"blue\",\"blue\",\"blue\",\"blue\",\"blue\",\"blue\",\"blue\",\"blue\",\"blue\",\"blue\",\"blue\",\"blue\",\"blue\",\"blue\",\"blue\",\"blue\",\"blue\",\"blue\",\"blue\",\"blue\",\"blue\",\"blue\",\"blue\",\"blue\",\"blue\",\"blue\",\"blue\",\"blue\",\"blue\",\"blue\",\"blue\",\"blue\",\"blue\",\"blue\",\"blue\",\"blue\",\"blue\",\"blue\",\"blue\",\"blue\",\"blue\",\"blue\",\"blue\",\"blue\",\"blue\",\"blue\",\"blue\",\"blue\",\"blue\",\"blue\",\"blue\",\"blue\",\"blue\",\"blue\",\"blue\",\"blue\",\"blue\",\"blue\",\"blue\",\"blue\",\"blue\",\"blue\",\"blue\",\"blue\",\"blue\",\"blue\",\"blue\",\"blue\",\"blue\",\"blue\",\"blue\",\"blue\",\"blue\",\"blue\",\"blue\",\"blue\",\"blue\",\"blue\",\"blue\",\"blue\",\"blue\",\"blue\",\"blue\",\"blue\",\"blue\",\"blue\",\"blue\",\"blue\",\"blue\",\"blue\",\"blue\",\"blue\",\"blue\",\"blue\",\"blue\",\"blue\",\"blue\",\"blue\",\"blue\",\"blue\",\"blue\",\"blue\",\"blue\",\"blue\",\"blue\",\"blue\",\"blue\",\"blue\",\"blue\",\"blue\",\"blue\",\"blue\",\"blue\",\"blue\",\"blue\",\"blue\",\"blue\",\"blue\",\"blue\",\"blue\",\"blue\",\"blue\",\"blue\",\"blue\",\"blue\",\"blue\",\"blue\",\"blue\",\"blue\",\"blue\",\"blue\",\"blue\",\"blue\",\"blue\",\"blue\",\"blue\",\"blue\",\"blue\",\"blue\",\"blue\",\"blue\",\"blue\",\"blue\",\"blue\",\"blue\",\"blue\",\"blue\",\"blue\",\"blue\",\"blue\",\"blue\",\"blue\",\"blue\",\"blue\",\"blue\",\"blue\",\"blue\",\"blue\",\"blue\",\"blue\",\"blue\",\"blue\",\"blue\",\"blue\",\"blue\",\"blue\",\"blue\",\"blue\",\"blue\",\"blue\",\"blue\",\"blue\",\"blue\",\"blue\",\"blue\",\"blue\",\"blue\",\"blue\",\"blue\",\"blue\",\"blue\",\"blue\",\"blue\",\"blue\",\"blue\",\"blue\",\"blue\",\"blue\",\"blue\",\"blue\",\"blue\",\"blue\",\"blue\",\"blue\",\"blue\",\"blue\",\"blue\",\"blue\",\"blue\",\"blue\",\"blue\",\"blue\",\"blue\",\"blue\",\"blue\",\"blue\",\"blue\",\"blue\",\"blue\",\"blue\",\"blue\",\"blue\",\"blue\",\"blue\",\"blue\",\"blue\",\"blue\",\"blue\",\"blue\",\"blue\",\"blue\",\"blue\",\"blue\",\"blue\",\"blue\",\"blue\",\"blue\",\"blue\",\"blue\",\"blue\",\"blue\",\"blue\",\"blue\",\"blue\",\"blue\",\"blue\",\"blue\",\"blue\",\"blue\",\"blue\",\"blue\",\"blue\",\"blue\",\"blue\",\"blue\",\"blue\",\"blue\",\"blue\",\"blue\",\"blue\",\"blue\",\"blue\",\"blue\",\"blue\",\"blue\",\"blue\",\"blue\",\"blue\",\"blue\",\"blue\",\"blue\",\"blue\",\"blue\",\"blue\",\"blue\",\"blue\",\"blue\",\"blue\",\"blue\",\"blue\",\"blue\",\"blue\",\"blue\",\"blue\",\"blue\",\"blue\",\"blue\",\"blue\",\"blue\",\"blue\",\"blue\",\"blue\",\"blue\",\"blue\",\"blue\",\"blue\",\"blue\",\"blue\",\"blue\",\"blue\",\"blue\",\"blue\",\"blue\",\"blue\",\"blue\",\"blue\",\"blue\",\"blue\",\"blue\",\"blue\",\"blue\",\"blue\",\"blue\",\"blue\",\"blue\",\"blue\",\"blue\",\"blue\",\"blue\",\"blue\",\"blue\",\"blue\",\"blue\",\"blue\",\"blue\",\"blue\",\"blue\",\"blue\",\"blue\",\"blue\",\"blue\",\"blue\",\"blue\",\"blue\",\"blue\",\"blue\",\"blue\",\"blue\",\"blue\",\"blue\",\"blue\",\"blue\",\"blue\",\"blue\",\"blue\",\"blue\",\"blue\",\"blue\",\"blue\",\"blue\",\"blue\",\"blue\",\"blue\",\"blue\",\"blue\",\"blue\",\"blue\",\"blue\",\"blue\",\"blue\",\"blue\",\"blue\",\"blue\",\"blue\",\"blue\",\"blue\",\"blue\",\"blue\",\"blue\",\"blue\",\"blue\",\"blue\",\"blue\",\"blue\",\"blue\",\"blue\",\"blue\",\"blue\",\"blue\",\"blue\",\"blue\",\"blue\",\"blue\",\"blue\",\"blue\",\"blue\",\"blue\",\"blue\",\"blue\",\"blue\",\"blue\",\"blue\",\"blue\",\"blue\",\"blue\",\"blue\",\"blue\",\"blue\",\"blue\",\"blue\",\"blue\",\"blue\",\"blue\",\"blue\",\"blue\",\"blue\",\"blue\",\"blue\",\"blue\",\"blue\",\"blue\",\"blue\",\"blue\",\"blue\",\"blue\",\"blue\",\"blue\",\"blue\",\"blue\",\"blue\",\"blue\",\"blue\",\"blue\",\"blue\",\"blue\",\"blue\",\"blue\",\"blue\",\"blue\",\"blue\",\"blue\",\"blue\",\"blue\",\"blue\",\"blue\",\"blue\",\"blue\",\"blue\",\"blue\",\"blue\",\"blue\",\"blue\",\"blue\",\"blue\",\"blue\",\"blue\",\"blue\",\"blue\",\"blue\",\"blue\",\"blue\",\"blue\",\"blue\",\"blue\",\"blue\",\"blue\",\"blue\",\"blue\",\"blue\",\"blue\",\"blue\",\"blue\",\"blue\",\"blue\",\"blue\",\"blue\",\"blue\",\"blue\",\"blue\",\"blue\",\"blue\",\"blue\",\"blue\",\"blue\",\"blue\",\"blue\",\"blue\",\"blue\",\"blue\",\"blue\",\"blue\",\"blue\",\"blue\",\"blue\",\"blue\",\"blue\",\"blue\",\"blue\",\"blue\",\"blue\",\"blue\",\"blue\",\"blue\",\"blue\",\"blue\",\"blue\",\"blue\",\"blue\",\"blue\",\"blue\",\"blue\",\"blue\",\"blue\",\"blue\",\"blue\",\"blue\",\"blue\",\"blue\",\"blue\",\"blue\",\"blue\",\"blue\",\"blue\",\"blue\",\"blue\",\"blue\",\"blue\",\"blue\",\"blue\",\"blue\",\"blue\",\"blue\",\"blue\",\"blue\",\"blue\",\"blue\",\"blue\",\"blue\",\"blue\",\"blue\",\"blue\",\"blue\",\"blue\",\"blue\",\"blue\",\"blue\",\"blue\",\"blue\",\"blue\",\"blue\",\"blue\",\"blue\",\"blue\",\"blue\",\"blue\",\"blue\",\"blue\",\"blue\",\"blue\",\"blue\",\"blue\",\"blue\",\"blue\",\"blue\",\"blue\",\"blue\",\"blue\",\"blue\",\"blue\",\"blue\",\"blue\",\"blue\",\"blue\",\"blue\",\"blue\",\"blue\",\"blue\",\"blue\",\"blue\",\"blue\",\"blue\",\"blue\",\"blue\",\"blue\",\"blue\",\"blue\",\"blue\",\"blue\",\"blue\",\"blue\",\"blue\",\"blue\",\"blue\",\"blue\",\"blue\",\"blue\",\"blue\",\"blue\",\"blue\",\"blue\",\"blue\",\"blue\",\"blue\",\"blue\",\"blue\",\"blue\",\"blue\",\"blue\",\"blue\",\"blue\",\"blue\",\"blue\",\"blue\",\"blue\",\"blue\",\"blue\",\"blue\",\"blue\",\"blue\",\"blue\",\"blue\",\"blue\",\"blue\",\"blue\",\"blue\",\"blue\",\"blue\",\"blue\",\"blue\",\"blue\",\"blue\",\"blue\",\"blue\",\"blue\",\"blue\",\"blue\",\"blue\",\"blue\",\"blue\",\"blue\",\"blue\",\"blue\",\"blue\",\"blue\",\"blue\",\"blue\",\"blue\",\"blue\",\"blue\",\"blue\",\"blue\",\"blue\",\"blue\",\"blue\",\"blue\",\"blue\",\"blue\",\"blue\",\"blue\",\"blue\",\"blue\",\"blue\",\"blue\",\"blue\",\"blue\",\"blue\",\"blue\",\"blue\",\"blue\",\"blue\",\"blue\",\"blue\",\"blue\",\"blue\",\"blue\",\"blue\",\"blue\",\"blue\",\"blue\",\"blue\",\"blue\",\"blue\",\"blue\",\"blue\",\"blue\",\"blue\",\"blue\",\"blue\",\"blue\",\"blue\",\"blue\",\"blue\",\"blue\",\"blue\",\"blue\",\"blue\",\"blue\",\"blue\",\"blue\",\"blue\",\"blue\",\"blue\",\"blue\",\"blue\",\"blue\",\"blue\"],\"phrase\":[\"Can I get back with my ex even though she is pregn\",\"What is the best way to become an arms dealer in t\",\"Why doesn't Japan contribute to peace and prosperi\",\"Which is the best Panasonic air conditioner servic\",\"What did ancient Egyptians believe about the after\",\"How does one prepare for the RBI grade B officers \",\"Which institutions in Kolkata give coaching for en\",\"Will omar bravo be in fifa 17?\\n\",\"What are the pros and cons of arranged marriages?\\n\",\"What will happen if all the vegetable dies?\\n\",\"Why do people hate hypocrites?\\n\",\"What do you consider poor, middle class, wealthy a\",\"How do I concentrate on my studies?\\n\",\"What is new age psychobabble?\\n\",\"How can you tell if your man is cheating even if h\",\"Can you see yourself during lucid dreaming?\\n\",\"Which browser is most safe in terms of privacy and\",\"Can Google Assistant run on OnePlus 3T?\\n\",\"Apart from the VW Vento / Polo and Skoda Rapid, ar\",\"What is Panera Bread?\\n\",\"Do athletes live longer and healthier? If not, why\",\"Could a pitbull take on a wolf in a fight?\\n\",\"What has Obama done for Latinos/Hispanics?\\n\",\"How much is |x|^2?\\n\",\"How does operator.com work?\\n\",\"Why do people not make movies/talk about the Romas\",\"What were the major contributions of the political\",\"Company Secretaries (CS): How do I prepare for CS \",\"What are the job prospects of chemical engineers a\",\"I have never gone to a bank. How do I put money in\",\"What is the best strategy to prepare for the GATE \",\"Who is this porn star?\\n\",\"Why are specs & sunglasses so expensive?\\n\",\"I installed the movie torrent with Ultra XVid Code\",\"Can we ride scootry with learning lisence age of 1\",\"Two cards were drawn, without replacement, from a \",\"How much money is needed per month to live in indi\",\"Why do companies issue bonus shares?\\n\",\"Why are Iranians and Afghans considered white Amer\",\"Could mumps cause deafness?\\n\",\"What is meaning of sadaka?\\n\",\"What should I know before starting a YouTube caree\",\"Is the ITI College Principal is gazetted officer?\\n\",\"How do you feel now that Donald Trump is now the P\",\"What is the difference between imperial units and \",\"What is the easiest way to do effective self hypno\",\"Why has China increased its involvement in the Syr\",\"From which year CBSE class 10th exam be reintroduc\",\"Is 1080p a Blu-ray?\\n\",\"Does using mirrors to concentrate thermal energy d\",\"How do I avoid attractions by phones?\\n\",\"What are some of the effects of education can you \",\"What are the characteristics of a Pisces Sun/Libra\",\"What is the most cost-effective option to ship pac\",\"Are red and blue complementary colors?\\n\",\"Is it possible to make a material that is a superc\",\"What is the best Shonen Jump manga?\\n\",\"Are Oracle and Cisco good companies for a new grad\",\"If lighting a match is considered a chemical chang\",\"Why is Hillary so afraid of Putin?\\n\",\"Which is the best book to study electronics basics\",\"What are the basics I should know before learning \",\"Can I use Cph4 on a day to day basis?\\n\",\"Is it safe when I buy things from China?\\n\",\"Why did some ethnic minorities support Brexit?\\n\",\"How much money has tinder made?\\n\",\"What is the limit?\\n\",\"Will browsing Facebook while connected to Tor reve\",\"If I get 68.4 percent in ftre 2016 class 10 then w\",\"No product market fit: change product or market fi\",\"What makes you sad about India?\\n\",\"How do I know if someone has read my messages on w\",\"Why there is a sound when we crack our knuckles?\\n\",\"Why do I only make friends with guys?\\n\",\"What is 'open-mindedness'?\\n\",\"What is the cause of carpal tunnel syndrome?\\n\",\"What is the difference between a \\\"slow cooker\\\" and\",\"What is Hillary Clinton's stance on nuclear energy\",\"Do IIT colleges require a caste validity for an ST\",\"How do I listen a song from you?\\n\",\"Why do so many Iranians immigrate to Canada?\\n\",\"What will happen to India-U.S. relations after Tru\",\"A program that stored five words in the memory the\",\"What are ways of joining to ISRO as engineer other\",\"Can Magneto defeat Hulk?\\n\",\"What time of year is it best to visit Singapore?\\n\",\"How do I study for ib?\\n\",\"What should I do if someone doesn't reply to my em\",\"How much does Manveer Singh Phogat gets for Dangal\",\"What is it like to be cannibal?\\n\",\"How can the Android app development companies help\",\"Who would you say is the most fun person in Israel\",\"How can one improve her figure and butt size witho\",\"As a company that provides travel agencies and tou\",\"What is the most beautiful thing you saw today?\\n\",\"Is gay flirting good?\\n\",\"Can I use Stripe in Europe?\\n\",\"Will Britain leaving the European Union lead to th\",\"Why are so many East Asian immigrants so averse to\",\"Why do we need computer networking?\\n\",\"What is retina detachment?\\n\",\"Why don't more bars have mechanical bulls?\\n\",\"How do I get better understanding of C++?\\n\",\"Which is the most profitable Porsche US dealer?\\n\",\"What are the best over the ear headphones for abou\",\"Is it true that the first kill is the hardest?\\n\",\"Which is best 32 inch led tv to buy below 20,000 I\",\"I am scoring 130/506 in FiitJEE aits part test adv\",\"What kind of websites are missing from the Interne\",\"What is the best way to use free time at IITB?\\n\",\"Is it possible for me to buy my first company usin\",\"What should I do to have sex with as many women as\",\"What is the scope of Executive MBA in India?\\n\",\"Which BMW models do not have a Hofmeister Kink?\\n\",\"What is yellow journalism?\\n\",\"Why do doctors charge uninsured patients 10 times \",\"Which one is the best public sector job or private\",\"Will social media ever help to spur on the US youn\",\"How should I know a video is 360 degree?\\n\",\"Is a practice manual sufficient for the CA Final I\",\"Career Advice: Being an Indian college student, ho\",\"What are the advantages and disadvantages of Li-Fi\",\"On Snapchat, I deleted someone. Can they re-add me\",\"Are there any cereals that taste good with water?\\n\",\"Why does a woman's vagina push a mans penis out?\\n\",\"What is the British word for bullpen?\\n\",\"How hard is it for international students to get a\",\"How did Revan build his foundation of his army in \",\"What is the best way to read a fictional book? Do \",\"How do you replace a ignition lock cylinder?\\n\",\"How can I prevent business failure?\\n\",\"How often do tides occur? What causes it?\\n\",\"How do I learn Calculus on my own?\\n\",\"What is the reason for Priyanka Gandhi not changin\",\"What should I eat when I'm sick with a cold or flu\",\"What is a Business Intelligence Analyst?\\n\",\"Which sports should I start to play to paticipate \",\"How should I prepare for Java fresher interview?\\n\",\"How different are cuisines of Arab countries?\\n\",\"What is the meaning of the phrase, all is fair in \",\"Why does Quora send me a notification that my ques\",\"What are the hardest obstacles to breaking into a \",\"What makes a falling snowflake large (or not)?\\n\",\"What is the compensation for Partners/Principals a\",\"What is the difference between an array and a vect\",\"If you kiss the NC State wolf do you become an NC \",\"Is it boring (from a social perspective) to live i\",\"What would have happened if in 1971 war all 93000 \",\"What are the easiest things to do while being abro\",\"Does getting root canal cause problem in speaking \",\"What is the definition of a truncated sentence and\",\"Would I look good with a nose ring? if yes which n\",\"What are the perks of working in Amazon?\\n\",\"How can we say that climate change does not bring \",\"What it is like to meet \\\"Shahid Kapoor\\\"?\\n\",\"How does it feel when you are dead?\\n\",\"Which is the best juicer, grinder or mixer in Indi\",\"How do I learn to think more logically?\\n\",\"Which movie has the best beginning ever?\\n\",\"Which laws been enacted to prevent family members \",\"What is iPhone 6s plus cost present?\\n\",\"What is Ohm's law and amperage I?\\n\",\"What is the nicest thing a stranger has done for y\",\"Why do some heroic people who do good things choos\",\"How will Hindus react if Babri Masjid is reconstru\",\"R2I - How did you plan R2I from US if you own the \",\"How can I master C programming in 7 days?\\n\",\"What is the right way to clean ear wax?\\n\",\"What are some good games to play during class?\\n\",\"Is it possible to hack WhatsApp messenger?\\n\",\"Why do airplanes carry more weight than helicopter\",\"Shaving: Do electric shavers work better than manu\",\"Has anyone benefited, health-wise, from essential \",\"Can Students at Hogwarts have sex while there? Doe\",\"How can we enhance our efficiency with Yoga?\\n\",\"What are the best app review sites and blogs?\\n\",\"Can two companies be registered on the same addres\",\"Is it true that as per Indian law, one can't be ha\",\"Who would win in a war between Bangladesh and Myan\",\"How do you reply when someone thanks you for forgi\",\"Who would win a fight between wolverine and Batman\",\"What is one thing you wish for yourself in the fut\",\"Can you cry underwater?\\n\",\"What's the difference between SSL, TLS, and HTTPS?\",\"Why are antigravity muscles more affected in Upper\",\"In order to buy a house, does one have to rent fir\",\"What is the probability of choosing a pink ball fr\",\"Which is the best car to get under 8 lakhs?\\n\",\"Why isn't China's role in the Korean and Vietnam w\",\"What is the Laplace transform of t^(1/2) * e^ (-1/\",\"To those who told a big lie to their parents and t\",\"What is runtime polymorphism or dynamic method dis\",\"I had sex 5 days after my period, what are the cha\",\"How would you describe yourself in one tweet?\\n\",\"How do fairy tales influence creativity in humans?\",\"How do I add delay() and sound() in Dev-C++?\\n\",\"What is the pathophysiology of ADHD?\\n\",\"What are the top benefits of life insurance polici\",\"Can I get a TV from Bang & Olufsen for under $2500\",\"How is the life of an ece student at dayananda sag\",\"What is meditation?\\n\",\"Were the Ancient Greeks scientists, or just philos\",\"How does Google authenticator work?\\n\",\"Wouldn't it be better if kids were allowed to focu\",\"Can you apply for a certificate on Coursera/edX af\",\"Why do Quora engineers use large monitors?\\n\",\"How do I start an online clothing business?\\n\",\"How will the government meet the challenges of acc\",\"I saw a charge on my credit card under from a comp\",\"What is the difference between socialization and r\",\"How would the world be different if everyone spoke\",\"Who receives the fares in a cab service?\\n\",\"As a non-resident alien doing a summer internship \",\"Which is the best camera smartphone under 20k?\\n\",\"What does it mean to dream about someone before th\",\"What are the subjects in which I can apply for my \",\"What are the basics of Jainism?\\n\",\"What is the Difference between existential nihilis\",\"How can I see my girlfriend's WhatsApp chat messag\",\"What are some ways to enjoy sex with my newly marr\",\"How can I study the Bible?\\n\",\"How can someone be a friend, girlfriend, wife and \",\"What are the Snapchat usernames of punjabi celebri\",\"What is 1/2 times 1/2?\\n\",\"Where does the word restaurant come from and what \",\"What can I do with a computational linguistics deg\",\"Will trump win as president?\\n\",\"What impact will AI eventually have on how we plan\",\"Why is eating too unhealthy?\\n\",\"What if the Syrian civil war never happened?\\n\",\"How do the teachings, learning, followership and/o\",\"Did you ever been in a group of stupid people?\\n\",\"What are the multiple types of social issues?\\n\",\"Where can I find beginner NodeJS tutorials that us\",\"If I got a 7.4 CGPA in the SA1 10 class, then can \",\"Which the best time table for 10th class exams pre\",\"Elite Escorts in DHA Lahore?\\n\",\"My ex bf says he doesn't have feelings for me righ\",\"What are the questions in the interview for a fres\",\"What do you think are some of benefits to humans f\",\"Which one is the best medical college hostel in in\",\"Have you lived in a tiny house?\\n\",\"What are some things new employees should know goi\",\"Where can I hire high pressure cleaning service in\",\"How many Bollywood Actresses consume alcohol in re\",\"How does PayU earn money?\\n\",\"Is it possible to change your personality as a chi\",\"How do I apply to London School of Economics as an\",\"How do I build a profile to get accepted into a st\",\"How can I get real ghost stories?\\n\",\"Is it possible to hack NASA's New Horizons satelli\",\"What is the best way of getting good at answering \",\"How would you deal with jerks?\\n\",\"How can I do internship in Accenture India?\\n\",\"Why would an Indian girl not want to get married?\\n\",\"My WhatsApp chat backup got deleted from Google, I\",\"Is going to college really worth it or just a wast\",\"How many prophets did God send to the Jews?\\n\",\"What is the relation and difference between Artifi\",\"If you don\\u2019t have a good network, what would be th\",\"What are the best place to visit in Rio de Janeiro\",\"Which is the best college for PG in Cyber Security\",\"Which are the best English serials?\\n\",\"How do you say \\u201cWhat\\u2019s up?\\u201d in Chinese?\\n\",\"Is it bad to take expired fish oil pills because t\",\"Will there ever be a genuine Authoritarian candida\",\"Is World War III on its way right now?\\n\",\"How can you use time formats in Excel?\\n\",\"What is the best antivirus for Windows 8?\\n\",\"Why do people like Metal/Hard rock so much?\\n\",\"What are the worst smelling things in the world?\\n\",\"Could someone explain the following electives at N\",\"What's a funny thing?\\n\",\"What are the main reason of cracks?\\n\",\"How do I hitchhike in Europe?\\n\",\"What is the physical significance of quantum mecha\",\"How do we get dead people off business junk mail l\",\"Who among the four in the picture given in descrip\",\"How do I know if I authentically, genuinely, hones\",\"On average, how long does it take a letter mail fr\",\"When will One Piece have episode 517 dubbed?\\n\",\"What should I do if I fell in love with my best fr\",\"How do criminal lawyers sleep at night even when t\",\"Can I get refund for Tatkal e-ticket because train\",\"How can I buy the new Macbook 12\\\" M7 512GB model i\",\"What are the different e-governance methods used b\",\"How do I run smoother GTA V? I have intel core i3 \",\"What is the use of tanpura?\\n\",\"What are the Snapchat usernames of celebrities?\\n\",\"Which is better- cracking gate and going for IIT/i\",\"Can you lose weight without exercising?\\n\",\"What is the best way to make life more interesting\",\"Is Delhi a must for UPSC coaching?\\n\",\"Which are the best colleges for electronics and in\",\"I have been a .Net developer for over 2 years and \",\"Has a smartphone ever been taken to space? If yes \",\"What questions should I ask my boyfriend, we are b\",\"How do I delete a contact blocked in WhatsApp?\\n\",\"Is it a good time to buy real estate in Cyprus?\\n\",\"South India: Why is South India much more develope\",\"What is the formula for a hydrocarbon?\\n\",\"What if an alien comes and tells us that the physi\",\"What are the pros & cons of democracy?\\n\",\"I'm 16 years old and wanted to lose weight and bod\",\"Can I add more peers to the torrent for max speed \",\"What are the best neighborhoods to Airbnb in Chica\",\"What we will get in mahabalipuram beach sunrise or\",\"How fast can you accelerate to the speed of light?\",\"What is the difference between R-squared and Adjus\",\"How many times can women reach orgasm in a hour an\",\"Why didn't Johor, Batam & Singapore integrate more\",\"Which products are more profitable in online sell?\",\"How do I get rid of muscle?\\n\",\"What is the process of directing and casting child\",\"Is the 7th pay commission needed?\\n\",\"What are the best games that are compatible on a C\",\"What was the significance of the battle of Somme, \",\"How do you see Pakistan PM Nawaz Sharif's speech a\",\"Where can I publish my apps?\\n\",\"What was your darkest moment?\\n\",\"Why does the UK have an unwritten Constitution?\\n\",\"What are the necessary steps in documenting a mobi\",\"Why was life created? Why was life so painful?\\n\",\"How can I use explainer video to review products o\",\"What is difference between residue and error?\\n\",\"If 6.5 to 8.5 will be the safe level of pH value i\",\"I am 23 and don't know what I want. My life is ver\",\"What are your three favorite websites for reading?\",\"Why do people choose to be a GAY?\\n\",\"What is the process of death?\\n\",\"Why does light red deserve the special name \\\"pink\\\"\",\"Who are millennials?\\n\",\"What it's like doing CA articleship from Big 4s?\\n\",\"What is the most important right or freedom guaran\",\"Why do some porn stars have unprotected sex?\\n\",\"What are my reasons to live?\\n\",\"How small would a planet need to be to plainly see\",\"Some religion speaks of burning in hell after deat\",\"What does it feel like to be an IITian?\\n\",\"How does cognitive behavioural therapy work?\\n\",\"Why should you visit India?\\n\",\"I lost my Google account information. How can I re\",\"What if I port a number from Airtel to Vodafone in\",\"What are the reasons why time travel is impossible\",\"Will my iPhone alarm still go off if \\\"Do Not Distu\",\"Did South Korea cheat during the 2014 Asian Games?\",\"Take the minimum lethal volume of a gaz, put it in\",\"\\\"How to improve Project Management skills?\\\"\\n\",\"When you were small, did you ever think that your \",\"Where did the pointy \\\"S\\\" symbol come from?\\n\",\"How does it feels like to have a rich boyfriend?\\n\",\"What have you used your intelligence for?\\n\",\"What is a freewheeling diode?\\n\",\"How do we derive pi?\\n\",\"What is the importance of communication skills in \",\"How can I put icons on YouTube video titles? Also \",\"What does the phrase \\\"resonate with me\\\" mean?\\n\",\"How many types do we have of Manual testing?\\n\",\"What are IBAN numbers?\\n\",\"What is regret?\\n\",\"As a student specializing in English language, lit\",\"What is the corporate culture like at Corning? How\",\"How can I convert jazz standards to jazz guitar so\",\"How good was the surgical strike by Indian Army on\",\"What recipes are most conducive to romance?\\n\",\"What are the unknown facts about Tamil people whic\",\"Where do I find the most beautiful woman in the wo\",\"What does the grey phone icon mean on the messenge\",\"How do I share 360\\u00b0 photos on WhatsApp?\\n\",\"What is the difference between working stress meth\",\"What are the opportunities for an MBA in finance?\\n\",\"Can you patent clothing or fashion designs?\\n\",\"My in laws are apologists for Nazi war criminals a\",\"Which is the safest city in India for women?\\n\",\"What horse breed were commonly used during the \\\"Wi\",\"Is it weird to sometimes feel almost overwhelmed b\",\"Can anyone please list all the SAP SD topics a per\",\"In the filling of ibps application I put martial s\",\"In a restaurant, what are the different types of t\",\"Why does amir khan never go to any filmy awards fu\",\"What is a good inpatient drug and alcohol rehab ce\",\"Why does UV light cause contamination on optics, b\",\"How do I invest in mutual funds in India?\\n\",\"How comfortable are you with failure?\\n\",\"What skills are required to become a quant?\\n\",\"Why do startups announce fundraising?\\n\",\"What is your review of Amazon Video?\\n\",\"Why there is no team from Tamil nadu in pro kabbad\",\"How do I auto forward texts from my Verizon phone \",\"How do the Chinese people view Americans?\\n\",\"What is virgin or virginity?\\n\",\"What are the different ways of submitting a Reques\",\"Can a high school teacher legally force students t\",\"Why does water droplets form on the outer surface \",\"Which mammals have dark circles around eyes beside\",\"How do each components of a printer work?\\n\",\"What are some foods beginning with the letter W?\\n\",\"What are symptoms of a bad transmission control mo\",\"How do astronauts in ISS vote for Presidential ele\",\"What is the difference between Aim and Goal?\\n\",\"What is AT & C?\\n\",\"Who was Jackson Pollock? Was he mentally ill?\\n\",\"How do I make good vine edits?\\n\",\"How can I cut my penis?\\n\",\"How can I change my Quora profile photo?\\n\",\"My husband was here seeking asylum before we got m\",\"Is it good to use Laravel to develop a web app wit\",\"I have a mild sore throat an headache. What is tha\",\"When will a working nintendo 3DS emulator release \",\"What do we know about the health effects of vaping\",\"INSEAD: Worth the investment?\\n\",\"How is long rides in royal Enfield classic 350?\\n\",\"What famous boxers have participated on Dancing wi\",\"Will season 10 of Big Bang Theory be the final sea\",\"Can I crack KVPY (SX) with only three months left \",\"What are some little-known facts from World War II\",\"What is the most unique way of exam cheating you'v\",\"When was the last time a slam dunk broke a basketb\",\"What should I do for my excessive hair loss?\\n\",\"How do I find people's psychological weakness?\\n\",\"What is the difference between Awareness and Consc\",\"I hate everything that people around me like. Is i\",\"I think I am pretty good at thinking of a business\",\"How do you determine the thickness of a footing ba\",\"Why does vapours are formed when we pressurize alc\",\"Is it easy to adjust in German Universities withou\",\"What is UNIX and UNIX-like?\\n\",\"What is the best way to promote www.dorkyard.com?\\n\",\"What's up in Addis Abeba tonight?\\n\",\"Is there any point to going to college if you have\",\"How much would it cost to construct 800 sqft area \",\"What is an ideal wife? What is an ideal husband? W\",\"What information does port scanning provide?\\n\",\"What are the application of quasicrystals?\\n\",\"What is the determinant of the inverse of a matrix\",\"How is Brad Pitt in \\\"real Life\\\"?\\n\",\"I have a 3 yr bachelor's degree in Computer Scienc\",\"Demonetisation is good for county like India or no\",\"My parents think I am rude for being so introverte\",\"How many people have jumped off the Golden Gate br\",\"What are Osho's views on Islam?\\n\",\"Why does the government regulate health care?\\n\",\"Which phone has the best sound recording quality?\\n\",\"What is the best part of your life, and why is it \",\"Which is better hair wax or hair clay?\\n\",\"How do I charge my motorcycle battery?\\n\",\"What are the updates we get after miui 8.0.6.0?\\n\",\"Why does Robinhood need to bypass the App Store?\\n\",\"Which is a better route, Alipiri or Sri Vaari?\\n\",\"How much extra would it cost if Apple manufactured\",\"When will the next recession be?\\n\",\"What are some arguments in support of electing Don\",\"What does Russia want with Ukraine?\\n\",\"What is the difference between a recorder (block f\",\"What is the meaning of random number?\\n\",\"Which one is good for health: tea or coffee?\\n\",\"Is Texas good state for non-resident to register a\",\"What is kirchoff's law?\\n\",\"Is it wrong for a family member to keep making com\",\"My parents are forcing to marry a girl of their ch\",\"Which is better, Windows+Linux or OSX?\\n\",\"Why aren\\u2019t Christians that pray to/have a relation\",\"How much TDS will I have to pay for an RD account \",\"What is the meaning of thematic connection?\\n\",\"How should you prepare to take your maneuverabilit\",\"What are the best materials/videos/resources to ge\",\"Can a \\\"dirty\\\" finish be added back to jeans?\\n\",\"Why does my dog keep whining at night?\\n\",\"Is it bad to turn off my PC using the power button\",\"What is image processing?\\n\",\"I went to school with mostly black kids, they bull\",\"Does Donald Trump actually think he can become Pre\",\"Which are the 5 best movies you have ever seen?\\n\",\"How do I get traffic to excursions travel website?\",\"Where can I download the Android game Leo's Fortun\",\"How do I get more followers and upvotes on Quora?\\n\",\"What is a factory reset on a phone?\\n\",\"Which phone should I buy if my budget is 12000?\\n\",\"I have GPU implementation as a graduation project.\",\"What are the libertarian views on the Antarctic Tr\",\"What would the world be like if it were ruled by a\",\"How do you choose your first bank?\\n\",\"Who runs berkuliah.com?\\n\",\"What does Godel's incompleteness theorem mean for \",\"How do I delete a Gmail account?\\n\",\"If my ultimate goal is to become a vegan, should I\",\"Did the US win the war in Afghanistan?\\n\",\"How can I become a good engineering student?\\n\",\"What are some ways to increase intuition?\\n\",\"What causes depression in humans?\\n\",\"How can I control my anxiety and worries?\\n\",\"How can we jump in between the working regions of \",\"How do I stop loving someone who loves me?\\n\",\"Can personality and insecurity create a liar?\\n\",\"What is the best country and university to do a Ph\",\"How do I edit a video offline?\\n\",\"What is the rent of kiosk in an upscale mall?\\n\",\"What should I start reading if I want to attempt t\",\"Which is the best anti-virus for computers?\\n\",\"Does food unite people?\\n\",\"What do you like most about Internet?\\n\",\"What is a good model of federalism in the Philippi\",\"How do you know if a girl secretly loves you?\\n\",\"Who is the most annoying fictional character you h\",\"How do you feel when your question is unanswered o\",\"Did early humans know how babies were made?\\n\",\"If I cancel xfinity, how can I sign up as a new cu\",\"Are there any TV series similar to House MD?\\n\",\"What you need to know before buying furniture for \",\"Have you ever had a dream happen in reality?\\n\",\"Is dark matter just a scientific theory or has its\",\"How can you increase your tolerance for pain?\\n\",\"How many logical fallacies are there?\\n\",\"How do buttercream icing frosting separate?\\n\",\"Which is the cheapest cinema hall of India?\\n\",\"What do you think would be a good gre score?\\n\",\"What is the best way to update Xiaomi redmi 3 to M\",\"What does toe jam cheese taste like?\\n\",\"How do I know if a YouTube video is copyrighted?\\n\",\"How should I start a business reselling shoes?\\n\",\"How do I hire a mobile app development company?\\n\",\"What is paras pathar?\\n\",\"How is the word \\\"colony\\\" used in a sentence?\\n\",\"What is Rebecca Fugate known for?\\n\",\"What should I consider before starting my consulta\",\"Do you feel that many attractive women get away wi\",\"Why do I feel so much guilt for kissing a girl?\\n\",\"What are some good tutorials for learning Blender?\",\"Is it deceitful to befriend someone in the hopes t\",\"Who do you think BJP will put as a candidate for t\",\"Which protein supplement is best for gym to gain w\",\"What is your review of KVPY SX/SB 2016?\\n\",\"How do I get people's attention for my work?\\n\",\"What are some of your own personal stories and exp\",\"If salt concentration of the sea(3%) were differen\",\"What is the chemical name for mothballs? How was i\",\"Vitamin D receptors in the Testes?\\n\",\"How do I lose weight without working out?\\n\",\"Where can I watch anime?\\n\",\"What is BusyBox used for?\\n\",\"What would be a good desktop computer for software\",\"What are your top five favorite books and why?\\n\",\"What are some good Harry/Ginny fanfiction?\\n\",\"What are the pros and cons of having sex during pe\",\"Which device will you enjoy watching movies in: a \",\"Will there be \\\"faithless\\\" electors this election?\\n\",\"Is Donald Trump an undercover democrat?\\n\",\"Why am I the way I am?\\n\",\"Why do some women get their nipples pierced?\\n\",\"What do Delhi University girls (especially North C\",\"What is the name of this TV series?\\n\",\"My salary is below the Basic Exemption Limit, yet \",\"What is a foliated rock?\\n\",\"What are some of the best books to start learning \",\"How should I prepare for IIT-JEE 2018?\\n\",\"How do unions work?\\n\",\"Can we give neet coaching in class 11?\\n\",\"Which is the best dish TV connection in Hyderabad?\",\"How can you train a Doberman/Lab mix?\\n\",\"How do you reduce stress at work?\\n\",\"What is the best algorithm for finding the number \",\"How can I earn $250 in 2 months?\\n\",\"Why did GE buy NBC?\\n\",\"What is the highest level of c?\\n\",\"How do you mash potatoes without a masher? What el\",\"How difficult is it to learn Python?\\n\",\"How do you convert years into seconds?\\n\",\"How do you view bisexuality?\\n\",\"What is information technology? What are some exam\",\"Why are Altoids so strong?\\n\",\"How effective is email marketing?\\n\",\"Why does my tutor keep winding me up. He says he i\",\"How can I start my Tok essay which is about accura\",\"How do I repair my corrupt memory card?\\n\",\"I have 3 years to prepare for IIT JAM Physics. How\",\"What are the best Instagram hack tools that have n\",\"I am studing interior design. What are some good i\",\"What are some stupid jokes that make you laugh?\\n\",\"What are the factors affecting Real estate investm\",\"How can I get rid of white dry spot on my face? It\",\"What is it like to have an ugly wife/partner?\\n\",\"What do you love most about your life and why?\\n\",\"In the unlikely event that the Electoral College t\",\"How is life as an Engineer?\\n\",\"Where and why are the imaginary numbers used?\\n\",\"What are some good hypo-allergenic lipsticks?\\n\",\"Did the United Nations play a part in the divide o\",\"When and Why did America become a world power?\\n\",\"What are some recipes using Hormel Black Label Ham\",\"Which is the best company to invest shares on Nove\",\"The man I'm about 2 marry says when I have my peri\",\"What can be the best answer for why finance?\\n\",\"What are the best facts about the universe?\\n\",\"What's the sweetest thing you did for a bestfriend\",\"What is the difference between techno and trance m\",\"TV Sitcoms: Why do English comedy shows have peopl\",\"Does percentile system would affect neet 1 student\",\"Is there Uber in Valencia, Madrid and Barcelona?\\n\",\"Have real-life siblings ever shot intimate scenes \",\"How should I improve my writing skill for blogging\",\"Can cold weather affect a menstrual cycle?\\n\",\"How can we earn money online while studying?\\n\",\"Can a tablet keyboard be used on any kind of table\",\"What are the Upcoming development projects in Chha\",\"Where can I buy cheap Twitter followers?\\n\",\"Why do passengers from aircraft are not given a bu\",\"When should I tell my crush I like her?\\n\",\"Why does Pakistan have a better image and reputati\",\"What are Andrea Pirlo's strengths as a midfielder?\",\"From a point in space billions of light years away\",\"Will Medicaid pay for electrologist to do the shav\",\"Why do technical employees despise sales people so\",\"What are the best freelance websites for C#?\\n\",\"Will I be successful without educations?\\n\",\"How can I learn about cars?\\n\",\"What is the best question asked in an interview?\\n\",\"Why there is so much hatred against Brahmins in In\",\"How do I learn to enter journal entries online in \",\"Will CS be issuing a PR message for Boston?\\n\",\"Why do some people 'hate' drugs or people who ever\",\"How do I know my passion? What is my talent and wh\",\"How do pessimists and optimists differ?\\n\",\"How many pulleys did it take for Archimedes to lif\",\"What is the best course after 12th for a medical s\",\"What are the steps that I should follow to get in \",\"Where was the boston marathon?\\n\",\"What is it like to be in or around a bomb blast?\\n\",\"Will Trump destroy international US-companies thro\",\"Should celebrities have the right to voice their o\",\"Can I say that: \\\"A battery can be seem as a capaci\",\"What is it like to be an ENTP?\\n\",\"How do I start designing on glass?\\n\",\"What is the market risk premium formula?\\n\",\"How can I pay the parking meter if I have no coins\",\"Is it true that Obama has a secret son named \\\"Luth\",\"Which is the best coaching for IAS in up?\\n\",\"How big is the equity funding market in North Amer\",\"Which are the good government medical colleges in \",\"How do I control my hair fall?\\n\",\"Is it really worth creating Shopify themes?\\n\",\"What can cause knee pain? It only hurts when I sta\",\"Where can you find a list of common 9 letter words\",\"NSFW: Is this penis color normal or should I see a\",\"Why do most women remove the hair from their arm p\",\"Which processor is better (faster/more efficient),\",\"Which two statements are true regarding views in s\",\"What is the easiest and quickest Indian food recip\",\"What are the best local SEO companies in India?\\n\",\"How do I get rid of adult content on my Quora feed\",\"Can the zombie fungi attack humans as well?\\n\",\"If I wanted to learn about the Roman Empire,what w\",\"What are the key differences between LXDE and XFCE\",\"Can people see the sellers real name, e-mail addre\",\"Should I still watch The Matrix movie?\\n\",\"Is there any truth to the rumor that the youngest \",\"Is it ok that I don't want to hang out with my fam\",\"I am in class 9. If i want to crack IIT JEE, then \",\"Will Obama's gang stalking/surveillance program be\",\"What are some good songs to lyric text prank a fri\",\"Where can I get best quality video DJ for party in\",\"How long does it take for your hair to grow?\\n\",\"Should I update my Redmi 3s from MIUI 7 to MIUI 8?\",\"How do muscles work?\\n\",\"WHAT IS THE BEST ROUT FOR NEPAL PASUPATI NATH TEMP\",\"How to make a website similar to feedwiser.com in \",\"Why does India so scared of CPEC?\\n\",\"What did your first sex feel like as a girl?\\n\",\"In International ODI/T20 cricket matches, if a bat\",\"Why can humans feel acceleration, but not constant\",\"Can the Microsoft Surface Pro 4 run AutoCAD?\\n\",\"What are the differences between stock Crown Victo\",\"What are the good ways to download Lynda.com's tut\",\"How much is the average salary package for a 1.5 y\",\"How can you reduce the barriers of communication?\\n\",\"Why would someone use Instagram Stories over Snapc\",\"Whiskey: How many 'shots' are in a fifth of Jack D\",\"What might happen now that President-elect Donald \",\"How do I write a waiver letter for school?\\n\",\"I am interested in persuing ma industrial psycholo\",\"Does modafinil shows up on a drug test? Because my\",\"Is it possible to get high off Vyvanse?\\n\",\"Is an agnostic necessarily a skeptic, and how?\\n\",\"Where can I get best support in Sydney for buying \",\"What are the duties of a lieutenant in Indian army\",\"Why is smileys not used on Quora?\\n\",\"What does it feel like for a man when someone who \",\"How does post graduation permit impact .lets say I\",\"Online Payment Gateways and Processing: What is th\",\"What are the best books to learn c programing lang\",\"Solid State Physics: What is The Theory of Alloys?\",\"How do I fill in my first name in a PAN card dupli\",\"Why is egg yolk not good for you?\\n\",\"Anatomy of Female Pelvis: Do women really have an \",\"How much does it cost to develop mobile applicatio\",\"Who is the most honest Game of Thrones character?\\n\",\"What is a high quality Apple MacBook Air charger?\\n\",\"Where and how is the WWE championship belt made?\\n\",\"What is green communication?\\n\",\"I have been a good student since chiild hood but j\",\"I'm solving exercises of artificial neural network\",\"Compared to your own compensation, and in consider\",\"How can I keep browsing Quora forever?\\n\",\"Having built web stuff the old way (PHP/MySQL) bac\",\"Is our new currency note of Rs.2000 equipped with \",\"What's the best way to join a startup in DC?\\n\",\"What would happen if we added a second Earth of eq\",\"When will piracy on Android stop?\\n\",\"What do you mean by executive consultant and suppo\",\"Why do I always feel like I am missing something?\\n\",\"What does a user see when he/she gets a new messag\",\"How can I become a web developer?\\n\",\"Is there any good alternative softwares to Tally?\\n\",\"Would you have sex during period?\\n\",\"Are there prominent Bangladeshi Hindus?\\n\",\"I have registered for PhD (no NET) (phy) in 2013, \",\"I changed my name, but the person did a mistake. M\",\"At what age do your breasts stop growing?\\n\",\"How do I get a girl's phone number in a library?\\n\",\"I am into a habit of over thinking things. How do \",\"What is the average salary of a civil engineer?\\n\",\"What is the difference between rote learning vs me\",\"What are the ways to compete in the Olympics in 20\",\"What trivia (and/or little-known facts) do you fin\",\"Xiaomi Redmi note 3: Which is the best colour to b\",\"What does \\\" the Hadamard Perron theorem\\\" means?\\n\",\"Is there a way to see the viewing history and chat\",\"What is the best place for trekking in Goa?\\n\",\"How does an instant messenger work?\\n\",\"What are the disadvantages of the World Trade Orga\",\"Why does the US military not use AK series rifles?\",\"Does Moto m have gorilla glass?\\n\",\"What is the hierarchy of an associate consultant a\",\"What are some major landforms in Texas, and how do\",\"What other jobs can a medical degree holder do mea\",\"MY HP DEXTOP DOESNOT CONNECT WIFI WHY?\\n\",\"How can I get motivated to workout?\\n\",\"What should I gift it to my mom on her birthday?\\n\",\"Which is the best video you have ever seen?\\n\",\"I was selected in campus and was issued a joining \",\"What makes a poem a good way to express emotions? \",\"What would happen if I cut down a tree outside my \",\"Can you make money in Amway?\\n\",\"Body Weight: How many pounds can I gain every week\",\"What are the impacts (both positive & negative) of\",\"I forgot the password which I used to login n n lo\",\"What are the best websites for career?\\n\",\"What is your favourite episode of the office (USA)\",\"Why is time slower down near heavy objects?\\n\",\"How do l update any version after rooting the mobi\",\"Why is 3 am called the witching hour?\\n\",\"How do I run a shell script from Java code?\\n\",\"What are the advertising campaigns of 2011?\\n\",\"Should I opt for computer science if I don't take \",\"What are the polymers of protein?\\n\",\"How much better will the JWST be than Hubble?\\n\",\"What are the greatest examples of absence of mind?\",\"How can I understand the STOCK market from the bas\",\"How do I make Gazpacho?\\n\",\"What is the typical role of a brand manager?\\n\",\"Who are the top 5 hottest women ever?\\n\",\"What is the name of the game that Aamir Khan was r\",\"How long does it take to learn dance?\\n\",\"What's the funniest thing that's happened to you a\",\"Why are metals malleable and ductile?\\n\",\"List of national daily in India?\\n\",\"Are Volvos actually safer than comparable cars?\\n\",\"Can you tell who has been looking at your Instagra\",\"A ball dropped from the roof of a building takes 4\",\"What percentage of Hillary Clinton's supporters ha\",\"Do you think you are beautiful?\\n\",\"Which are the free email marketing tools?\\n\",\"What topic of discussion do people hate the most? \",\"What is the point in having hyper-politicised stud\",\"Why Steve Jobs is considered as innovator?\\n\",\"How long would it take an average programmer to wr\",\"Why are conservatives defending Holly Fisher? (see\",\"What is so important about Adam Smith's pin factor\",\"What is the Arizona bark scorpion, and how do anim\",\"How do I stop smoking cigarettes?\\n\",\"What are the functions of a computer's motherboard\",\"How can tea bags help for styes?\\n\",\"How can I get a patent for my really effective inn\",\"Can India ever become 'Sone Ki Chidiya' again?\\n\",\"Is there any way to play Android games LAN multipl\",\"Why should I ask my first question?\\n\",\"Who are the top writers on Hinduism on Quora? Who \",\"How do I wake up at 4:00 A.M.?\\n\",\"Why is Quora moderation collapsing all my answers?\",\"In an honest assessment, what do you think of Trum\",\"What type of bonding is present in a coordinate bo\",\"Is it possible to delete your Wikipedia account hi\",\"I'm a +2 CBSE non-medical student. Is there any pr\",\"Are there any limitations as to setting up a forei\",\"How will the drought in California affect its econ\",\"What is Informatica online training?\\n\",\"Is it compulsory for a Web designer and developer \",\"How could the US realistically pay off its debt?\\n\",\"Who is Barry Soetoro?\\n\",\"How do I solve [math]2x^3-x^2+11x+3=0[/math]?\\n\",\"What are some hobbies couples can do at home?\\n\",\"How have meerkats adapted to the desert?\\n\",\"What causes dizziness when you lay down?\\n\",\"What should one do after a civil engineering degre\",\"What are the advantages of hiring skip bins servic\",\"Why is it necessary that singers lip-sync?\\n\",\"How can I turn off the screen overlay detected on \",\"How do you clean or polish a pair of Woodland shoe\",\"What are some classes you wish you took in high sc\",\"What is the formula of [math](a+b)^3[/math]?\\n\",\"What is it like to commit yourself to a psychiatri\",\"Is there any way to slow or reverse the late effec\",\"What would the implications be if we discovered th\",\"Any other program to help on code contribution for\",\"What is the bond order of [math]H_2[/math]?\\n\",\"What is the best way to create a website without c\",\"What were some causes and effects of the French Re\",\"What are some catchy headlines for a dating site?\\n\",\"Should I get Company of Heroes, World in Conflict \",\"How do I remove a person from a group in Skype?\\n\",\"Why was Manmohan Singh briefed by PM Modi after su\",\"Does anybody want to learn Chinese?\\n\",\"Is Xiaomi going the Nokia way to oblivion?\\n\",\"Should I buy hp 17.3 AMD laptop or lenovo 17.3 i5 \",\"Which is better a government job or a software job\",\"How can the word \\\"credulity\\\" be used in a sentence\",\"Does uber track time on app?\\n\",\"How do I get over direct rejection?\\n\",\"How can any institute get an ISO certificate?\\n\",\"What are the best pranks?\\n\",\"Are non-solicit agreements enforceable if the pers\",\"Which phone is best in 2016 for a 18 years boy my \",\"What is the definition of an archetypal hero?\\n\",\"Why are some \\\"ugly\\\" people still very attractive?\\n\",\"What are the chances of Donald Trump's impeachment\",\"What would a society based on laws enforcing only \",\"What is the full form of \\\"veto\\\" power?\\n\",\"How much do people get paid to do a TED talk?\\n\",\"What does it mean to say \\\"enriching herself off of\",\"How can I be more persuasive at work?\\n\",\"What is the corporate culture like at National Bev\",\"What is the fastest way to get a PAN card?\\n\",\"Who will win in America presidential elections in \",\"How do I solve this differential problem?\\n\",\"How is Banjara's Saffron Facial Kit used?\\n\",\"How do you understand life?\\n\",\"Will an MS from NUS in electrical engineering prov\",\"How does one create a strong password? Any tips?\\n\",\"Who was the best dressed at the 2016 Emmy's?\\n\",\"What is the cost of manufacturing a SIM card?\\n\",\"Are you tolerant?\\n\",\"Is [math]\\\\{1,2,3\\\\}[/math] a compact subset of a me\",\"What kind of energy is involved in hearing and vis\",\"What happened with Lehman Brothers?\\n\",\"What is a good web page publisher?\\n\",\"Why does eating radishes cause diarrhea?\\n\",\"How do I encrypt the data on my Android phone?\\n\",\"If there were an Oscar for \\\"Best Line in a Movie\\\",\",\"Why are tyres black?\\n\",\"What is the best way to unlock a Motorola Droid Bi\",\"Is a $45 a month job worth the experience?\\n\",\"Should I settle in Canada or Japan?\\n\",\"How is the appraisal process in Accenture? How wil\",\"How does sand turn into glass?\\n\",\"What effect will increased automation of jobs and \",\"I am 25 years old Indian guy, want to settle in Ne\",\"What are some Raksha Bandhan gift suggestions for \",\"How do I write a multi-dimensional villain that is\",\"Why is there no nucleus in a red blood cell?\\n\",\"Why do Quora allow anonymous fake questions from A\",\"Is it possible to merge a foursquare venue into a \",\"How do I find out if I have Siri on my phone?\\n\",\"Why do I feel like I'm not living my life?\\n\",\"What will happen to global stock market if Donald \",\"What makes weeds grow so much faster and easier th\",\"Do people with extremely high IQ need higher sugar\",\"What should teaching assistants do?\\n\",\"Why is Perth one of the most liveable cities in th\",\"How do you get to the entrance for Resolution Cave\",\"How do I get involved in research as an undergradu\",\"If you have one option to remove anything, what wi\",\"What are the risk after angioplasty?\\n\",\"Why can't men read the signals women give off when\",\"How can a non-EU medical graduate get into residen\",\"How do I stay active?\\n\",\"I'm going to Paris. What is the equivalent \\\"neighb\",\"How do I get rid of dandruff, or at least prevent \",\"Is Medicaid going to pay for the electrologist for\",\"When Australia became a nation in 1901, Did aborig\",\"What is the difference between SSL and Sitelock?\\n\",\"What are some unsolved problems in deep machine le\",\"What's the difference between computer engineering\",\"Is it possible to get a decent job after completin\",\"What is the difference between MG & BG in railway \",\"How do I control an Arduino with a Raspberry Pi?\\n\",\"What is the best field to pursue MS after doing el\",\"What is the difference between Directx and graphic\",\"How do I wirelessly charge the electrical devices \",\"Can you upload Numbers sheets from iPad to Google \",\"What's the best movie franchise you have ever watc\",\"If light does not have mass, then how can it be ab\",\"Why is the book of Esther in the Bible?\\n\",\"What makes comic books worth reading?\\n\",\"What are the advantages of outsourcing property ma\",\"What is a Quora credit competition?\\n\",\"Are data analyst/data science jobs boring?\\n\",\"Why don't satellites crash into each other?\\n\",\"How do dermatologists remove blackheads?\\n\",\"How can I choose between my dad and my mom?\\n\",\"Can you really not change people?\\n\",\"Being a non believer of a spiritual entity, I have\",\"Is black coffee fattening? If so, what makes it fa\",\"The education system is outdated. What would you d\",\"Who are the founders of Quora?\\n\",\"What is it like to be a landlord?\\n\",\"How many stamps do I need to send a letter to germ\",\"My father just recently got married. His wife goes\",\"Which countries are best to migrate from the US?\\n\",\"Can any one tell me a basketball club in Bangalore\",\"How can Spotify download songs offline?\\n\",\"How do I make money online for free in Spain?\\n\",\"Why is Tornado Alley prone to tornadoes?\\n\",\"How does helium change the inhaler's voice?\\n\",\"What is a bedding ceremony in Game of Thrones?\\n\",\"What is it like living in former East Germany as a\",\"Did the USA or NATO commit any war crimes in Iraq?\",\"Why don't we capture terrorist and behead them?\\n\",\"What is your favorite quote (books, movies, people\",\"What mixes well with peach vodka?\\n\",\"Which Patanjali products contain cow urine?\\n\",\"Why are three phases denoted by RYB?\\n\",\"Where could I learn JavaScript online?\\n\",\"Is it appropriate to wear a sports bra simply to t\",\"What are the differences between Jenkins CI and Dr\",\"T right do you think we should be entitled to?\\n\",\"What was the public's reaction to Crystal Pepsi?\\n\",\"How can I crack MH-CET 2017 engineering by self-st\",\"What is the way to become a dental hygienist in th\",\"Why do solving math/statistics problems causes my \",\"Does your name sound as awkward to others as it so\",\"What is the proper format of writing formal-inform\",\"How does doc2vec represent feature vector of a doc\",\"Why are software development task estimations regu\",\"How can I set up molecular pathology lab?\\n\",\"How do I score a rank in CA - IPCC?\\n\",\"What are some examples of strong organic acids?\\n\",\"What can be a good hindi (indian) name for a tea b\",\"Is the Google host matching process different for \",\"Is Cuba considered part of Latin America?\\n\",\"Does the following script (\\u0256\\u2200\\u0f61\\u0632\\u2202 \\u0250\\u0167 \\u01ab\\u04bf\\u03de\\u026e\\u2609 \\u027d\\u03c6\\u0289\\u029b\\u0195), \",\"How can I increase my website's DA?\\n\",\"Is it normal to imagine having sex with other guy \",\"What is the percent purity (approx) of consumable \",\"Do soulmates just come walking into your life when\",\"If I use marijuana with my boyfriend, is there a p\",\"Can you analyze everything in soil?\\n\",\"What difference it would make if India Nuked and K\",\"What are the advantages of a dominant party system\",\"What were some things India did not do but takes c\",\"How many total women have accused Bill Clinton of \",\"Why do I wish some fictional characters existed?\\n\",\"Where can I find best hotel at Ranikhet?\\n\",\"How do I make good memes?\\n\",\"What are some of the common sayings or proverbs in\",\"What kind of writing style makes someone a \\\"dark w\",\"Are Trump and Hillary really the best America has \",\"How can I make my career in embedded system and ro\",\"Will adding a USB to VGA adapter always give an ex\",\"We will never be able to see our own faces with ou\",\"What are the ways you can stop a friend from pitch\",\"What is the average time for preparation of IAS?\\n\",\"How can I learn new things quickly?\\n\",\"What is the definition of political courage?\\n\",\"What makes death scary?\\n\",\"I'm really pretty but I don't want to be I hate th\",\"Is Assam Down Town University good?\\n\",\"How do the brain structures of bonobos change as t\",\"What's the biggest scam?\\n\",\"Does the US government have an alien flying saucer\",\"I need to gain weight, but I don't have abs. It's \",\"Why should I study Calculus?\\n\",\"Do you think your childhood contributed to your fi\",\"How does the Goods and Services Tax (GST) works?\\n\",\"Where can I download Cisco 500-285 exam dumps?\\n\",\"How do I can make a second nation in Cybernations \",\"Did Neil Armstrong really land on the moon?\\n\",\"Why is Devil any other than God head of state?\\n\",\"How do I stop being possessive over my girlfriend?\",\"How does Kongregate compute the statistics of adve\",\"Who is the best nuero physician at NIMHANS, Bangal\",\"What are nonprofit organizations?\\n\",\"I want to know the process of starting outbound ca\",\"Which are some of the best hotels to stay in Helsi\",\"What is good about Deloitte Chicago?\\n\",\"How do I recover data from a formatted hard drive?\",\"Could India and Pakistan unite again?\\n\",\"How often should I massage my face with Argan oil?\",\"How is psychodynamic therapy different from psycho\",\"What are some of Barack Obama's character traits?\\n\",\"Would it make sense to replace the B-52's 8 1960s \",\"Is it possible to bring forward my flight date of \",\"How can I learn marathons?\\n\"],\"x\":{\"__ndarray__\":\"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\",\"dtype\":\"float32\",\"shape\":[1001]},\"y\":{\"__ndarray__\":\"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\",\"dtype\":\"float32\",\"shape\":[1001]}},\"selected\":{\"id\":\"2054\",\"type\":\"Selection\"},\"selection_policy\":{\"id\":\"2055\",\"type\":\"UnionRenderers\"}},\"id\":\"1944\",\"type\":\"ColumnDataSource\"}],\"root_ids\":[\"1945\"]},\"title\":\"Bokeh Application\",\"version\":\"1.2.0\"}};\n",
       "  var render_items = [{\"docid\":\"f1600024-50a0-4e8b-a84d-7917d0960963\",\"roots\":{\"1945\":\"40838673-93f7-4d51-9675-dfe000e982e7\"}}];\n",
       "  root.Bokeh.embed.embed_items_notebook(docs_json, render_items);\n",
       "\n",
       "  }\n",
       "  if (root.Bokeh !== undefined) {\n",
       "    embed_document(root);\n",
       "  } else {\n",
       "    var attempts = 0;\n",
       "    var timer = setInterval(function(root) {\n",
       "      if (root.Bokeh !== undefined) {\n",
       "        embed_document(root);\n",
       "        clearInterval(timer);\n",
       "      }\n",
       "      attempts++;\n",
       "      if (attempts > 100) {\n",
       "        console.log(\"Bokeh: ERROR: Unable to run BokehJS code because BokehJS library is missing\");\n",
       "        clearInterval(timer);\n",
       "      }\n",
       "    }, 10, root)\n",
       "  }\n",
       "})(window);"
      ],
      "application/vnd.bokehjs_exec.v0+json": ""
     },
     "metadata": {
      "application/vnd.bokehjs_exec.v0+json": {
       "id": "1945"
      }
     },
     "output_type": "display_data"
    },
    {
     "data": {
      "text/html": [
       "<div style=\"display: table;\"><div style=\"display: table-row;\"><div style=\"display: table-cell;\"><b title=\"bokeh.plotting.figure.Figure\">Figure</b>(</div><div style=\"display: table-cell;\">id&nbsp;=&nbsp;'1945', <span id=\"2111\" style=\"cursor: pointer;\">&hellip;)</span></div></div><div class=\"2110\" style=\"display: none;\"><div style=\"display: table-cell;\"></div><div style=\"display: table-cell;\">above&nbsp;=&nbsp;[],</div></div><div class=\"2110\" style=\"display: none;\"><div style=\"display: table-cell;\"></div><div style=\"display: table-cell;\">align&nbsp;=&nbsp;'start',</div></div><div class=\"2110\" style=\"display: none;\"><div style=\"display: table-cell;\"></div><div style=\"display: table-cell;\">aspect_ratio&nbsp;=&nbsp;None,</div></div><div class=\"2110\" style=\"display: none;\"><div style=\"display: table-cell;\"></div><div style=\"display: table-cell;\">aspect_scale&nbsp;=&nbsp;1,</div></div><div class=\"2110\" style=\"display: none;\"><div style=\"display: table-cell;\"></div><div style=\"display: table-cell;\">background&nbsp;=&nbsp;None,</div></div><div class=\"2110\" style=\"display: none;\"><div style=\"display: table-cell;\"></div><div style=\"display: table-cell;\">background_fill_alpha&nbsp;=&nbsp;{'value': 1.0},</div></div><div class=\"2110\" style=\"display: none;\"><div style=\"display: table-cell;\"></div><div style=\"display: table-cell;\">background_fill_color&nbsp;=&nbsp;{'value': '#ffffff'},</div></div><div class=\"2110\" style=\"display: none;\"><div style=\"display: table-cell;\"></div><div style=\"display: table-cell;\">below&nbsp;=&nbsp;[LinearAxis(id='1954', ...)],</div></div><div class=\"2110\" style=\"display: none;\"><div style=\"display: table-cell;\"></div><div style=\"display: table-cell;\">border_fill_alpha&nbsp;=&nbsp;{'value': 1.0},</div></div><div class=\"2110\" style=\"display: none;\"><div style=\"display: table-cell;\"></div><div style=\"display: table-cell;\">border_fill_color&nbsp;=&nbsp;{'value': '#ffffff'},</div></div><div class=\"2110\" style=\"display: none;\"><div style=\"display: table-cell;\"></div><div style=\"display: table-cell;\">center&nbsp;=&nbsp;[Grid(id='1958', ...), Grid(id='1963', ...)],</div></div><div class=\"2110\" style=\"display: none;\"><div style=\"display: table-cell;\"></div><div style=\"display: table-cell;\">css_classes&nbsp;=&nbsp;[],</div></div><div class=\"2110\" style=\"display: none;\"><div style=\"display: table-cell;\"></div><div style=\"display: table-cell;\">disabled&nbsp;=&nbsp;False,</div></div><div class=\"2110\" style=\"display: none;\"><div style=\"display: table-cell;\"></div><div style=\"display: table-cell;\">extra_x_ranges&nbsp;=&nbsp;{},</div></div><div class=\"2110\" style=\"display: none;\"><div style=\"display: table-cell;\"></div><div style=\"display: table-cell;\">extra_y_ranges&nbsp;=&nbsp;{},</div></div><div class=\"2110\" style=\"display: none;\"><div style=\"display: table-cell;\"></div><div style=\"display: table-cell;\">frame_height&nbsp;=&nbsp;None,</div></div><div class=\"2110\" style=\"display: none;\"><div style=\"display: table-cell;\"></div><div style=\"display: table-cell;\">frame_width&nbsp;=&nbsp;None,</div></div><div class=\"2110\" style=\"display: none;\"><div style=\"display: table-cell;\"></div><div style=\"display: table-cell;\">height&nbsp;=&nbsp;None,</div></div><div class=\"2110\" style=\"display: none;\"><div style=\"display: table-cell;\"></div><div style=\"display: table-cell;\">height_policy&nbsp;=&nbsp;'auto',</div></div><div class=\"2110\" style=\"display: none;\"><div style=\"display: table-cell;\"></div><div style=\"display: table-cell;\">hidpi&nbsp;=&nbsp;True,</div></div><div class=\"2110\" style=\"display: none;\"><div style=\"display: table-cell;\"></div><div style=\"display: table-cell;\">js_event_callbacks&nbsp;=&nbsp;{},</div></div><div class=\"2110\" style=\"display: none;\"><div style=\"display: table-cell;\"></div><div style=\"display: table-cell;\">js_property_callbacks&nbsp;=&nbsp;{},</div></div><div class=\"2110\" style=\"display: none;\"><div style=\"display: table-cell;\"></div><div style=\"display: table-cell;\">left&nbsp;=&nbsp;[LinearAxis(id='1959', ...)],</div></div><div class=\"2110\" style=\"display: none;\"><div style=\"display: table-cell;\"></div><div style=\"display: table-cell;\">lod_factor&nbsp;=&nbsp;10,</div></div><div class=\"2110\" style=\"display: none;\"><div style=\"display: table-cell;\"></div><div style=\"display: table-cell;\">lod_interval&nbsp;=&nbsp;300,</div></div><div class=\"2110\" style=\"display: none;\"><div style=\"display: table-cell;\"></div><div style=\"display: table-cell;\">lod_threshold&nbsp;=&nbsp;2000,</div></div><div class=\"2110\" style=\"display: none;\"><div style=\"display: table-cell;\"></div><div style=\"display: table-cell;\">lod_timeout&nbsp;=&nbsp;500,</div></div><div class=\"2110\" style=\"display: none;\"><div style=\"display: table-cell;\"></div><div style=\"display: table-cell;\">margin&nbsp;=&nbsp;(0, 0, 0, 0),</div></div><div class=\"2110\" style=\"display: none;\"><div style=\"display: table-cell;\"></div><div style=\"display: table-cell;\">match_aspect&nbsp;=&nbsp;False,</div></div><div class=\"2110\" style=\"display: none;\"><div style=\"display: table-cell;\"></div><div style=\"display: table-cell;\">max_height&nbsp;=&nbsp;None,</div></div><div class=\"2110\" style=\"display: none;\"><div style=\"display: table-cell;\"></div><div style=\"display: table-cell;\">max_width&nbsp;=&nbsp;None,</div></div><div class=\"2110\" style=\"display: none;\"><div style=\"display: table-cell;\"></div><div style=\"display: table-cell;\">min_border&nbsp;=&nbsp;5,</div></div><div class=\"2110\" style=\"display: none;\"><div style=\"display: table-cell;\"></div><div style=\"display: table-cell;\">min_border_bottom&nbsp;=&nbsp;None,</div></div><div class=\"2110\" style=\"display: none;\"><div style=\"display: table-cell;\"></div><div style=\"display: table-cell;\">min_border_left&nbsp;=&nbsp;None,</div></div><div class=\"2110\" style=\"display: none;\"><div style=\"display: table-cell;\"></div><div style=\"display: table-cell;\">min_border_right&nbsp;=&nbsp;None,</div></div><div class=\"2110\" style=\"display: none;\"><div style=\"display: table-cell;\"></div><div style=\"display: table-cell;\">min_border_top&nbsp;=&nbsp;None,</div></div><div class=\"2110\" style=\"display: none;\"><div style=\"display: table-cell;\"></div><div style=\"display: table-cell;\">min_height&nbsp;=&nbsp;None,</div></div><div class=\"2110\" style=\"display: none;\"><div style=\"display: table-cell;\"></div><div style=\"display: table-cell;\">min_width&nbsp;=&nbsp;None,</div></div><div class=\"2110\" style=\"display: none;\"><div style=\"display: table-cell;\"></div><div style=\"display: table-cell;\">name&nbsp;=&nbsp;None,</div></div><div class=\"2110\" style=\"display: none;\"><div style=\"display: table-cell;\"></div><div style=\"display: table-cell;\">outline_line_alpha&nbsp;=&nbsp;{'value': 1.0},</div></div><div class=\"2110\" style=\"display: none;\"><div style=\"display: table-cell;\"></div><div style=\"display: table-cell;\">outline_line_cap&nbsp;=&nbsp;'butt',</div></div><div class=\"2110\" style=\"display: none;\"><div style=\"display: table-cell;\"></div><div style=\"display: table-cell;\">outline_line_color&nbsp;=&nbsp;{'value': '#e5e5e5'},</div></div><div class=\"2110\" style=\"display: none;\"><div style=\"display: table-cell;\"></div><div style=\"display: table-cell;\">outline_line_dash&nbsp;=&nbsp;[],</div></div><div class=\"2110\" style=\"display: none;\"><div style=\"display: table-cell;\"></div><div style=\"display: table-cell;\">outline_line_dash_offset&nbsp;=&nbsp;0,</div></div><div class=\"2110\" style=\"display: none;\"><div style=\"display: table-cell;\"></div><div style=\"display: table-cell;\">outline_line_join&nbsp;=&nbsp;'bevel',</div></div><div class=\"2110\" style=\"display: none;\"><div style=\"display: table-cell;\"></div><div style=\"display: table-cell;\">outline_line_width&nbsp;=&nbsp;{'value': 1},</div></div><div class=\"2110\" style=\"display: none;\"><div style=\"display: table-cell;\"></div><div style=\"display: table-cell;\">output_backend&nbsp;=&nbsp;'canvas',</div></div><div class=\"2110\" style=\"display: none;\"><div style=\"display: table-cell;\"></div><div style=\"display: table-cell;\">plot_height&nbsp;=&nbsp;400,</div></div><div class=\"2110\" style=\"display: none;\"><div style=\"display: table-cell;\"></div><div style=\"display: table-cell;\">plot_width&nbsp;=&nbsp;600,</div></div><div class=\"2110\" style=\"display: none;\"><div style=\"display: table-cell;\"></div><div style=\"display: table-cell;\">renderers&nbsp;=&nbsp;[GlyphRenderer(id='1980', ...)],</div></div><div class=\"2110\" style=\"display: none;\"><div style=\"display: table-cell;\"></div><div style=\"display: table-cell;\">reset_policy&nbsp;=&nbsp;'standard',</div></div><div class=\"2110\" style=\"display: none;\"><div style=\"display: table-cell;\"></div><div style=\"display: table-cell;\">right&nbsp;=&nbsp;[],</div></div><div class=\"2110\" style=\"display: none;\"><div style=\"display: table-cell;\"></div><div style=\"display: table-cell;\">sizing_mode&nbsp;=&nbsp;None,</div></div><div class=\"2110\" style=\"display: none;\"><div style=\"display: table-cell;\"></div><div style=\"display: table-cell;\">subscribed_events&nbsp;=&nbsp;[],</div></div><div class=\"2110\" style=\"display: none;\"><div style=\"display: table-cell;\"></div><div style=\"display: table-cell;\">tags&nbsp;=&nbsp;[],</div></div><div class=\"2110\" style=\"display: none;\"><div style=\"display: table-cell;\"></div><div style=\"display: table-cell;\">title&nbsp;=&nbsp;Title(id='2047', ...),</div></div><div class=\"2110\" style=\"display: none;\"><div style=\"display: table-cell;\"></div><div style=\"display: table-cell;\">title_location&nbsp;=&nbsp;'above',</div></div><div class=\"2110\" style=\"display: none;\"><div style=\"display: table-cell;\"></div><div style=\"display: table-cell;\">toolbar&nbsp;=&nbsp;Toolbar(id='1970', ...),</div></div><div class=\"2110\" style=\"display: none;\"><div style=\"display: table-cell;\"></div><div style=\"display: table-cell;\">toolbar_location&nbsp;=&nbsp;'right',</div></div><div class=\"2110\" style=\"display: none;\"><div style=\"display: table-cell;\"></div><div style=\"display: table-cell;\">toolbar_sticky&nbsp;=&nbsp;True,</div></div><div class=\"2110\" style=\"display: none;\"><div style=\"display: table-cell;\"></div><div style=\"display: table-cell;\">visible&nbsp;=&nbsp;True,</div></div><div class=\"2110\" style=\"display: none;\"><div style=\"display: table-cell;\"></div><div style=\"display: table-cell;\">width&nbsp;=&nbsp;None,</div></div><div class=\"2110\" style=\"display: none;\"><div style=\"display: table-cell;\"></div><div style=\"display: table-cell;\">width_policy&nbsp;=&nbsp;'auto',</div></div><div class=\"2110\" style=\"display: none;\"><div style=\"display: table-cell;\"></div><div style=\"display: table-cell;\">x_range&nbsp;=&nbsp;DataRange1d(id='1946', ...),</div></div><div class=\"2110\" style=\"display: none;\"><div style=\"display: table-cell;\"></div><div style=\"display: table-cell;\">x_scale&nbsp;=&nbsp;LinearScale(id='1950', ...),</div></div><div class=\"2110\" style=\"display: none;\"><div style=\"display: table-cell;\"></div><div style=\"display: table-cell;\">y_range&nbsp;=&nbsp;DataRange1d(id='1948', ...),</div></div><div class=\"2110\" style=\"display: none;\"><div style=\"display: table-cell;\"></div><div style=\"display: table-cell;\">y_scale&nbsp;=&nbsp;LinearScale(id='1952', ...))</div></div></div>\n",
       "<script>\n",
       "(function() {\n",
       "  var expanded = false;\n",
       "  var ellipsis = document.getElementById(\"2111\");\n",
       "  ellipsis.addEventListener(\"click\", function() {\n",
       "    var rows = document.getElementsByClassName(\"2110\");\n",
       "    for (var i = 0; i < rows.length; i++) {\n",
       "      var el = rows[i];\n",
       "      el.style.display = expanded ? \"none\" : \"table-row\";\n",
       "    }\n",
       "    ellipsis.innerHTML = expanded ? \"&hellip;)\" : \"&lsaquo;&lsaquo;&lsaquo;\";\n",
       "    expanded = !expanded;\n",
       "  });\n",
       "})();\n",
       "</script>\n"
      ],
      "text/plain": [
       "Figure(id='1945', ...)"
      ]
     },
     "execution_count": 95,
     "metadata": {},
     "output_type": "execute_result"
    }
   ],
   "source": [
    "draw_vectors(phrase_vectors_2d[:, 0], phrase_vectors_2d[:, 1],\n",
    "             phrase=[phrase[:50] for phrase in chosen_phrases],\n",
    "             radius=20,)"
   ]
  },
  {
   "cell_type": "markdown",
   "metadata": {},
   "source": [
    "Finally, let's build a simple \"similar question\" engine with phrase embeddings we've built."
   ]
  },
  {
   "cell_type": "code",
   "execution_count": 96,
   "metadata": {},
   "outputs": [],
   "source": [
    "# compute vector embedding for all lines in data\n",
    "data_vectors = np.array([get_phrase_embedding(l) for l in data])"
   ]
  },
  {
   "cell_type": "code",
   "execution_count": 161,
   "metadata": {},
   "outputs": [],
   "source": [
    "def find_nearest(query, k=10):\n",
    "    \"\"\"\n",
    "    given text line (query), return k most similar lines from data, sorted from most to least similar\n",
    "    similarity should be measured as cosine between query and line embedding vectors\n",
    "    hint: it's okay to use global variables: data and data_vectors. see also: np.argpartition, np.argsort\n",
    "    \"\"\"\n",
    "    query_emb = get_phrase_embedding(query)\n",
    "    similarities = []\n",
    "    for word_emb in data_vectors:\n",
    "        if not np.isfinite(word_emb).all():\n",
    "            continue\n",
    "        word_len = (word_emb * word_emb).sum()\n",
    "        similarity = (query_emb * word_emb).sum()\n",
    "        if abs(word_len) > 1e-5:\n",
    "            similarity /= word_len\n",
    "        similarities.append(similarity)\n",
    "    similarities = np.array(similarities)\n",
    "    partition_indexes = np.argpartition(similarities, kth=-k)[-k:]\n",
    "    print(similarities.argmax(), partition_indexes)\n",
    "    print(similarities.max())\n",
    "    k_first_words = [data[x] for x in partition_indexes]\n",
    "    k_first_similarities = similarities[partition_indexes]\n",
    "    print(k_first_similarities)\n",
    "    print(k_first_words)\n",
    "    return [k_first_words[x] for x in np.argsort(k_first_similarities)][::-1]"
   ]
  },
  {
   "cell_type": "code",
   "execution_count": 162,
   "metadata": {},
   "outputs": [
    {
     "name": "stdout",
     "output_type": "stream",
     "text": [
      "225497 [455619 375873 500667 445473 498893 286156 246760 225497 386041 531261]\n",
      "1.6224589\n",
      "[1.46555   1.46686   1.4702437 1.6019021 1.4714763 1.4904205 1.4886556\n",
      " 1.6224589 1.4915996 1.4895011]\n",
      "['Why did Kangana Ranaut not get a single award for \"Tanu weds Manu returns\" whereas Deepika & Sonam got awards for \"Piku\" and \"Prem Ratan Dhan Payo\"?\\n', \"How many international science olympians (IMO, IPhO, IChO, IOI, IBO) join Carnegie Mellon's freshman class each year?\\n\", 'Any one any Idea about \"Micron Robotics \" Human Resource Department Micron Robotics www.micronrobotics.com B-5, Sector-64,Noida.?\\n', 'What do the below terms mean: GFE PSE BBBJ Russian Greek MSOG Daty CIM OWO BBBJTC BBFS?\\n', 'How did yogesh kumar (ssc cgl 2015 topper) score 190.5 marks in tier 1?\\n', 'How does one determine the standard error for regression coefficients yielded by sparse regression methods (e.g. Ridge Regression, LASSO, Elastic Net, etc.)?\\n', \"Nayan Bansal JEE Advanced rank 13060 rank got admission in IIT Ropar. Latest news by Hindustan Times. Isn't this unfair?\\n\", 'Can relation decomposition via Heath\\'s theorem \"lose\" functional dependencies?\\n', 'How do Congolese currently view Mobutu Sese Seko?\\n', 'Which is better: IIIT Hyderabad M.Tech CSE or BARC OCES?\\n']\n",
      "Can relation decomposition via Heath's theorem \"lose\" functional dependencies?\n",
      "What do the below terms mean: GFE PSE BBBJ Russian Greek MSOG Daty CIM OWO BBBJTC BBFS?\n",
      "How do Congolese currently view Mobutu Sese Seko?\n",
      "How does one determine the standard error for regression coefficients yielded by sparse regression methods (e.g. Ridge Regression, LASSO, Elastic Net, etc.)?\n",
      "Which is better: IIIT Hyderabad M.Tech CSE or BARC OCES?\n",
      "Nayan Bansal JEE Advanced rank 13060 rank got admission in IIT Ropar. Latest news by Hindustan Times. Isn't this unfair?\n",
      "How did yogesh kumar (ssc cgl 2015 topper) score 190.5 marks in tier 1?\n",
      "Any one any Idea about \"Micron Robotics \" Human Resource Department Micron Robotics www.micronrobotics.com B-5, Sector-64,Noida.?\n",
      "How many international science olympians (IMO, IPhO, IChO, IOI, IBO) join Carnegie Mellon's freshman class each year?\n",
      "Why did Kangana Ranaut not get a single award for \"Tanu weds Manu returns\" whereas Deepika & Sonam got awards for \"Piku\" and \"Prem Ratan Dhan Payo\"?\n",
      "\n"
     ]
    },
    {
     "ename": "AssertionError",
     "evalue": "",
     "output_type": "error",
     "traceback": [
      "\u001b[0;31m---------------------------------------------------------------------------\u001b[0m",
      "\u001b[0;31mAssertionError\u001b[0m                            Traceback (most recent call last)",
      "\u001b[0;32m<ipython-input-162-d2a8992e72e8>\u001b[0m in \u001b[0;36m<module>\u001b[0;34m\u001b[0m\n\u001b[1;32m      4\u001b[0m \u001b[0;34m\u001b[0m\u001b[0m\n\u001b[1;32m      5\u001b[0m \u001b[0;32massert\u001b[0m \u001b[0mlen\u001b[0m\u001b[0;34m(\u001b[0m\u001b[0mresults\u001b[0m\u001b[0;34m)\u001b[0m \u001b[0;34m==\u001b[0m \u001b[0;36m10\u001b[0m \u001b[0;32mand\u001b[0m \u001b[0misinstance\u001b[0m\u001b[0;34m(\u001b[0m\u001b[0mresults\u001b[0m\u001b[0;34m[\u001b[0m\u001b[0;36m0\u001b[0m\u001b[0;34m]\u001b[0m\u001b[0;34m,\u001b[0m \u001b[0mstr\u001b[0m\u001b[0;34m)\u001b[0m\u001b[0;34m\u001b[0m\u001b[0;34m\u001b[0m\u001b[0m\n\u001b[0;32m----> 6\u001b[0;31m \u001b[0;32massert\u001b[0m \u001b[0mresults\u001b[0m\u001b[0;34m[\u001b[0m\u001b[0;36m0\u001b[0m\u001b[0;34m]\u001b[0m \u001b[0;34m==\u001b[0m \u001b[0;34m'How do I get to the dark web?\\n'\u001b[0m\u001b[0;34m\u001b[0m\u001b[0;34m\u001b[0m\u001b[0m\n\u001b[0m\u001b[1;32m      7\u001b[0m \u001b[0;32massert\u001b[0m \u001b[0mresults\u001b[0m\u001b[0;34m[\u001b[0m\u001b[0;36m3\u001b[0m\u001b[0;34m]\u001b[0m \u001b[0;34m==\u001b[0m \u001b[0;34m'What can I do to save the world?\\n'\u001b[0m\u001b[0;34m\u001b[0m\u001b[0;34m\u001b[0m\u001b[0m\n",
      "\u001b[0;31mAssertionError\u001b[0m: "
     ]
    }
   ],
   "source": [
    "results = find_nearest(query=\"How do i enter the matrix?\", k=10)\n",
    "\n",
    "print(''.join(results))\n",
    "\n",
    "assert len(results) == 10 and isinstance(results[0], str)\n",
    "assert results[0] == 'How do I get to the dark web?\\n'\n",
    "assert results[3] == 'What can I do to save the world?\\n'"
   ]
  },
  {
   "cell_type": "code",
   "execution_count": null,
   "metadata": {},
   "outputs": [],
   "source": [
    "find_nearest(query=\"How does Trump?\", k=10)"
   ]
  },
  {
   "cell_type": "code",
   "execution_count": null,
   "metadata": {},
   "outputs": [],
   "source": [
    "find_nearest(query=\"Why don't i ask a question myself?\", k=10)"
   ]
  },
  {
   "cell_type": "markdown",
   "metadata": {
    "collapsed": true
   },
   "source": [
    "__Now what?__\n",
    "* Try running TSNE on all data, not just 1000 phrases\n",
    "* See what other embeddings are there in the model zoo: `gensim.downloader.info()`\n",
    "* Take a look at [FastText](https://github.com/facebookresearch/fastText) embeddings\n",
    "* Optimize find_nearest with locality-sensitive hashing: use [nearpy](https://github.com/pixelogik/NearPy) or `sklearn.neighbors`."
   ]
  }
 ],
 "metadata": {
  "kernelspec": {
   "display_name": "Python 3",
   "language": "python",
   "name": "python3"
  },
  "language_info": {
   "codemirror_mode": {
    "name": "ipython",
    "version": 3
   },
   "file_extension": ".py",
   "mimetype": "text/x-python",
   "name": "python",
   "nbconvert_exporter": "python",
   "pygments_lexer": "ipython3",
   "version": "3.7.3"
  }
 },
 "nbformat": 4,
 "nbformat_minor": 2
}
